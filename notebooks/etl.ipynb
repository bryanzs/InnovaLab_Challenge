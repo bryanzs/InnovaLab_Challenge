{
 "cells": [
  {
   "cell_type": "markdown",
   "metadata": {},
   "source": [
    "# InnovaLab - Data Challenge"
   ]
  },
  {
   "cell_type": "code",
   "execution_count": 1,
   "metadata": {},
   "outputs": [],
   "source": [
    "import gdown\n",
    "import requests\n",
    "import pandas as pd\n",
    "from io import StringIO\n",
    "from pathlib import Path\n",
    "from epiweeks import Year\n",
    "from bs4 import BeautifulSoup"
   ]
  },
  {
   "cell_type": "code",
   "execution_count": 2,
   "metadata": {},
   "outputs": [],
   "source": [
    "pd.set_option('display.max_colwidth', 1000)"
   ]
  },
  {
   "cell_type": "markdown",
   "metadata": {},
   "source": [
    "## Extraction"
   ]
  },
  {
   "cell_type": "code",
   "execution_count": null,
   "metadata": {},
   "outputs": [],
   "source": [
    "docs_path = Path.cwd().parent.joinpath('data')\n",
    "\n",
    "docs_path.mkdir(parents=True)\n",
    "docs_path.joinpath('external').mkdir()\n",
    "docs_path.joinpath('interim').mkdir()\n",
    "docs_path.joinpath('processed').mkdir()"
   ]
  },
  {
   "cell_type": "markdown",
   "metadata": {},
   "source": [
    "### Google Drive"
   ]
  },
  {
   "cell_type": "code",
   "execution_count": 119,
   "metadata": {},
   "outputs": [],
   "source": [
    "url_datasets = 'https://drive.google.com/drive/folders/12AHywbYCOn9bsf4nDgkMpmlBp5lSw_0q'\n",
    "\n",
    "data_path = Path.cwd().parent.joinpath('data', 'external')\n",
    "data_path_str = str(data_path)"
   ]
  },
  {
   "cell_type": "code",
   "execution_count": 21,
   "metadata": {},
   "outputs": [
    {
     "name": "stderr",
     "output_type": "stream",
     "text": [
      "Retrieving folder contents\n"
     ]
    },
    {
     "name": "stdout",
     "output_type": "stream",
     "text": [
      "Processing file 1HsbK_CHsi3vi0Tjdm4nVBiAZC_Q3K4aN districts_2017census.csv\n",
      "Processing file 1Rabz-B9Cjy3WNcGn8ITkXyesucKwRpff mintemp_20170101-20221231.csv\n",
      "Processing file 15dXzTm_VGOK_pz8jDFhL4m8lM5V29_91 population_2017-2022.csv\n"
     ]
    },
    {
     "name": "stderr",
     "output_type": "stream",
     "text": [
      "Retrieving folder contents completed\n",
      "Building directory structure\n",
      "Building directory structure completed\n",
      "Downloading...\n",
      "From: https://drive.google.com/uc?id=1HsbK_CHsi3vi0Tjdm4nVBiAZC_Q3K4aN\n",
      "To: c:\\Users\\Asus\\Documents\\Proyectos\\challenge\\data\\external\\districts_2017census.csv\n",
      "100%|██████████| 113k/113k [00:00<00:00, 756kB/s]\n",
      "Downloading...\n",
      "From: https://drive.google.com/uc?id=1Rabz-B9Cjy3WNcGn8ITkXyesucKwRpff\n",
      "To: c:\\Users\\Asus\\Documents\\Proyectos\\challenge\\data\\external\\mintemp_20170101-20221231.csv\n",
      "100%|██████████| 75.6M/75.6M [00:02<00:00, 32.2MB/s]\n",
      "Downloading...\n",
      "From: https://drive.google.com/uc?id=15dXzTm_VGOK_pz8jDFhL4m8lM5V29_91\n",
      "To: c:\\Users\\Asus\\Documents\\Proyectos\\challenge\\data\\external\\population_2017-2022.csv\n",
      "100%|██████████| 193k/193k [00:00<00:00, 1.07MB/s]\n",
      "Download completed\n"
     ]
    },
    {
     "data": {
      "text/plain": [
       "['c:\\\\Users\\\\Asus\\\\Documents\\\\Proyectos\\\\challenge\\\\data\\\\external\\\\districts_2017census.csv',\n",
       " 'c:\\\\Users\\\\Asus\\\\Documents\\\\Proyectos\\\\challenge\\\\data\\\\external\\\\mintemp_20170101-20221231.csv',\n",
       " 'c:\\\\Users\\\\Asus\\\\Documents\\\\Proyectos\\\\challenge\\\\data\\\\external\\\\population_2017-2022.csv']"
      ]
     },
     "execution_count": 21,
     "metadata": {},
     "output_type": "execute_result"
    }
   ],
   "source": [
    "gdown.download_folder(url=url_datasets, output=data_path_str, quiet=False, use_cookies=False)"
   ]
  },
  {
   "cell_type": "code",
   "execution_count": null,
   "metadata": {},
   "outputs": [],
   "source": []
  },
  {
   "cell_type": "markdown",
   "metadata": {},
   "source": [
    "### Datos Abiertos"
   ]
  },
  {
   "cell_type": "code",
   "execution_count": 24,
   "metadata": {},
   "outputs": [],
   "source": [
    "url_dengue_dataset = 'https://www.datosabiertos.gob.pe/dataset/vigilancia-epidemiol%C3%B3gica-de-dengue'"
   ]
  },
  {
   "cell_type": "code",
   "execution_count": 51,
   "metadata": {},
   "outputs": [],
   "source": [
    "headers = {\n",
    "    'User-Agent': 'Mozilla/5.0 (Windows NT 10.0; Win64; x64; rv:128.0) Gecko/20100101 Firefox/128.0'\n",
    "}"
   ]
  },
  {
   "cell_type": "code",
   "execution_count": 52,
   "metadata": {},
   "outputs": [],
   "source": [
    "r = requests.get(url_dengue_dataset, headers=headers)"
   ]
  },
  {
   "cell_type": "code",
   "execution_count": 53,
   "metadata": {},
   "outputs": [
    {
     "data": {
      "text/plain": [
       "<Response [200]>"
      ]
     },
     "execution_count": 53,
     "metadata": {},
     "output_type": "execute_result"
    }
   ],
   "source": [
    "r"
   ]
  },
  {
   "cell_type": "code",
   "execution_count": 59,
   "metadata": {},
   "outputs": [],
   "source": [
    "soup = BeautifulSoup(r.content, 'html.parser')"
   ]
  },
  {
   "cell_type": "code",
   "execution_count": 60,
   "metadata": {},
   "outputs": [
    {
     "data": {
      "text/plain": [
       "<!DOCTYPE html PUBLIC \"-//W3C//DTD XHTML+RDFa 1.0//EN\"\n",
       "  \"http://www.w3.org/MarkUp/DTD/xhtml-rdfa-1.dtd\">\n",
       "\n",
       "<html dir=\"ltr\" lang=\"es\" xmlns:content=\"http://purl.org/rss/1.0/modules/content/\" xmlns:dc=\"http://purl.org/dc/terms/\" xmlns:dcat=\"http://www.w3.org/ns/dcat#\" xmlns:foaf=\"http://xmlns.com/foaf/0.1/\" xmlns:og=\"http://ogp.me/ns#\" xmlns:owl=\"http://www.w3.org/2002/07/owl#\" xmlns:rdf=\"http://www.w3.org/1999/02/22-rdf-syntax-ns#\" xmlns:rdfs=\"http://www.w3.org/2000/01/rdf-schema#\" xmlns:rss=\"http://purl.org/rss/1.0/\" xmlns:sioc=\"http://rdfs.org/sioc/ns#\" xmlns:sioct=\"http://rdfs.org/sioc/types#\" xmlns:site=\"https://www.datosabiertos.gob.pe/ns#\" xmlns:skos=\"http://www.w3.org/2004/02/skos/core#\" xmlns:xsd=\"http://www.w3.org/2001/XMLSchema#\">\n",
       "<head profile=\"http://www.w3.org/1999/xhtml/vocab\">\n",
       "<meta content=\"IE=edge, chrome=1\" http-equiv=\"X-UA-Compatible\"/>\n",
       "<meta charset=\"utf-8\"/>\n",
       "<meta content=\"width=device-width, initial-scale=1.0\" name=\"viewport\"/>\n",
       "<meta content=\"text/html; charset=utf-8\" http-equiv=\"Content-Type\">\n",
       "<meta content=\"Drupal 7 (http://drupal.org)\" name=\"Generator\">\n",
       "<link href=\"https://www.datosabiertos.gob.pe/dataset/vigilancia-epidemiol%C3%B3gica-de-dengue.xml\" rel=\"alternate\" type=\"application/rdf+xml\"/>\n",
       "<link href=\"https://www.datosabiertos.gob.pe/sites/default/files/peru_2.png\" rel=\"shortcut icon\" type=\"image/png\"/>\n",
       "<meta content=\"width=device-width, initial-scale=1.0\" name=\"viewport\">\n",
       "<title>Vigilancia Epidemiológica de dengue | Plataforma Nacional de Datos Abiertos </title>\n",
       "<link href=\"https://www.datosabiertos.gob.pe/modules/system/system.base.css?sfyzx4\" media=\"all\" rel=\"stylesheet\" type=\"text/css\"/>\n",
       "<link href=\"https://www.datosabiertos.gob.pe/modules/system/system.messages.css?sfyzx4\" media=\"all\" rel=\"stylesheet\" type=\"text/css\"/>\n",
       "<link href=\"https://www.datosabiertos.gob.pe/modules/system/system.theme.css?sfyzx4\" media=\"all\" rel=\"stylesheet\" type=\"text/css\"/>\n",
       "<link href=\"https://www.datosabiertos.gob.pe/profiles/dkan/modules/contrib/jquery_update/replace/ui/themes/base/minified/jquery.ui.core.min.css?sfyzx4\" media=\"all\" rel=\"stylesheet\" type=\"text/css\"/>\n",
       "<link href=\"https://www.datosabiertos.gob.pe/profiles/dkan/modules/contrib/jquery_update/replace/ui/themes/base/minified/jquery.ui.theme.min.css?sfyzx4\" media=\"all\" rel=\"stylesheet\" type=\"text/css\"/>\n",
       "<link href=\"https://www.datosabiertos.gob.pe/profiles/dkan/modules/contrib/jquery_update/replace/ui/themes/base/minified/jquery.ui.tabs.min.css?sfyzx4\" media=\"all\" rel=\"stylesheet\" type=\"text/css\"/>\n",
       "<link href=\"https://www.datosabiertos.gob.pe/modules/comment/comment.css?sfyzx4\" media=\"all\" rel=\"stylesheet\" type=\"text/css\"/>\n",
       "<link href=\"https://www.datosabiertos.gob.pe/profiles/dkan/modules/contrib/date/date_api/date.css?sfyzx4\" media=\"all\" rel=\"stylesheet\" type=\"text/css\"/>\n",
       "<link href=\"https://www.datosabiertos.gob.pe/profiles/dkan/modules/contrib/date/date_popup/themes/datepicker.1.7.css?sfyzx4\" media=\"all\" rel=\"stylesheet\" type=\"text/css\"/>\n",
       "<link href=\"https://www.datosabiertos.gob.pe/profiles/dkan/modules/dkan/dkan_data_story/css/dkan_data_story.css?sfyzx4\" media=\"all\" rel=\"stylesheet\" type=\"text/css\"/>\n",
       "<link href=\"https://www.datosabiertos.gob.pe/profiles/dkan/modules/dkan/dkan_harvest/modules/dkan_harvest_dashboard/css/dkan_harvest_dashboard.css?sfyzx4\" media=\"all\" rel=\"stylesheet\" type=\"text/css\"/>\n",
       "<link href=\"https://www.datosabiertos.gob.pe/modules/field/theme/field.css?sfyzx4\" media=\"all\" rel=\"stylesheet\" type=\"text/css\"/>\n",
       "<link href=\"https://www.datosabiertos.gob.pe/profiles/dkan/modules/contrib/field_hidden/field_hidden.css?sfyzx4\" media=\"all\" rel=\"stylesheet\" type=\"text/css\"/>\n",
       "<link href=\"https://www.datosabiertos.gob.pe/modules/node/node.css?sfyzx4\" media=\"all\" rel=\"stylesheet\" type=\"text/css\"/>\n",
       "<link href=\"https://www.datosabiertos.gob.pe/profiles/dkan/modules/contrib/panopoly_widgets/panopoly-widgets.css?sfyzx4\" media=\"all\" rel=\"stylesheet\" type=\"text/css\"/>\n",
       "<link href=\"https://www.datosabiertos.gob.pe/profiles/dkan/modules/contrib/panopoly_widgets/panopoly-widgets-spotlight.css?sfyzx4\" media=\"all\" rel=\"stylesheet\" type=\"text/css\"/>\n",
       "<link href=\"https://www.datosabiertos.gob.pe/profiles/dkan/modules/contrib/radix_layouts/radix_layouts.css?sfyzx4\" media=\"all\" rel=\"stylesheet\" type=\"text/css\"/>\n",
       "<link href=\"https://www.datosabiertos.gob.pe/modules/user/user.css?sfyzx4\" media=\"all\" rel=\"stylesheet\" type=\"text/css\"/>\n",
       "<link href=\"https://www.datosabiertos.gob.pe/profiles/dkan/modules/contrib/views/css/views.css?sfyzx4\" media=\"all\" rel=\"stylesheet\" type=\"text/css\"/>\n",
       "<link href=\"https://www.datosabiertos.gob.pe/sites/all/modules/ckeditor/css/ckeditor.css?sfyzx4\" media=\"all\" rel=\"stylesheet\" type=\"text/css\"/>\n",
       "<link href=\"https://www.datosabiertos.gob.pe/profiles/dkan/modules/contrib/ctools/css/ctools.css?sfyzx4\" media=\"all\" rel=\"stylesheet\" type=\"text/css\"/>\n",
       "<link href=\"https://www.datosabiertos.gob.pe/profiles/dkan/modules/contrib/panels/css/panels.css?sfyzx4\" media=\"all\" rel=\"stylesheet\" type=\"text/css\"/>\n",
       "<link href=\"https://www.datosabiertos.gob.pe/profiles/dkan/modules/dkan/dkan_topics/theme/dkan_topics.css?sfyzx4\" media=\"all\" rel=\"stylesheet\" type=\"text/css\"/>\n",
       "<link href=\"//fonts.googleapis.com/css?family=Open+Sans::400,300,700\" media=\"all\" rel=\"stylesheet\" type=\"text/css\"/>\n",
       "<link href=\"https://www.datosabiertos.gob.pe/sites/default/files/font-icon-select-general-generated-1.css?sfyzx4\" media=\"all\" rel=\"stylesheet\" type=\"text/css\"/>\n",
       "<link href=\"https://www.datosabiertos.gob.pe/profiles/dkan/modules/dkan/dkan_dataset/css/dkan_dataset.css?sfyzx4\" media=\"all\" rel=\"stylesheet\" type=\"text/css\"/>\n",
       "<link href=\"https://www.datosabiertos.gob.pe/profiles/dkan/themes/nuboot_radix/assets/css/nuboot_radix.style.css?sfyzx4\" media=\"all\" rel=\"stylesheet\" type=\"text/css\"/>\n",
       "<link href=\"https://www.datosabiertos.gob.pe/profiles/dkan/themes/nuboot_radix/assets/css/dkan-flaticon.css?sfyzx4\" media=\"all\" rel=\"stylesheet\" type=\"text/css\"/>\n",
       "<link href=\"https://www.datosabiertos.gob.pe/profiles/dkan/themes/nuboot_radix/assets/css/dkan-topics.css?sfyzx4\" media=\"all\" rel=\"stylesheet\" type=\"text/css\"/>\n",
       "<link href=\"https://www.datosabiertos.gob.pe/profiles/dkan/themes/nuboot_radix/assets/css/print.css?sfyzx4\" media=\"print\" rel=\"stylesheet\" type=\"text/css\"/>\n",
       "<link href=\"https://www.datosabiertos.gob.pe/sites/default/files/colorizer/nuboot_radix-d1d9705d.css\" media=\"all\" rel=\"stylesheet\" type=\"text/css\"/>\n",
       "<!--[if lte IE 9]>\n",
       "<link type=\"text/css\" rel=\"stylesheet\" href=\"https://www.datosabiertos.gob.pe/profiles/dkan/themes/nuboot_radix/assets/css/ie.css?sfyzx4\" media=\"all\" />\n",
       "<![endif]-->\n",
       "<!--[if IE 9]>\n",
       "<link type=\"text/css\" rel=\"stylesheet\" href=\"https://www.datosabiertos.gob.pe/profiles/dkan/themes/nuboot_radix/assets/css/ie9.css?sfyzx4\" media=\"all\" />\n",
       "<![endif]-->\n",
       "<!--[if IE 8]>\n",
       "<link type=\"text/css\" rel=\"stylesheet\" href=\"https://www.datosabiertos.gob.pe/profiles/dkan/themes/nuboot_radix/assets/css/ie8.css?sfyzx4\" media=\"all\" />\n",
       "<![endif]-->\n",
       "<link href=\"https://www.datosabiertos.gob.pe/profiles/dkan/modules/contrib/panopoly_images/panopoly-images.css?sfyzx4\" media=\"all\" rel=\"stylesheet\" type=\"text/css\"/>\n",
       "<link href=\"https://www.datosabiertos.gob.pe/sites/default/files/fontyourface/font.css?sfyzx4\" media=\"all\" rel=\"stylesheet\" type=\"text/css\"/>\n",
       "<link href=\"http://fonts.googleapis.com/css?family=Roboto:500&amp;subset=latin-ext\" media=\"all\" rel=\"stylesheet\" type=\"text/css\"/>\n",
       "<link href=\"https://www.datosabiertos.gob.pe/sites/default/files/css_injector/css_injector_1.css?sfyzx4\" media=\"all\" rel=\"stylesheet\" type=\"text/css\"/>\n",
       "<!-- HTML5 element support for IE6-8 -->\n",
       "<!--[if lt IE 9]>\n",
       "    <script src=\"//html5shiv.googlecode.com/svn/trunk/html5.js\"></script>\n",
       "    <link href=\"/css/ie.css\" media=\"screen\" rel=\"stylesheet\" type=\"text/css\" />\n",
       "  <![endif]-->\n",
       "<script src=\"https://www.datosabiertos.gob.pe/profiles/dkan/modules/contrib/jquery_update/replace/jquery/1.10/jquery.min.js?v=1.10.2\" type=\"text/javascript\"></script>\n",
       "<script src=\"https://www.datosabiertos.gob.pe/misc/jquery.once.js?v=1.2\" type=\"text/javascript\"></script>\n",
       "<script src=\"https://www.datosabiertos.gob.pe/misc/drupal.js?sfyzx4\" type=\"text/javascript\"></script>\n",
       "<script src=\"https://maxcdn.bootstrapcdn.com/bootstrap/3.1.1/js/bootstrap.min.js\" type=\"text/javascript\"></script>\n",
       "<script src=\"https://www.datosabiertos.gob.pe/profiles/dkan/modules/contrib/jquery_update/replace/ui/ui/minified/jquery.ui.core.min.js?v=1.10.2\" type=\"text/javascript\"></script>\n",
       "<script src=\"https://www.datosabiertos.gob.pe/profiles/dkan/modules/contrib/jquery_update/replace/ui/ui/minified/jquery.ui.widget.min.js?v=1.10.2\" type=\"text/javascript\"></script>\n",
       "<script src=\"https://www.datosabiertos.gob.pe/profiles/dkan/modules/contrib/jquery_update/replace/ui/ui/minified/jquery.ui.tabs.min.js?v=1.10.2\" type=\"text/javascript\"></script>\n",
       "<script src=\"https://www.datosabiertos.gob.pe/profiles/dkan/modules/contrib/panopoly_images/panopoly-images.js?sfyzx4\" type=\"text/javascript\"></script>\n",
       "<script src=\"https://www.datosabiertos.gob.pe/profiles/dkan/modules/dkan/dkan_plugins/js/colorPicker.behavior.js?sfyzx4\" type=\"text/javascript\"></script>\n",
       "<script src=\"https://www.datosabiertos.gob.pe/profiles/dkan/modules/contrib/recline/js/jsondataview.js?sfyzx4\" type=\"text/javascript\"></script>\n",
       "<script src=\"https://www.datosabiertos.gob.pe/profiles/dkan/modules/contrib/recline/js/restdataview.js?sfyzx4\" type=\"text/javascript\"></script>\n",
       "<script src=\"https://www.datosabiertos.gob.pe/sites/default/files/languages/es_Q4h6deJauk8zqiURXymB7OrLlrPCSRfKKSty_Br66d8.js?sfyzx4\" type=\"text/javascript\"></script>\n",
       "<script src=\"https://www.datosabiertos.gob.pe/profiles/dkan/libraries/jquery.imagesloaded/jquery.imagesloaded.min.js?sfyzx4\" type=\"text/javascript\"></script>\n",
       "<script src=\"https://www.datosabiertos.gob.pe/profiles/dkan/modules/contrib/field_group/field_group.js?sfyzx4\" type=\"text/javascript\"></script>\n",
       "<script src=\"https://www.datosabiertos.gob.pe/profiles/dkan/modules/dkan/dkan_dataset/js/dataset.js?sfyzx4\" type=\"text/javascript\"></script>\n",
       "<script src=\"https://www.datosabiertos.gob.pe/profiles/dkan/modules/dkan/dkan_dataset/js/dkan_tooltip.js?sfyzx4\" type=\"text/javascript\"></script>\n",
       "<script src=\"https://www.datosabiertos.gob.pe/sites/all/modules/google_analytics/googleanalytics.js?sfyzx4\" type=\"text/javascript\"></script>\n",
       "<script src=\"https://www.googletagmanager.com/gtag/js?id=G-P1P4D2R84J\" type=\"text/javascript\"></script>\n",
       "<script type=\"text/javascript\">\n",
       "<!--//--><![CDATA[//><!--\n",
       "window.dataLayer = window.dataLayer || [];function gtag(){dataLayer.push(arguments)};gtag(\"js\", new Date());gtag(\"set\", \"developer_id.dMDhkMT\", true);gtag(\"config\", \"G-P1P4D2R84J\", {\"groups\":\"default\",\"anonymize_ip\":true});\n",
       "//--><!]]>\n",
       "</script>\n",
       "<script src=\"https://www.datosabiertos.gob.pe/profiles/dkan/themes/contrib/radix/assets/js/radix.script.js?sfyzx4\" type=\"text/javascript\"></script>\n",
       "<script src=\"https://www.datosabiertos.gob.pe/profiles/dkan/themes/nuboot_radix/assets/js/nuboot_radix.script.js?sfyzx4\" type=\"text/javascript\"></script>\n",
       "<script type=\"text/javascript\">\n",
       "<!--//--><![CDATA[//><!--\n",
       "jQuery.extend(Drupal.settings, {\"basePath\":\"\\/\",\"pathPrefix\":\"\",\"ajaxPageState\":{\"theme\":\"nuboot_radix\",\"theme_token\":\"ubmUZalbQN49qA35Oa5k4ZQ_rc1-YiF4TuSG6bRkv90\",\"js\":{\"profiles\\/dkan\\/modules\\/contrib\\/panopoly_widgets\\/panopoly-widgets.js\":1,\"profiles\\/dkan\\/modules\\/contrib\\/panopoly_widgets\\/panopoly-widgets-spotlight.js\":1,\"profiles\\/dkan\\/modules\\/contrib\\/jquery_update\\/replace\\/jquery\\/1.10\\/jquery.min.js\":1,\"misc\\/jquery.once.js\":1,\"misc\\/drupal.js\":1,\"https:\\/\\/maxcdn.bootstrapcdn.com\\/bootstrap\\/3.1.1\\/js\\/bootstrap.min.js\":1,\"profiles\\/dkan\\/modules\\/contrib\\/jquery_update\\/replace\\/ui\\/ui\\/minified\\/jquery.ui.core.min.js\":1,\"profiles\\/dkan\\/modules\\/contrib\\/jquery_update\\/replace\\/ui\\/ui\\/minified\\/jquery.ui.widget.min.js\":1,\"profiles\\/dkan\\/modules\\/contrib\\/jquery_update\\/replace\\/ui\\/ui\\/minified\\/jquery.ui.tabs.min.js\":1,\"profiles\\/dkan\\/modules\\/contrib\\/panopoly_images\\/panopoly-images.js\":1,\"profiles\\/dkan\\/modules\\/dkan\\/dkan_plugins\\/js\\/colorPicker.behavior.js\":1,\"profiles\\/dkan\\/modules\\/contrib\\/recline\\/js\\/jsondataview.js\":1,\"profiles\\/dkan\\/modules\\/contrib\\/recline\\/js\\/restdataview.js\":1,\"public:\\/\\/languages\\/es_Q4h6deJauk8zqiURXymB7OrLlrPCSRfKKSty_Br66d8.js\":1,\"profiles\\/dkan\\/libraries\\/jquery.imagesloaded\\/jquery.imagesloaded.min.js\":1,\"profiles\\/dkan\\/modules\\/contrib\\/field_group\\/field_group.js\":1,\"profiles\\/dkan\\/modules\\/dkan\\/dkan_dataset\\/js\\/dataset.js\":1,\"profiles\\/dkan\\/modules\\/dkan\\/dkan_dataset\\/js\\/dkan_tooltip.js\":1,\"sites\\/all\\/modules\\/google_analytics\\/googleanalytics.js\":1,\"https:\\/\\/www.googletagmanager.com\\/gtag\\/js?id=G-P1P4D2R84J\":1,\"0\":1,\"profiles\\/dkan\\/themes\\/contrib\\/radix\\/assets\\/js\\/radix.script.js\":1,\"profiles\\/dkan\\/themes\\/nuboot_radix\\/assets\\/js\\/nuboot_radix.script.js\":1},\"css\":{\"modules\\/system\\/system.base.css\":1,\"modules\\/system\\/system.messages.css\":1,\"modules\\/system\\/system.theme.css\":1,\"misc\\/ui\\/jquery.ui.core.css\":1,\"misc\\/ui\\/jquery.ui.theme.css\":1,\"misc\\/ui\\/jquery.ui.tabs.css\":1,\"modules\\/comment\\/comment.css\":1,\"profiles\\/dkan\\/modules\\/contrib\\/date\\/date_api\\/date.css\":1,\"profiles\\/dkan\\/modules\\/contrib\\/date\\/date_popup\\/themes\\/datepicker.1.7.css\":1,\"profiles\\/dkan\\/modules\\/dkan\\/dkan_data_story\\/css\\/dkan_data_story.css\":1,\"profiles\\/dkan\\/modules\\/dkan\\/dkan_harvest\\/modules\\/dkan_harvest_dashboard\\/css\\/dkan_harvest_dashboard.css\":1,\"modules\\/field\\/theme\\/field.css\":1,\"profiles\\/dkan\\/modules\\/contrib\\/field_hidden\\/field_hidden.css\":1,\"modules\\/node\\/node.css\":1,\"profiles\\/dkan\\/modules\\/contrib\\/panopoly_widgets\\/panopoly-widgets.css\":1,\"profiles\\/dkan\\/modules\\/contrib\\/panopoly_widgets\\/panopoly-widgets-spotlight.css\":1,\"profiles\\/dkan\\/modules\\/contrib\\/radix_layouts\\/radix_layouts.css\":1,\"modules\\/user\\/user.css\":1,\"profiles\\/dkan\\/modules\\/contrib\\/views\\/css\\/views.css\":1,\"sites\\/all\\/modules\\/ckeditor\\/css\\/ckeditor.css\":1,\"profiles\\/dkan\\/modules\\/contrib\\/ctools\\/css\\/ctools.css\":1,\"profiles\\/dkan\\/modules\\/contrib\\/panels\\/css\\/panels.css\":1,\"profiles\\/dkan\\/modules\\/dkan\\/dkan_topics\\/theme\\/dkan_topics.css\":1,\"\\/\\/fonts.googleapis.com\\/css?family=Open+Sans::400,300,700\":1,\"public:\\/\\/font-icon-select-general-generated-1.css\":1,\"profiles\\/dkan\\/modules\\/dkan\\/dkan_dataset\\/css\\/dkan_dataset.css\":1,\"profiles\\/dkan\\/modules\\/dkan\\/dkan_dataset\\/css\\/dkan-flaticon.css\":1,\"profiles\\/dkan\\/themes\\/nuboot_radix\\/assets\\/css\\/nuboot_radix.style.css\":1,\"profiles\\/dkan\\/themes\\/nuboot_radix\\/assets\\/css\\/dkan-flaticon.css\":1,\"profiles\\/dkan\\/themes\\/nuboot_radix\\/assets\\/css\\/dkan-topics.css\":1,\"profiles\\/dkan\\/themes\\/nuboot_radix\\/assets\\/css\\/print.css\":1,\"https:\\/\\/www.datosabiertos.gob.pe\\/sites\\/default\\/files\\/colorizer\\/nuboot_radix-d1d9705d.css\":1,\"profiles\\/dkan\\/themes\\/nuboot_radix\\/assets\\/css\\/ie.css\":1,\"profiles\\/dkan\\/themes\\/nuboot_radix\\/assets\\/css\\/ie9.css\":1,\"profiles\\/dkan\\/themes\\/nuboot_radix\\/assets\\/css\\/ie8.css\":1,\"profiles\\/dkan\\/modules\\/contrib\\/panopoly_images\\/panopoly-images.css\":1,\"sites\\/default\\/files\\/fontyourface\\/font.css\":1,\"http:\\/\\/fonts.googleapis.com\\/css?family=Roboto:500\\u0026subset=latin-ext\":1,\"public:\\/\\/css_injector\\/css_injector_1.css\":1}},\"field_group\":{\"table\":\"full\"},\"better_exposed_filters\":{\"views\":{\"group_block\":{\"displays\":{\"block\":{\"filters\":[]}}}}},\"googleanalytics\":{\"account\":[\"G-P1P4D2R84J\"],\"trackOutbound\":1,\"trackMailto\":1,\"trackDownload\":1,\"trackDownloadExtensions\":\"7z|aac|arc|arj|asf|asx|avi|bin|csv|doc(x|m)?|dot(x|m)?|exe|flv|gif|gz|gzip|hqx|jar|jpe?g|js|mp(2|3|4|e?g)|mov(ie)?|msi|msp|pdf|phps|png|ppt(x|m)?|pot(x|m)?|pps(x|m)?|ppam|sld(x|m)?|thmx|qtm?|ra(m|r)?|sea|sit|tar|tgz|torrent|txt|wav|wma|wmv|wpd|xls(x|m|b)?|xlt(x|m)|xlam|xml|z|zip\"}});\n",
       "//--><!]]>\n",
       "</script>\n",
       "</meta></meta></meta></head>\n",
       "<body class=\"html not-front not-logged-in no-sidebars page-node page-node- page-node-16351 node-type-dataset explore i18n-es panel-layout-radix_bryant panel-region-contentmain panel-region-sidebar\">\n",
       "<div id=\"skip-link\">\n",
       "<a class=\"element-invisible element-focusable\" href=\"#main-content\">Pasar al contenido principal</a>\n",
       "</div>\n",
       "<header class=\"header\" id=\"header\">\n",
       "<div class=\"branding container custom\">\n",
       "<a class=\"logo navbar-btn pull-left\" href=\"/\" title=\"Inicio\">\n",
       "<img alt=\"Inicio\" src=\"https://www.datosabiertos.gob.pe/sites/default/files/img_data_0.png\"/>\n",
       "</a>\n",
       "<!-- views exposed search -->\n",
       "<!-- views exposed search -->\n",
       "</div>\n",
       "</header>\n",
       "<!-- Google Tag Manager -->\n",
       "<script>(function(w,d,s,l,i){w[l]=w[l]||[];w[l].push({'gtm.start':\n",
       "new Date().getTime(),event:'gtm.js'});var f=d.getElementsByTagName(s)[0],\n",
       "j=d.createElement(s),dl=l!='dataLayer'?'&l='+l:'';j.async=true;j.src=\n",
       "'https://www.googletagmanager.com/gtm.js?id='+i+dl;f.parentNode.insertBefore(j,f);\n",
       "})(window,document,'script','dataLayer','GTM-T27JMRT');</script>\n",
       "<!-- End Google Tag Manager -->\n",
       "<!-- Google Tag Manager (noscript) -->\n",
       "<noscript><iframe height=\"0\" src=\"https://www.googletagmanager.com/ns.html?id=GTM-T27JMRT\" style=\"display:none;visibility:hidden\" width=\"0\"></iframe></noscript>\n",
       "<!-- End Google Tag Manager (noscript) -->\n",
       "<div class=\"post-header\">\n",
       "<div class=\"branding container\">\n",
       "<div class=\"izquierda\">\n",
       "<h2>Datos Abiertos</h2>\n",
       "</div>\n",
       "<div class=\"derecha\">\n",
       "<p>Marco de Gobernanza de Datos del Estado Peruano está constituido por instrumentos técnicos y normativos que establecen los requisitos mínimos que las entidades de la Administración Pública deben implementar conforme a su contexto legal, tecnológico y estratégico para asegurar un nivel básico y aceptable para la recopilación, procesamiento, publicación, almacenamiento y apertura de los datos que administre.</p>\n",
       "<!--    <a class=\"btn btn-primary\" href=\"https://www.datosabiertos.gob.pe/search/field_topic/covid-19-917?sort_by=changed\" role=\"button\">COVID-19</a> <a class=\"btn btn-primary\" href=\"https://www.datosabiertos.gob.pe/search/field_topic/exprésate-perú-con-datos-1466?sort_by=changed\" role=\"button\">Exprésate Perú</a>  -->\n",
       "</div>\n",
       "</div>\n",
       "</div>\n",
       "<div id=\"main-wrapper\">\n",
       "<div class=\"main container\" id=\"main\">\n",
       "<ul class=\"breadcrumb\"><li class=\"home-link\"><a href=\"/\"><i class=\"fa fa fa-home\"></i><span> Home</span></a></li><li><a href=\"/\">Home</a></li><li><a href=\"/dataset\">Datasets</a></li><li class=\"active-trail\">Vigilancia Epidemiológica de dengue</li></ul>\n",
       "<div class=\"main-row\">\n",
       "<section>\n",
       "<a id=\"main-content\"></a>\n",
       "<div class=\"region region-content\">\n",
       "<div class=\"panel-display bryant clearfix radix-bryant\">\n",
       "<div class=\"container-fluid\">\n",
       "<div class=\"row\">\n",
       "<div class=\"col-md-3 radix-layouts-sidebar panel-panel\">\n",
       "<div class=\"panel-panel-inner\">\n",
       "<div class=\"panel-pane pane-block pane-dkan-sitewide-dkan-sitewide-license\">\n",
       "<h2 class=\"pane-title\">\n",
       "      Licencia    </h2>\n",
       "<div class=\"pane-content\">\n",
       "<a href=\"http://opendefinition.org/licenses/odc-by/\">Open Data Commons Attribution License</a><br/><a href=\"http://opendefinition.org/licenses/odc-by/\"><img alt=\"[Open Data]\" class=\"open-data\" src=\"https://assets.okfn.org/images/ok_buttons/od_80x15_blue.png\"/></a> </div>\n",
       "</div>\n",
       "<div class=\"panel-pane pane-block pane-dkan-sitewide-dkan-sitewide-other-access\">\n",
       "<h2 class=\"pane-title\">\n",
       "      Otros accesos    </h2>\n",
       "<div class=\"pane-content\">\n",
       "    La información en esta página (los metadatos del conjunto de datos) también está disponible en formato (json)<p class=\"btn-group\"><a class=\"btn\" href=\"https://www.datosabiertos.gob.pe/api/3/action/package_show?id=2c3b2955-6252-4b9d-abd3-caeb61ccda39\" title=\"json view of content\"><i class=\"ckan-icon ckan-icon-json\"></i> Ver Formato</a></p> </div>\n",
       "</div>\n",
       "<div class=\"panel-pane pane-block pane-dkan-sitewide-dkan-sitewide-social\">\n",
       "<h2 class=\"pane-title\">\n",
       "      Social    </h2>\n",
       "<div class=\"pane-content\">\n",
       "<div class=\"item-list\"><ul class=\"nav nav-simple social-links\"><li class=\"nav-item first\"><a href=\"https://twitter.com/share?url=https%3A//www.datosabiertos.gob.pe/dataset/vigilancia-epidemiol%25C3%25B3gica-de-dengue&amp;text=Vigilancia%20Epidemiol%C3%B3gica%20de%20dengue\" target=\"_blank\"><i class=\"ckan-icon ckan-icon-twitter fa fa-lg fa-twitter-square\"></i> Twitter</a></li>\n",
       "<li class=\"nav-item\"><a href=\"https://www.linkedin.com/shareArticle?url=https%3A//www.datosabiertos.gob.pe/dataset/vigilancia-epidemiol%25C3%25B3gica-de-dengue&amp;title=Vigilancia%20Epidemiol%C3%B3gica%20de%20dengue\" target=\"_blank\"><i class=\"ckan-icon ckan-icon-fb fa fa-lg fa-linkedin-square\"></i> LinkedIn</a></li>\n",
       "<li class=\"nav-item\"><a href=\"https://plus.google.com/share?url=https%3A//www.datosabiertos.gob.pe/dataset/vigilancia-epidemiol%25C3%25B3gica-de-dengue&amp;title=Vigilancia%20Epidemiol%C3%B3gica%20de%20dengue\" target=\"_blank\"><i class=\"ckan-icon ckan-icon-gplus fa fa-lg fa-google-plus-square\"></i> Google+</a></li>\n",
       "<li class=\"nav-item last\"><a href=\"https://www.facebook.com/sharer.php?u=https%3A//www.datosabiertos.gob.pe/dataset/vigilancia-epidemiol%25C3%25B3gica-de-dengue\" target=\"_blank\"><i class=\"ckan-icon ckan-icon-fb fa fa-lg fa-facebook-square\"></i> Facebook</a></li>\n",
       "</ul></div> </div>\n",
       "</div>\n",
       "</div>\n",
       "</div>\n",
       "<div class=\"col-md-9 radix-layouts-content panel-panel\">\n",
       "<div class=\"panel-panel-inner\">\n",
       "<div class=\"panel-pane pane-entity-view pane-node\">\n",
       "<h2 class=\"pane-title\">\n",
       "      Vigilancia Epidemiológica de dengue    </h2>\n",
       "<div class=\"pane-content\">\n",
       "<article about=\"/dataset/vigilancia-epidemiol%C3%B3gica-de-dengue\" class=\"node node-dataset clearfix\" typeof=\"sioc:Item foaf:Document\">\n",
       "<span class=\"rdf-meta element-hidden\" content=\"Vigilancia Epidemiológica de dengue\" property=\"dc:title\"></span>\n",
       "<div class=\"content\">\n",
       "<div class=\"field field-name-field-topic field-type-taxonomy-term-reference field-label-hidden\"><div class=\"field-items\"><div class=\"field-item even\"><div class=\"field field-name-field-topic-icon field-type-font-icon-select-icon field-label-above\"><div class=\"field-items\"><div class=\"field-item even\"><span class=\"font-icon-select-1 font-icon-select-1-e950\"></span></div></div></div><a class=\"name\" href=\"https://www.datosabiertos.gob.pe/search/field_topic/salud-27\">Salud</a></div></div></div><div class=\"field field-name-body field-type-text-with-summary field-label-hidden\"><div class=\"field-items\"><div class=\"field-item even\" property=\"content:encoded\"><h1>Dataset de notificación de casos de dengue al sistema de vigilancia en salud pública del Perú</h1>\n",
       "<p>Este dataset contiene información sobre la notificación de casos de <strong>dengue</strong> al sistema de vigilancia en salud pública del Perú, gestionado y administrado por el <strong>Centro Nacional de Epidemiología, Prevención y Control de Enfermedades (CDC PERU)</strong>. Los datos provienen de la <strong>Red Nacional de Epidemiología (RENACE)</strong>, que está conformada por <strong>10 034 establecimientos de salud</strong> del Ministerio de Salud, EsSalud y otros del sector en los diferentes niveles de las Direcciones Regionales de Salud que tiene el Perú. De estos, <strong>8 105 son Unidades Notificantes</strong>, reconocidos con Resolución Directoral de las respectivas Diresas/Geresas de Salud del Perú. La información del dataset se actualiza cada semana o mes, según la sección de tendencia del boletín epidemiológico, y es suministrada semanalmente por la RENACE. Los datos y análisis son provisionales y pueden estar sujetos a modificación. El dataset tiene como objetivo proporcionar información sobre la situación epidemiológica del dengue en el Perú, así como facilitar el acceso a los datos abiertos para fines de investigación, educación, prevención y control de esta enfermedad.</p>\n",
       "<p>El dataset contempla una serie histórica del 2000 al 2022, con datos desagregados por departamento, provincia, distrito, enfermedad, año, semana, diagnóstico, tipo de diagnóstico, dirección de salud, ubigeo, edad, tipo de edad y sexo. El dataset incluye las siguientes variables:</p>\n",
       "<table>\n",
       "<tbody>\n",
       "<tr>\n",
       "<th>CAMPO</th>\n",
       "<th>TIPO</th>\n",
       "<th>DENOMINACIÓN</th>\n",
       "<th>VALORES</th>\n",
       "</tr>\n",
       "<tr>\n",
       "<td>departamento</td>\n",
       "<td>Caracter</td>\n",
       "<td>Región geográfica</td>\n",
       "<td> </td>\n",
       "</tr>\n",
       "<tr>\n",
       "<td>provincia</td>\n",
       "<td>Caracter</td>\n",
       "<td>Provincia</td>\n",
       "<td> </td>\n",
       "</tr>\n",
       "<tr>\n",
       "<td>distrito</td>\n",
       "<td>Caracter</td>\n",
       "<td>Lugar probable de infección</td>\n",
       "<td> </td>\n",
       "</tr>\n",
       "<tr>\n",
       "<td>enfermedad</td>\n",
       "<td>Caracter</td>\n",
       "<td>Diagnóstico vigilado</td>\n",
       "<td> </td>\n",
       "</tr>\n",
       "<tr>\n",
       "<td>ano</td>\n",
       "<td>Integer</td>\n",
       "<td>Año</td>\n",
       "<td> </td>\n",
       "</tr>\n",
       "<tr>\n",
       "<td>semana</td>\n",
       "<td>Integer</td>\n",
       "<td>Semana de inicio de síntomas</td>\n",
       "<td> </td>\n",
       "</tr>\n",
       "<tr>\n",
       "<td>diagnostic</td>\n",
       "<td>Caracter</td>\n",
       "<td>CIE 10</td>\n",
       "<td> </td>\n",
       "</tr>\n",
       "<tr>\n",
       "<td>tipo_dx</td>\n",
       "<td>Caracter</td>\n",
       "<td>Tipo de diagnóstico</td>\n",
       "<td>C= Confirmado, P = Probable, S = Sospechoso</td>\n",
       "</tr>\n",
       "<tr>\n",
       "<td>diresa</td>\n",
       "<td>Caracter</td>\n",
       "<td>Dirección de salud que notifica</td>\n",
       "<td> </td>\n",
       "</tr>\n",
       "<tr>\n",
       "<td>ubigeo</td>\n",
       "<td>Caracter</td>\n",
       "<td>Código del lugar probable de infección</td>\n",
       "<td> </td>\n",
       "</tr>\n",
       "<tr>\n",
       "<td>edad</td>\n",
       "<td>Caracter</td>\n",
       "<td>Edad del paciente</td>\n",
       "<td> </td>\n",
       "</tr>\n",
       "<tr>\n",
       "<td>tipo_edad</td>\n",
       "<td>Caracter</td>\n",
       "<td>Tipo de edad del paciente</td>\n",
       "<td>A = Año, M = Mes, D = Días</td>\n",
       "</tr>\n",
       "<tr>\n",
       "<td>sexo</td>\n",
       "<td>Caracter</td>\n",
       "<td>Sexo</td>\n",
       "<td>M = Masculino, F = Femenino</td>\n",
       "</tr>\n",
       "</tbody>\n",
       "</table>\n",
       "</div></div></div><div id=\"data-and-resources\"><h4>Dato y Medio de Distribución</h4><div property=\"dcat:distribution\"><div class=\"item-list\"><ul class=\"resource-list\"><li class=\"first last\"><div property=\"dcat:Distribution\"><a class=\"heading\" href=\"/dataset/vigilancia-epidemiol%C3%B3gica-de-dengue/resource/f854c3fb-0364-423c-a2f9-e69b67fa58d0\" property=\"dcat:accessURL\" title=\"datos_abiertos_vigilancia_dengue.csv\">datos_abiertos_vigilancia_dengue.csv<span class=\"format-label\" data-format=\"csv\" data-original-title=\"csv\" data-placement=\"top\" data-toggle=\"tooltip\" property=\"dc:format\">csv</span></a><p class=\"description\"></p><span class=\"links\"><a class=\"btn btn-primary\" href=\"/dataset/vigilancia-epidemiol%C3%B3gica-de-dengue/resource/f854c3fb-0364-423c-a2f9-e69b67fa58d0\"><i class=\"fa fa-bar-chart\"></i> Previsualizar</a><a class=\"btn btn-primary data-link\" href=\"https://www.datosabiertos.gob.pe/sites/default/files/datos_abiertos_vigilancia_dengue.csv\"><i class=\"fa fa-download\"></i> Descargar</a></span></div></li>\n",
       "</ul></div></div></div><div class=\"field field-name-field-tags field-type-taxonomy-term-reference field-label-hidden\"><div class=\"field-items\"><div class=\"field-item even\" property=\"dcat:theme\"><a datatype=\"\" href=\"/search/field_tags/cdc-peru-1539\" property=\"rdfs:label skos:prefLabel\" typeof=\"skos:Concept\">CDC PERU</a></div><div class=\"field-item odd\" property=\"dcat:theme\"><a datatype=\"\" href=\"/search/field_tags/cdc-1541\" property=\"rdfs:label skos:prefLabel\" typeof=\"skos:Concept\">CDC</a></div><div class=\"field-item even\" property=\"dcat:theme\"><a datatype=\"\" href=\"/search/field_tags/minsa-489\" property=\"rdfs:label skos:prefLabel\" typeof=\"skos:Concept\">MINSA</a></div><div class=\"field-item odd\" property=\"dcat:theme\"><a datatype=\"\" href=\"/search/field_tags/vigilancia-epidemiol%C3%B3gica-1540\" property=\"rdfs:label skos:prefLabel\" typeof=\"skos:Concept\">vigilancia epidemiológica</a></div><div class=\"field-item even\" property=\"dcat:theme\"><a datatype=\"\" href=\"/search/field_tags/dengue-510\" property=\"rdfs:label skos:prefLabel\" typeof=\"skos:Concept\">dengue</a></div></div></div><section class=\"field-group-table group_additional\"><h4>Dataset Info</h4><span class=\"field-group-table-description\"><i class=\"icon-large icon-info-sign\"></i>These fields are compatible with <a href=\"http://www.w3.org/TR/vocab-dcat/\">DCAT</a>, an RDF vocabulary designed to facilitate interoperability between data catalogs published on the Web.</span><table class=\"field-group-format group_additional\"><thead><tr><th>Field</th><th>Value</th> </tr></thead><tr><th class=\"field-label\">Fecha modificada </th><td class=\"field-items\"><div class=\"field-name-field-modified-date\" property=\"dcterms:modified\">2023-11-22</div></td></tr><tr><th class=\"field-label\">Fecha de lanzamiento</th><td class=\"field-items\"><div class=\"field-name-field-release-date\" property=\"dcterms:issued\">2023-11-22</div></td></tr><tr><th class=\"field-label\">Identificador</th><td class=\"field-items\"><div class=\"field-name-field-identifier\" property=\"dcterms:identifier\">2c3b2955-6252-4b9d-abd3-caeb61ccda39</div></td></tr><tr><th class=\"field-label\">License</th><td class=\"field-items\"><div class=\"field field-name-field-license field-type-text field-label-hidden\"><div class=\"field-items\"><div class=\"field-item even\" property=\"dc:license\"><a href=\"http://opendefinition.org/licenses/odc-by/\">Open Data Commons Attribution License</a></div></div></div></td></tr><tr><th class=\"field-label\">Public Access Level</th><td class=\"field-items\"><div class=\"field field-name-field-public-access-level field-type-list-text field-label-hidden\"><div class=\"field-items\"><div class=\"field-item even\" property=\"dc:accessRights\">Public</div></div></div></td></tr></table></section><div class=\"field field-name-field-harvest-source-ref field-type-entityreference field-label-hidden\"><div class=\"field-items\"></div></div> </div>\n",
       "<ul class=\"links inline\"><li class=\"comment_forbidden first last\"></li>\n",
       "</ul>\n",
       "</article>\n",
       "</div>\n",
       "</div>\n",
       "</div>\n",
       "</div>\n",
       "</div>\n",
       "</div>\n",
       "</div><!-- /.bryant --> </div>\n",
       "</section>\n",
       "</div>\n",
       "</div> <!-- /#main -->\n",
       "</div> <!-- /#main-wrapper -->\n",
       "<footer class=\"footer\" id=\"footer\">\n",
       "<div class=\"container\">\n",
       "<small class=\"copyright pull-left\"> <div class=\"col-md-4\"> \n",
       "<h4><span style=\"color:#FFFFFF;\"><strong>Secretaría de Gobierno Digital Presidencia del Consejo de Ministros </strong></span></h4>\n",
       "<span style=\"color:#FFFFFF;\">Dirección: Calle Schell 310, Miraflores 15074​<br/>\n",
       "<span style=\"color:#FFFFFF;\">Central Telefónica: 511 - 219 7000 Anexos 5125​​<br/>\n",
       "Para consultas escribir al \n",
       "<span style=\"color:#FFFFFF;\">Correo: mesadeayuda@gobiernodigital.gob.pe​​<br/>\n",
       "<span style=\"color:#FFFFFF;\">Asunto: Datos​​<br/>\n",
       "<span style=\"color:#FFFFFF;\"><a href=\"https://facilita.gob.pe/t/1024\" target=\"_blank\"><span style=\"color:#FFFFFF;\">Nos gustaría conocer tu opinión sobre qué datos públicos o privados deberían publicarse en la Plataforma Nacional de Datos Abiertos.</span></a>​​<br/>\n",
       "</span></span></span></span></span></div>\n",
       "<div class=\"col-md-5\"> \n",
       "<h4><span style=\"color:#FFFFFF;\"><strong>Documentación</strong></span></h4>\n",
       "<span style=\"font-size:14px;\"><a href=\"https://www.gob.pe/institucion/pcm/normas-legales/395320-006-2020\" target=\"_blank\"><span style=\"color:#FFFFFF;\">Decreto de Urgencia que crea el Sistema Nacional de Transformación Digital</span></a></span><br>\n",
       "<span style=\"font-size:14px;\"><a href=\"https://www.gob.pe/institucion/pcm/normas-legales/395322-007-2020\" target=\"_blank\"><span style=\"color:#FFFFFF;\">Decreto de urgencia que aprueba el marco de confianza digital</span></a></span><br>\n",
       "<span style=\"font-size:14px;\"><a href=\"https://www.datosabiertos.gob.pe/sites/default/files/leydigital.pdf\" target=\"_blank\"><span style=\"color:#FFFFFF;\">Ley de Gobierno Digital</span></a></span><br>\n",
       "<span style=\"font-size:14px;\"><a href=\"https://www.datosabiertos.gob.pe/%C2%BFqu%C3%A9-es-gobernanza-de-datos\" target=\"_blank\"><span style=\"color:#FFFFFF;\">Gobernanza de Datos</span></a></span><br>\n",
       " \n",
       "\n",
       "\n",
       "</br></br></br></br></div>\n",
       "<div class=\"col-md-3\"> \n",
       "<h4><span style=\"color:#FFFFFF;\"><strong>Alianza del Pacífico</strong></span></h4>\n",
       "<p><span style=\"font-size:16px;\"><a href=\"https://www.datos.gov.co/\" target=\"_blank\"><span style=\"color:#FFFFFF;\">Colombia</span></a></span></p>\n",
       "<p><span style=\"font-size:16px;\"><a href=\"https://datos.gob.mx/\" target=\"_blank\"><span style=\"color:#FFFFFF;\">México</span></a></span></p>\n",
       "<p><span style=\"font-size:16px;\"><a href=\"https://datos.gob.cl/\" target=\"_blank\"><span style=\"color:#FFFFFF;\">Chile</span></a></span></p>\n",
       "<script async=\"\" src=\"https://www.googletagmanager.com/gtag/js?id=G-P1P4D2R84J\"></script>\n",
       "<script>\n",
       "  window.dataLayer = window.dataLayer || [];\n",
       "  function gtag(){dataLayer.push(arguments);}\n",
       "  gtag('js', new Date());\n",
       "\n",
       "  gtag('config', 'G-P1P4D2R84J');\n",
       "</script>\n",
       "</div></small>\n",
       "<small class=\"pull-right\"></small>\n",
       "</div>\n",
       "</footer>\n",
       "<style type=\"text/css\">\n",
       ".izquierda {\n",
       "    float: left;\n",
       "    width: 30%;\n",
       "}\n",
       ".derecha {\n",
       "    float: right;\n",
       "    width: 70%;\n",
       "}\n",
       ".post-header {\n",
       "    padding: 45px 0 17px 0;\n",
       "    background: #edf0f4;\n",
       "}\n",
       ".branding.container.custom {\n",
       "    margin: 0px 50px;\n",
       "}\n",
       "\n",
       ".front div#main-wrapper {\n",
       "    margin: 20px 170px;\n",
       "}\n",
       "\n",
       "@media (max-width: 450px){\n",
       "\n",
       "  .front div#main-wrapper {\n",
       "    margin: 0;\n",
       "  }\n",
       "    .izquierda {\n",
       "      float: left;\n",
       "      width: 100%;\n",
       "  }\n",
       "  .derecha {\n",
       "    float: right;\n",
       "      width: 100%;\n",
       "      margin-top: 15px;\n",
       "  }\n",
       "\n",
       "  .branding.container.custom {\n",
       "    margin: 0px;\n",
       "  }\n",
       "}\n",
       "\n",
       "</style>\n",
       "<script src=\"https://www.datosabiertos.gob.pe/profiles/dkan/modules/contrib/panopoly_widgets/panopoly-widgets.js?sfyzx4\" type=\"text/javascript\"></script>\n",
       "<script src=\"https://www.datosabiertos.gob.pe/profiles/dkan/modules/contrib/panopoly_widgets/panopoly-widgets-spotlight.js?sfyzx4\" type=\"text/javascript\"></script>\n",
       "</body>\n",
       "</html>"
      ]
     },
     "execution_count": 60,
     "metadata": {},
     "output_type": "execute_result"
    }
   ],
   "source": [
    "soup"
   ]
  },
  {
   "cell_type": "code",
   "execution_count": 86,
   "metadata": {},
   "outputs": [],
   "source": [
    "link_elements = soup.find_all('a')"
   ]
  },
  {
   "cell_type": "code",
   "execution_count": 87,
   "metadata": {},
   "outputs": [
    {
     "data": {
      "text/plain": [
       "32"
      ]
     },
     "execution_count": 87,
     "metadata": {},
     "output_type": "execute_result"
    }
   ],
   "source": [
    "len(link_elements)"
   ]
  },
  {
   "cell_type": "code",
   "execution_count": 89,
   "metadata": {},
   "outputs": [
    {
     "name": "stdout",
     "output_type": "stream",
     "text": [
      "<a class=\"btn btn-primary data-link\" href=\"https://www.datosabiertos.gob.pe/sites/default/files/datos_abiertos_vigilancia_dengue.csv\"><i class=\"fa fa-download\"></i> Descargar</a>\n"
     ]
    }
   ],
   "source": [
    "for link_element in link_elements:\n",
    "    if 'Descargar' in link_element.text:\n",
    "        print(link_element)\n",
    "        break"
   ]
  },
  {
   "cell_type": "code",
   "execution_count": 92,
   "metadata": {},
   "outputs": [
    {
     "data": {
      "text/plain": [
       "'https://www.datosabiertos.gob.pe/sites/default/files/datos_abiertos_vigilancia_dengue.csv'"
      ]
     },
     "execution_count": 92,
     "metadata": {},
     "output_type": "execute_result"
    }
   ],
   "source": [
    "link_element['href']"
   ]
  },
  {
   "cell_type": "code",
   "execution_count": 94,
   "metadata": {},
   "outputs": [],
   "source": [
    "url_dengue_csv = link_element['href']"
   ]
  },
  {
   "cell_type": "code",
   "execution_count": 101,
   "metadata": {},
   "outputs": [],
   "source": [
    "r1 = requests.get(url_dengue_csv, headers=headers)"
   ]
  },
  {
   "cell_type": "code",
   "execution_count": 107,
   "metadata": {},
   "outputs": [
    {
     "data": {
      "text/plain": [
       "<Response [200]>"
      ]
     },
     "execution_count": 107,
     "metadata": {},
     "output_type": "execute_result"
    }
   ],
   "source": [
    "r1"
   ]
  },
  {
   "cell_type": "code",
   "execution_count": 108,
   "metadata": {},
   "outputs": [
    {
     "data": {
      "text/plain": [
       "requests.models.Response"
      ]
     },
     "execution_count": 108,
     "metadata": {},
     "output_type": "execute_result"
    }
   ],
   "source": [
    "type(r1)"
   ]
  },
  {
   "cell_type": "code",
   "execution_count": null,
   "metadata": {},
   "outputs": [],
   "source": []
  },
  {
   "cell_type": "code",
   "execution_count": 118,
   "metadata": {},
   "outputs": [
    {
     "data": {
      "text/plain": [
       "'datos_abiertos_vigilancia_dengue.csv'"
      ]
     },
     "execution_count": 118,
     "metadata": {},
     "output_type": "execute_result"
    }
   ],
   "source": [
    "csv_dengue_file_name = url_dengue_csv.split('/')[-1]\n",
    "csv_dengue_file_name"
   ]
  },
  {
   "cell_type": "code",
   "execution_count": 126,
   "metadata": {},
   "outputs": [],
   "source": [
    "with open(data_path.joinpath(csv_dengue_file_name), 'w', encoding='utf-8') as csv_dengue_file:\n",
    "    csv_dengue_file.write(r1.text.replace('\\,', '-'))"
   ]
  },
  {
   "cell_type": "code",
   "execution_count": null,
   "metadata": {},
   "outputs": [],
   "source": []
  },
  {
   "cell_type": "code",
   "execution_count": 46,
   "metadata": {},
   "outputs": [],
   "source": [
    "# table = soup.find('table')"
   ]
  },
  {
   "cell_type": "code",
   "execution_count": 48,
   "metadata": {},
   "outputs": [],
   "source": [
    "# df_data_dict = pd.read_html(StringIO(table.prettify()))[0]"
   ]
  },
  {
   "cell_type": "code",
   "execution_count": 50,
   "metadata": {},
   "outputs": [],
   "source": [
    "# df_data_dict.fillna(' ', inplace=True)"
   ]
  },
  {
   "cell_type": "code",
   "execution_count": 51,
   "metadata": {},
   "outputs": [
    {
     "data": {
      "text/html": [
       "<div>\n",
       "<style scoped>\n",
       "    .dataframe tbody tr th:only-of-type {\n",
       "        vertical-align: middle;\n",
       "    }\n",
       "\n",
       "    .dataframe tbody tr th {\n",
       "        vertical-align: top;\n",
       "    }\n",
       "\n",
       "    .dataframe thead th {\n",
       "        text-align: right;\n",
       "    }\n",
       "</style>\n",
       "<table border=\"1\" class=\"dataframe\">\n",
       "  <thead>\n",
       "    <tr style=\"text-align: right;\">\n",
       "      <th></th>\n",
       "      <th>CAMPO</th>\n",
       "      <th>TIPO</th>\n",
       "      <th>DENOMINACIÓN</th>\n",
       "      <th>VALORES</th>\n",
       "    </tr>\n",
       "  </thead>\n",
       "  <tbody>\n",
       "    <tr>\n",
       "      <th>0</th>\n",
       "      <td>departamento</td>\n",
       "      <td>Caracter</td>\n",
       "      <td>Región geográfica</td>\n",
       "      <td></td>\n",
       "    </tr>\n",
       "    <tr>\n",
       "      <th>1</th>\n",
       "      <td>provincia</td>\n",
       "      <td>Caracter</td>\n",
       "      <td>Provincia</td>\n",
       "      <td></td>\n",
       "    </tr>\n",
       "    <tr>\n",
       "      <th>2</th>\n",
       "      <td>distrito</td>\n",
       "      <td>Caracter</td>\n",
       "      <td>Lugar probable de infección</td>\n",
       "      <td></td>\n",
       "    </tr>\n",
       "    <tr>\n",
       "      <th>3</th>\n",
       "      <td>enfermedad</td>\n",
       "      <td>Caracter</td>\n",
       "      <td>Diagnóstico vigilado</td>\n",
       "      <td></td>\n",
       "    </tr>\n",
       "    <tr>\n",
       "      <th>4</th>\n",
       "      <td>ano</td>\n",
       "      <td>Integer</td>\n",
       "      <td>Año</td>\n",
       "      <td></td>\n",
       "    </tr>\n",
       "    <tr>\n",
       "      <th>5</th>\n",
       "      <td>semana</td>\n",
       "      <td>Integer</td>\n",
       "      <td>Semana de inicio de síntomas</td>\n",
       "      <td></td>\n",
       "    </tr>\n",
       "    <tr>\n",
       "      <th>6</th>\n",
       "      <td>diagnostic</td>\n",
       "      <td>Caracter</td>\n",
       "      <td>CIE 10</td>\n",
       "      <td></td>\n",
       "    </tr>\n",
       "    <tr>\n",
       "      <th>7</th>\n",
       "      <td>tipo_dx</td>\n",
       "      <td>Caracter</td>\n",
       "      <td>Tipo de diagnóstico</td>\n",
       "      <td>C= Confirmado, P = Probable, S = Sospechoso</td>\n",
       "    </tr>\n",
       "    <tr>\n",
       "      <th>8</th>\n",
       "      <td>diresa</td>\n",
       "      <td>Caracter</td>\n",
       "      <td>Dirección de salud que notifica</td>\n",
       "      <td></td>\n",
       "    </tr>\n",
       "    <tr>\n",
       "      <th>9</th>\n",
       "      <td>ubigeo</td>\n",
       "      <td>Caracter</td>\n",
       "      <td>Código del lugar probable de infección</td>\n",
       "      <td></td>\n",
       "    </tr>\n",
       "    <tr>\n",
       "      <th>10</th>\n",
       "      <td>edad</td>\n",
       "      <td>Caracter</td>\n",
       "      <td>Edad del paciente</td>\n",
       "      <td></td>\n",
       "    </tr>\n",
       "    <tr>\n",
       "      <th>11</th>\n",
       "      <td>tipo_edad</td>\n",
       "      <td>Caracter</td>\n",
       "      <td>Tipo de edad del paciente</td>\n",
       "      <td>A = Año, M = Mes, D = Días</td>\n",
       "    </tr>\n",
       "    <tr>\n",
       "      <th>12</th>\n",
       "      <td>sexo</td>\n",
       "      <td>Caracter</td>\n",
       "      <td>Sexo</td>\n",
       "      <td>M = Masculino, F = Femenino</td>\n",
       "    </tr>\n",
       "  </tbody>\n",
       "</table>\n",
       "</div>"
      ],
      "text/plain": [
       "           CAMPO      TIPO                            DENOMINACIÓN  \\\n",
       "0   departamento  Caracter                       Región geográfica   \n",
       "1      provincia  Caracter                               Provincia   \n",
       "2       distrito  Caracter             Lugar probable de infección   \n",
       "3     enfermedad  Caracter                    Diagnóstico vigilado   \n",
       "4            ano   Integer                                     Año   \n",
       "5         semana   Integer            Semana de inicio de síntomas   \n",
       "6     diagnostic  Caracter                                  CIE 10   \n",
       "7        tipo_dx  Caracter                     Tipo de diagnóstico   \n",
       "8         diresa  Caracter         Dirección de salud que notifica   \n",
       "9         ubigeo  Caracter  Código del lugar probable de infección   \n",
       "10          edad  Caracter                       Edad del paciente   \n",
       "11     tipo_edad  Caracter               Tipo de edad del paciente   \n",
       "12          sexo  Caracter                                    Sexo   \n",
       "\n",
       "                                        VALORES  \n",
       "0                                                \n",
       "1                                                \n",
       "2                                                \n",
       "3                                                \n",
       "4                                                \n",
       "5                                                \n",
       "6                                                \n",
       "7   C= Confirmado, P = Probable, S = Sospechoso  \n",
       "8                                                \n",
       "9                                                \n",
       "10                                               \n",
       "11                   A = Año, M = Mes, D = Días  \n",
       "12                  M = Masculino, F = Femenino  "
      ]
     },
     "execution_count": 51,
     "metadata": {},
     "output_type": "execute_result"
    }
   ],
   "source": [
    "# df_data_dict"
   ]
  },
  {
   "cell_type": "code",
   "execution_count": null,
   "metadata": {},
   "outputs": [],
   "source": []
  },
  {
   "cell_type": "markdown",
   "metadata": {},
   "source": [
    "## EDA"
   ]
  },
  {
   "cell_type": "code",
   "execution_count": 3,
   "metadata": {},
   "outputs": [],
   "source": [
    "data_path = Path.cwd().parent.joinpath('data', 'external')"
   ]
  },
  {
   "cell_type": "markdown",
   "metadata": {},
   "source": [
    "### Epidemiological Surveillance of Dengue"
   ]
  },
  {
   "cell_type": "code",
   "execution_count": 4,
   "metadata": {},
   "outputs": [],
   "source": [
    "df_dengue = pd.read_csv(data_path.joinpath('datos_abiertos_vigilancia_dengue.csv'), dtype={'localcod': str})"
   ]
  },
  {
   "cell_type": "code",
   "execution_count": 5,
   "metadata": {},
   "outputs": [
    {
     "data": {
      "text/html": [
       "<div>\n",
       "<style scoped>\n",
       "    .dataframe tbody tr th:only-of-type {\n",
       "        vertical-align: middle;\n",
       "    }\n",
       "\n",
       "    .dataframe tbody tr th {\n",
       "        vertical-align: top;\n",
       "    }\n",
       "\n",
       "    .dataframe thead th {\n",
       "        text-align: right;\n",
       "    }\n",
       "</style>\n",
       "<table border=\"1\" class=\"dataframe\">\n",
       "  <thead>\n",
       "    <tr style=\"text-align: right;\">\n",
       "      <th></th>\n",
       "      <th>departamento</th>\n",
       "      <th>provincia</th>\n",
       "      <th>distrito</th>\n",
       "      <th>localidad</th>\n",
       "      <th>enfermedad</th>\n",
       "      <th>ano</th>\n",
       "      <th>semana</th>\n",
       "      <th>diagnostic</th>\n",
       "      <th>diresa</th>\n",
       "      <th>ubigeo</th>\n",
       "      <th>localcod</th>\n",
       "      <th>edad</th>\n",
       "      <th>tipo_edad</th>\n",
       "      <th>sexo</th>\n",
       "    </tr>\n",
       "  </thead>\n",
       "  <tbody>\n",
       "    <tr>\n",
       "      <th>0</th>\n",
       "      <td>HUANUCO</td>\n",
       "      <td>LEONCIO PRADO</td>\n",
       "      <td>LUYANDO</td>\n",
       "      <td>NaN</td>\n",
       "      <td>DENGUE SIN SEÑALES DE ALARMA</td>\n",
       "      <td>2000</td>\n",
       "      <td>47</td>\n",
       "      <td>A97.0</td>\n",
       "      <td>10.0</td>\n",
       "      <td>100605</td>\n",
       "      <td>NaN</td>\n",
       "      <td>9</td>\n",
       "      <td>A</td>\n",
       "      <td>M</td>\n",
       "    </tr>\n",
       "    <tr>\n",
       "      <th>1</th>\n",
       "      <td>HUANUCO</td>\n",
       "      <td>LEONCIO PRADO</td>\n",
       "      <td>LUYANDO</td>\n",
       "      <td>NaN</td>\n",
       "      <td>DENGUE SIN SEÑALES DE ALARMA</td>\n",
       "      <td>2000</td>\n",
       "      <td>40</td>\n",
       "      <td>A97.0</td>\n",
       "      <td>10.0</td>\n",
       "      <td>100605</td>\n",
       "      <td>NaN</td>\n",
       "      <td>18</td>\n",
       "      <td>A</td>\n",
       "      <td>F</td>\n",
       "    </tr>\n",
       "  </tbody>\n",
       "</table>\n",
       "</div>"
      ],
      "text/plain": [
       "  departamento      provincia distrito localidad  \\\n",
       "0      HUANUCO  LEONCIO PRADO  LUYANDO       NaN   \n",
       "1      HUANUCO  LEONCIO PRADO  LUYANDO       NaN   \n",
       "\n",
       "                     enfermedad   ano  semana diagnostic  diresa  ubigeo  \\\n",
       "0  DENGUE SIN SEÑALES DE ALARMA  2000      47      A97.0    10.0  100605   \n",
       "1  DENGUE SIN SEÑALES DE ALARMA  2000      40      A97.0    10.0  100605   \n",
       "\n",
       "  localcod  edad tipo_edad sexo  \n",
       "0      NaN     9         A    M  \n",
       "1      NaN    18         A    F  "
      ]
     },
     "execution_count": 5,
     "metadata": {},
     "output_type": "execute_result"
    }
   ],
   "source": [
    "df_dengue.head(2)"
   ]
  },
  {
   "cell_type": "code",
   "execution_count": 6,
   "metadata": {},
   "outputs": [
    {
     "name": "stdout",
     "output_type": "stream",
     "text": [
      "<class 'pandas.core.frame.DataFrame'>\n",
      "RangeIndex: 501692 entries, 0 to 501691\n",
      "Data columns (total 14 columns):\n",
      " #   Column        Non-Null Count   Dtype  \n",
      "---  ------        --------------   -----  \n",
      " 0   departamento  501692 non-null  object \n",
      " 1   provincia     501692 non-null  object \n",
      " 2   distrito      501692 non-null  object \n",
      " 3   localidad     400753 non-null  object \n",
      " 4   enfermedad    501692 non-null  object \n",
      " 5   ano           501692 non-null  int64  \n",
      " 6   semana        501692 non-null  int64  \n",
      " 7   diagnostic    501692 non-null  object \n",
      " 8   diresa        501669 non-null  float64\n",
      " 9   ubigeo        501692 non-null  int64  \n",
      " 10  localcod      407822 non-null  object \n",
      " 11  edad          501692 non-null  int64  \n",
      " 12  tipo_edad     501692 non-null  object \n",
      " 13  sexo          501692 non-null  object \n",
      "dtypes: float64(1), int64(4), object(9)\n",
      "memory usage: 53.6+ MB\n"
     ]
    }
   ],
   "source": [
    "df_dengue.info()"
   ]
  },
  {
   "cell_type": "code",
   "execution_count": 7,
   "metadata": {},
   "outputs": [
    {
     "data": {
      "text/plain": [
       "array(['HUANUCO', 'UCAYALI', 'JUNIN', 'LA LIBERTAD', 'TUMBES', 'PIURA',\n",
       "       'AMAZONAS', 'LORETO', 'MADRE DE DIOS', 'SAN MARTIN', 'CAJAMARCA',\n",
       "       'LAMBAYEQUE', 'ANCASH', 'LIMA', 'PASCO', 'CUSCO', '\\\\N', 'PUNO',\n",
       "       'AYACUCHO', 'ICA', 'CALLAO', 'MOQUEGUA', 'AREQUIPA'], dtype=object)"
      ]
     },
     "execution_count": 7,
     "metadata": {},
     "output_type": "execute_result"
    }
   ],
   "source": [
    "df_dengue['departamento'].unique()"
   ]
  },
  {
   "cell_type": "markdown",
   "metadata": {},
   "source": [
    "El conjunto de datos ocupa aproximadamente 50 Mb de memoria y contiene información de distintos diagnósticos de dengue\n",
    "en distintos distritos y localidades del Perú identificando el género y la edad de los pacientes."
   ]
  },
  {
   "cell_type": "code",
   "execution_count": 8,
   "metadata": {},
   "outputs": [],
   "source": [
    "df_dengue = df_dengue[(df_dengue['departamento']=='LORETO') & (df_dengue['ano']>=2017) & (df_dengue['ano']<=2022)].copy()"
   ]
  },
  {
   "cell_type": "code",
   "execution_count": 9,
   "metadata": {},
   "outputs": [
    {
     "name": "stdout",
     "output_type": "stream",
     "text": [
      "<class 'pandas.core.frame.DataFrame'>\n",
      "Index: 27310 entries, 257636 to 501690\n",
      "Data columns (total 14 columns):\n",
      " #   Column        Non-Null Count  Dtype  \n",
      "---  ------        --------------  -----  \n",
      " 0   departamento  27310 non-null  object \n",
      " 1   provincia     27310 non-null  object \n",
      " 2   distrito      27310 non-null  object \n",
      " 3   localidad     23915 non-null  object \n",
      " 4   enfermedad    27310 non-null  object \n",
      " 5   ano           27310 non-null  int64  \n",
      " 6   semana        27310 non-null  int64  \n",
      " 7   diagnostic    27310 non-null  object \n",
      " 8   diresa        27310 non-null  float64\n",
      " 9   ubigeo        27310 non-null  int64  \n",
      " 10  localcod      26378 non-null  object \n",
      " 11  edad          27310 non-null  int64  \n",
      " 12  tipo_edad     27310 non-null  object \n",
      " 13  sexo          27310 non-null  object \n",
      "dtypes: float64(1), int64(4), object(9)\n",
      "memory usage: 3.1+ MB\n"
     ]
    }
   ],
   "source": [
    "df_dengue.info()"
   ]
  },
  {
   "cell_type": "code",
   "execution_count": 10,
   "metadata": {},
   "outputs": [
    {
     "data": {
      "text/html": [
       "<div>\n",
       "<style scoped>\n",
       "    .dataframe tbody tr th:only-of-type {\n",
       "        vertical-align: middle;\n",
       "    }\n",
       "\n",
       "    .dataframe tbody tr th {\n",
       "        vertical-align: top;\n",
       "    }\n",
       "\n",
       "    .dataframe thead th {\n",
       "        text-align: right;\n",
       "    }\n",
       "</style>\n",
       "<table border=\"1\" class=\"dataframe\">\n",
       "  <thead>\n",
       "    <tr style=\"text-align: right;\">\n",
       "      <th></th>\n",
       "      <th>departamento</th>\n",
       "      <th>provincia</th>\n",
       "      <th>distrito</th>\n",
       "      <th>localidad</th>\n",
       "      <th>enfermedad</th>\n",
       "      <th>ano</th>\n",
       "      <th>semana</th>\n",
       "      <th>diagnostic</th>\n",
       "      <th>diresa</th>\n",
       "      <th>ubigeo</th>\n",
       "      <th>localcod</th>\n",
       "      <th>edad</th>\n",
       "      <th>tipo_edad</th>\n",
       "      <th>sexo</th>\n",
       "    </tr>\n",
       "  </thead>\n",
       "  <tbody>\n",
       "    <tr>\n",
       "      <th>0</th>\n",
       "      <td>0</td>\n",
       "      <td>0</td>\n",
       "      <td>0</td>\n",
       "      <td>3395</td>\n",
       "      <td>0</td>\n",
       "      <td>0</td>\n",
       "      <td>0</td>\n",
       "      <td>0</td>\n",
       "      <td>0</td>\n",
       "      <td>0</td>\n",
       "      <td>932</td>\n",
       "      <td>0</td>\n",
       "      <td>0</td>\n",
       "      <td>0</td>\n",
       "    </tr>\n",
       "  </tbody>\n",
       "</table>\n",
       "</div>"
      ],
      "text/plain": [
       "   departamento  provincia  distrito  localidad  enfermedad  ano  semana  \\\n",
       "0             0          0         0       3395           0    0       0   \n",
       "\n",
       "   diagnostic  diresa  ubigeo  localcod  edad  tipo_edad  sexo  \n",
       "0           0       0       0       932     0          0     0  "
      ]
     },
     "execution_count": 10,
     "metadata": {},
     "output_type": "execute_result"
    }
   ],
   "source": [
    "pd.DataFrame(df_dengue.isna().sum()).T"
   ]
  },
  {
   "cell_type": "code",
   "execution_count": 11,
   "metadata": {},
   "outputs": [],
   "source": [
    "def get_unique(df: pd.DataFrame, columns: list[str]) -> pd.DataFrame:\n",
    "    n_unique_values = []\n",
    "    unique_values = []\n",
    "    for column in columns:\n",
    "        n_unique = df[column].nunique()\n",
    "        n_unique_values.append(df[column].nunique())\n",
    "\n",
    "        if n_unique > 6:\n",
    "            unique_values.append('Más de 6 valores únicos')\n",
    "        else:\n",
    "            unique_values.append(df[column].unique())\n",
    "\n",
    "    cols_values = pd.DataFrame(zip(columns, n_unique_values, unique_values))\n",
    "    cols_values.columns = ['variable_name', 'n_unique', 'values']\n",
    "    return cols_values"
   ]
  },
  {
   "cell_type": "code",
   "execution_count": 12,
   "metadata": {},
   "outputs": [
    {
     "data": {
      "text/html": [
       "<div>\n",
       "<style scoped>\n",
       "    .dataframe tbody tr th:only-of-type {\n",
       "        vertical-align: middle;\n",
       "    }\n",
       "\n",
       "    .dataframe tbody tr th {\n",
       "        vertical-align: top;\n",
       "    }\n",
       "\n",
       "    .dataframe thead th {\n",
       "        text-align: right;\n",
       "    }\n",
       "</style>\n",
       "<table border=\"1\" class=\"dataframe\">\n",
       "  <thead>\n",
       "    <tr style=\"text-align: right;\">\n",
       "      <th></th>\n",
       "      <th>variable_name</th>\n",
       "      <th>n_unique</th>\n",
       "      <th>values</th>\n",
       "    </tr>\n",
       "  </thead>\n",
       "  <tbody>\n",
       "    <tr>\n",
       "      <th>0</th>\n",
       "      <td>ano</td>\n",
       "      <td>6</td>\n",
       "      <td>[2017, 2018, 2019, 2020, 2021, 2022]</td>\n",
       "    </tr>\n",
       "    <tr>\n",
       "      <th>1</th>\n",
       "      <td>diagnostic</td>\n",
       "      <td>3</td>\n",
       "      <td>[A97.0, A97.1, A97.2]</td>\n",
       "    </tr>\n",
       "    <tr>\n",
       "      <th>2</th>\n",
       "      <td>enfermedad</td>\n",
       "      <td>3</td>\n",
       "      <td>[DENGUE SIN SEÑALES DE ALARMA, DENGUE CON SEÑALES DE ALARMA, DENGUE GRAVE]</td>\n",
       "    </tr>\n",
       "    <tr>\n",
       "      <th>3</th>\n",
       "      <td>tipo_edad</td>\n",
       "      <td>3</td>\n",
       "      <td>[A, M, D]</td>\n",
       "    </tr>\n",
       "    <tr>\n",
       "      <th>4</th>\n",
       "      <td>sexo</td>\n",
       "      <td>2</td>\n",
       "      <td>[M, F]</td>\n",
       "    </tr>\n",
       "    <tr>\n",
       "      <th>5</th>\n",
       "      <td>departamento</td>\n",
       "      <td>1</td>\n",
       "      <td>[LORETO]</td>\n",
       "    </tr>\n",
       "    <tr>\n",
       "      <th>6</th>\n",
       "      <td>ubigeo</td>\n",
       "      <td>50</td>\n",
       "      <td>Más de 6 valores únicos</td>\n",
       "    </tr>\n",
       "    <tr>\n",
       "      <th>7</th>\n",
       "      <td>semana</td>\n",
       "      <td>53</td>\n",
       "      <td>Más de 6 valores únicos</td>\n",
       "    </tr>\n",
       "    <tr>\n",
       "      <th>8</th>\n",
       "      <td>diresa</td>\n",
       "      <td>1</td>\n",
       "      <td>[16.0]</td>\n",
       "    </tr>\n",
       "  </tbody>\n",
       "</table>\n",
       "</div>"
      ],
      "text/plain": [
       "  variable_name  n_unique  \\\n",
       "0           ano         6   \n",
       "1    diagnostic         3   \n",
       "2    enfermedad         3   \n",
       "3     tipo_edad         3   \n",
       "4          sexo         2   \n",
       "5  departamento         1   \n",
       "6        ubigeo        50   \n",
       "7        semana        53   \n",
       "8        diresa         1   \n",
       "\n",
       "                                                                       values  \n",
       "0                                        [2017, 2018, 2019, 2020, 2021, 2022]  \n",
       "1                                                       [A97.0, A97.1, A97.2]  \n",
       "2  [DENGUE SIN SEÑALES DE ALARMA, DENGUE CON SEÑALES DE ALARMA, DENGUE GRAVE]  \n",
       "3                                                                   [A, M, D]  \n",
       "4                                                                      [M, F]  \n",
       "5                                                                    [LORETO]  \n",
       "6                                                     Más de 6 valores únicos  \n",
       "7                                                     Más de 6 valores únicos  \n",
       "8                                                                      [16.0]  "
      ]
     },
     "execution_count": 12,
     "metadata": {},
     "output_type": "execute_result"
    }
   ],
   "source": [
    "df_dengue_unique = get_unique(df_dengue, ['ano', 'diagnostic', 'enfermedad', 'tipo_edad', 'sexo', 'departamento', 'ubigeo', 'semana', 'diresa'])\n",
    "df_dengue_unique"
   ]
  },
  {
   "cell_type": "markdown",
   "metadata": {},
   "source": [
    "Al acotar los datos a lo requerido para el análisis (departamento Loreto en los años desde 2017 hasta 2022)\n",
    "se observa consistencia en el conjunto de datos: una sola Diresa, 50 ubigeos, 53 semanas y datos de diagnóstico y enfermedad."
   ]
  },
  {
   "cell_type": "code",
   "execution_count": 13,
   "metadata": {},
   "outputs": [
    {
     "data": {
      "text/html": [
       "<div>\n",
       "<style scoped>\n",
       "    .dataframe tbody tr th:only-of-type {\n",
       "        vertical-align: middle;\n",
       "    }\n",
       "\n",
       "    .dataframe tbody tr th {\n",
       "        vertical-align: top;\n",
       "    }\n",
       "\n",
       "    .dataframe thead th {\n",
       "        text-align: right;\n",
       "    }\n",
       "</style>\n",
       "<table border=\"1\" class=\"dataframe\">\n",
       "  <thead>\n",
       "    <tr style=\"text-align: right;\">\n",
       "      <th></th>\n",
       "      <th>diagnostic</th>\n",
       "      <th>enfermedad</th>\n",
       "    </tr>\n",
       "  </thead>\n",
       "  <tbody>\n",
       "    <tr>\n",
       "      <th>0</th>\n",
       "      <td>A97.0</td>\n",
       "      <td>[DENGUE SIN SEÑALES DE ALARMA]</td>\n",
       "    </tr>\n",
       "    <tr>\n",
       "      <th>1</th>\n",
       "      <td>A97.1</td>\n",
       "      <td>[DENGUE CON SEÑALES DE ALARMA]</td>\n",
       "    </tr>\n",
       "    <tr>\n",
       "      <th>2</th>\n",
       "      <td>A97.2</td>\n",
       "      <td>[DENGUE GRAVE]</td>\n",
       "    </tr>\n",
       "  </tbody>\n",
       "</table>\n",
       "</div>"
      ],
      "text/plain": [
       "  diagnostic                      enfermedad\n",
       "0      A97.0  [DENGUE SIN SEÑALES DE ALARMA]\n",
       "1      A97.1  [DENGUE CON SEÑALES DE ALARMA]\n",
       "2      A97.2                  [DENGUE GRAVE]"
      ]
     },
     "execution_count": 13,
     "metadata": {},
     "output_type": "execute_result"
    }
   ],
   "source": [
    "df_dengue.groupby('diagnostic').agg({'enfermedad': 'unique'}).reset_index()"
   ]
  },
  {
   "cell_type": "code",
   "execution_count": null,
   "metadata": {},
   "outputs": [
    {
     "data": {
      "text/plain": [
       "diagnostic\n",
       "A97.0    0.809740\n",
       "A97.1    0.183742\n",
       "A97.2    0.006518\n",
       "Name: proportion, dtype: float64"
      ]
     },
     "metadata": {},
     "output_type": "display_data"
    }
   ],
   "source": [
    "df_dengue['diagnostic'].value_counts(normalize=True)"
   ]
  },
  {
   "cell_type": "markdown",
   "metadata": {},
   "source": [
    "* Se comprobó que el código CIE-10 de la columna `diagnostic` concuerde con la descripción contenida en la columna `enfermedad`.\n",
    "* El tipo de enfermedad `Dengue Grave` tiene menos del 0.01% del total de casos diagnosticados."
   ]
  },
  {
   "cell_type": "code",
   "execution_count": 14,
   "metadata": {},
   "outputs": [
    {
     "data": {
      "text/plain": [
       "departamento     1\n",
       "provincia        1\n",
       "distrito         1\n",
       "localidad       21\n",
       "enfermedad       3\n",
       "ano              6\n",
       "semana          32\n",
       "diagnostic       3\n",
       "diresa           1\n",
       "localcod        25\n",
       "edad            37\n",
       "tipo_edad        3\n",
       "sexo             2\n",
       "dtype: int64"
      ]
     },
     "execution_count": 14,
     "metadata": {},
     "output_type": "execute_result"
    }
   ],
   "source": [
    "df_dengue.groupby('ubigeo').nunique().nunique()"
   ]
  },
  {
   "cell_type": "markdown",
   "metadata": {},
   "source": [
    "Los datos de departamento, provincia y distrito concuerdan con el ubigeo al tener una relación 1:1."
   ]
  },
  {
   "cell_type": "code",
   "execution_count": 15,
   "metadata": {},
   "outputs": [
    {
     "data": {
      "text/plain": [
       "tipo_edad\n",
       "A    0.988136\n",
       "M    0.011058\n",
       "D    0.000806\n",
       "Name: proportion, dtype: float64"
      ]
     },
     "execution_count": 15,
     "metadata": {},
     "output_type": "execute_result"
    }
   ],
   "source": [
    "df_dengue['tipo_edad'].value_counts(normalize=True)"
   ]
  },
  {
   "cell_type": "code",
   "execution_count": 16,
   "metadata": {},
   "outputs": [
    {
     "data": {
      "text/plain": [
       "array([ 1,  2,  3,  4,  5,  6,  7,  8,  9, 10, 11, 58])"
      ]
     },
     "execution_count": 16,
     "metadata": {},
     "output_type": "execute_result"
    }
   ],
   "source": [
    "df_dengue[df_dengue['tipo_edad']=='M']['edad'].sort_values().unique()"
   ]
  },
  {
   "cell_type": "code",
   "execution_count": 17,
   "metadata": {},
   "outputs": [
    {
     "data": {
      "text/html": [
       "<div>\n",
       "<style scoped>\n",
       "    .dataframe tbody tr th:only-of-type {\n",
       "        vertical-align: middle;\n",
       "    }\n",
       "\n",
       "    .dataframe tbody tr th {\n",
       "        vertical-align: top;\n",
       "    }\n",
       "\n",
       "    .dataframe thead th {\n",
       "        text-align: right;\n",
       "    }\n",
       "</style>\n",
       "<table border=\"1\" class=\"dataframe\">\n",
       "  <thead>\n",
       "    <tr style=\"text-align: right;\">\n",
       "      <th></th>\n",
       "      <th>departamento</th>\n",
       "      <th>provincia</th>\n",
       "      <th>distrito</th>\n",
       "      <th>localidad</th>\n",
       "      <th>enfermedad</th>\n",
       "      <th>ano</th>\n",
       "      <th>semana</th>\n",
       "      <th>diagnostic</th>\n",
       "      <th>diresa</th>\n",
       "      <th>ubigeo</th>\n",
       "      <th>localcod</th>\n",
       "      <th>edad</th>\n",
       "      <th>tipo_edad</th>\n",
       "      <th>sexo</th>\n",
       "    </tr>\n",
       "  </thead>\n",
       "  <tbody>\n",
       "    <tr>\n",
       "      <th>327032</th>\n",
       "      <td>LORETO</td>\n",
       "      <td>MAYNAS</td>\n",
       "      <td>FERNANDO LORES</td>\n",
       "      <td>TAMSHIYACU</td>\n",
       "      <td>DENGUE SIN SEÑALES DE ALARMA</td>\n",
       "      <td>2018</td>\n",
       "      <td>17</td>\n",
       "      <td>A97.0</td>\n",
       "      <td>16.0</td>\n",
       "      <td>160103</td>\n",
       "      <td>1601030001</td>\n",
       "      <td>58</td>\n",
       "      <td>M</td>\n",
       "      <td>M</td>\n",
       "    </tr>\n",
       "  </tbody>\n",
       "</table>\n",
       "</div>"
      ],
      "text/plain": [
       "       departamento provincia        distrito   localidad  \\\n",
       "327032       LORETO    MAYNAS  FERNANDO LORES  TAMSHIYACU   \n",
       "\n",
       "                          enfermedad   ano  semana diagnostic  diresa  ubigeo  \\\n",
       "327032  DENGUE SIN SEÑALES DE ALARMA  2018      17      A97.0    16.0  160103   \n",
       "\n",
       "          localcod  edad tipo_edad sexo  \n",
       "327032  1601030001    58         M    M  "
      ]
     },
     "execution_count": 17,
     "metadata": {},
     "output_type": "execute_result"
    }
   ],
   "source": [
    "df_dengue[(df_dengue['tipo_edad']=='M') & (df_dengue['edad']==58)]"
   ]
  },
  {
   "cell_type": "code",
   "execution_count": 18,
   "metadata": {},
   "outputs": [
    {
     "data": {
      "text/plain": [
       "array([ 1,  2,  3,  5,  7,  8, 11, 13, 16, 18, 19, 20, 26])"
      ]
     },
     "execution_count": 18,
     "metadata": {},
     "output_type": "execute_result"
    }
   ],
   "source": [
    "df_dengue[df_dengue['tipo_edad']=='D']['edad'].sort_values().unique()"
   ]
  },
  {
   "cell_type": "code",
   "execution_count": 19,
   "metadata": {},
   "outputs": [
    {
     "data": {
      "text/plain": [
       "array([  1,   2,   3,   4,   5,   6,   7,   8,   9,  10,  11,  12,  13,\n",
       "        14,  15,  16,  17,  18,  19,  20,  21,  22,  23,  24,  25,  26,\n",
       "        27,  28,  29,  30,  31,  32,  33,  34,  35,  36,  37,  38,  39,\n",
       "        40,  41,  42,  43,  44,  45,  46,  47,  48,  49,  50,  51,  52,\n",
       "        53,  54,  55,  56,  57,  58,  59,  60,  61,  62,  63,  64,  65,\n",
       "        66,  67,  68,  69,  70,  71,  72,  73,  74,  75,  76,  77,  78,\n",
       "        79,  80,  81,  82,  83,  84,  85,  86,  87,  88,  89,  90,  91,\n",
       "        92,  93,  95,  97, 102, 104])"
      ]
     },
     "execution_count": 19,
     "metadata": {},
     "output_type": "execute_result"
    }
   ],
   "source": [
    "df_dengue[df_dengue['tipo_edad']=='A']['edad'].sort_values().unique()"
   ]
  },
  {
   "cell_type": "code",
   "execution_count": 20,
   "metadata": {},
   "outputs": [
    {
     "data": {
      "text/plain": [
       "edad\n",
       "13     931\n",
       "14     900\n",
       "12     888\n",
       "15     873\n",
       "10     843\n",
       "      ... \n",
       "95       3\n",
       "93       3\n",
       "102      1\n",
       "104      1\n",
       "97       1\n",
       "Name: count, Length: 97, dtype: int64"
      ]
     },
     "execution_count": 20,
     "metadata": {},
     "output_type": "execute_result"
    }
   ],
   "source": [
    "df_dengue[df_dengue['tipo_edad']=='A']['edad'].value_counts()"
   ]
  },
  {
   "cell_type": "code",
   "execution_count": 21,
   "metadata": {},
   "outputs": [
    {
     "data": {
      "text/plain": [
       "edad\n",
       "13     0.034499\n",
       "14     0.033351\n",
       "12     0.032906\n",
       "15     0.032350\n",
       "10     0.031238\n",
       "         ...   \n",
       "95     0.000111\n",
       "93     0.000111\n",
       "102    0.000037\n",
       "104    0.000037\n",
       "97     0.000037\n",
       "Name: proportion, Length: 97, dtype: float64"
      ]
     },
     "execution_count": 21,
     "metadata": {},
     "output_type": "execute_result"
    }
   ],
   "source": [
    "df_dengue[df_dengue['tipo_edad']=='A']['edad'].value_counts(normalize=True)"
   ]
  },
  {
   "cell_type": "markdown",
   "metadata": {},
   "source": [
    "* Existen muy pocos datos (menos del 1%) de diagnósticos de pacientes con edades expresadas en meses o días.\n",
    "* Al parecer hay un valor atípico, una edad expresada en meses con valor de 58 (que debería expresarse en años), pero al no ser una imposibilidad, se deja el dato sin modificar."
   ]
  },
  {
   "cell_type": "code",
   "execution_count": null,
   "metadata": {},
   "outputs": [],
   "source": []
  },
  {
   "cell_type": "markdown",
   "metadata": {},
   "source": [
    "### Districts"
   ]
  },
  {
   "cell_type": "code",
   "execution_count": 23,
   "metadata": {},
   "outputs": [],
   "source": [
    "df_districts = pd.read_csv(data_path.joinpath('districts_2017census.csv'))"
   ]
  },
  {
   "cell_type": "code",
   "execution_count": 24,
   "metadata": {},
   "outputs": [
    {
     "data": {
      "text/html": [
       "<div>\n",
       "<style scoped>\n",
       "    .dataframe tbody tr th:only-of-type {\n",
       "        vertical-align: middle;\n",
       "    }\n",
       "\n",
       "    .dataframe tbody tr th {\n",
       "        vertical-align: top;\n",
       "    }\n",
       "\n",
       "    .dataframe thead th {\n",
       "        text-align: right;\n",
       "    }\n",
       "</style>\n",
       "<table border=\"1\" class=\"dataframe\">\n",
       "  <thead>\n",
       "    <tr style=\"text-align: right;\">\n",
       "      <th></th>\n",
       "      <th>ubigeo</th>\n",
       "      <th>departmento</th>\n",
       "      <th>provincia</th>\n",
       "      <th>distrito</th>\n",
       "      <th>source</th>\n",
       "    </tr>\n",
       "  </thead>\n",
       "  <tbody>\n",
       "    <tr>\n",
       "      <th>0</th>\n",
       "      <td>10103</td>\n",
       "      <td>AMAZONAS</td>\n",
       "      <td>CHACHAPOYAS</td>\n",
       "      <td>BALSAS</td>\n",
       "      <td>INEI - CPV2017 RESULTADOS</td>\n",
       "    </tr>\n",
       "    <tr>\n",
       "      <th>1</th>\n",
       "      <td>10109</td>\n",
       "      <td>AMAZONAS</td>\n",
       "      <td>CHACHAPOYAS</td>\n",
       "      <td>LA JALCA</td>\n",
       "      <td>INEI - CPV2017 RESULTADOS</td>\n",
       "    </tr>\n",
       "    <tr>\n",
       "      <th>2</th>\n",
       "      <td>10118</td>\n",
       "      <td>AMAZONAS</td>\n",
       "      <td>CHACHAPOYAS</td>\n",
       "      <td>SAN FRANCISCO DE DAGUAS</td>\n",
       "      <td>INEI - CPV2017 RESULTADOS</td>\n",
       "    </tr>\n",
       "    <tr>\n",
       "      <th>3</th>\n",
       "      <td>10101</td>\n",
       "      <td>AMAZONAS</td>\n",
       "      <td>CHACHAPOYAS</td>\n",
       "      <td>CHACHAPOYAS</td>\n",
       "      <td>INEI - CPV2017 RESULTADOS</td>\n",
       "    </tr>\n",
       "    <tr>\n",
       "      <th>4</th>\n",
       "      <td>10112</td>\n",
       "      <td>AMAZONAS</td>\n",
       "      <td>CHACHAPOYAS</td>\n",
       "      <td>MAGDALENA</td>\n",
       "      <td>INEI - CPV2017 RESULTADOS</td>\n",
       "    </tr>\n",
       "  </tbody>\n",
       "</table>\n",
       "</div>"
      ],
      "text/plain": [
       "   ubigeo departmento    provincia                 distrito  \\\n",
       "0   10103    AMAZONAS  CHACHAPOYAS                   BALSAS   \n",
       "1   10109    AMAZONAS  CHACHAPOYAS                 LA JALCA   \n",
       "2   10118    AMAZONAS  CHACHAPOYAS  SAN FRANCISCO DE DAGUAS   \n",
       "3   10101    AMAZONAS  CHACHAPOYAS              CHACHAPOYAS   \n",
       "4   10112    AMAZONAS  CHACHAPOYAS                MAGDALENA   \n",
       "\n",
       "                      source  \n",
       "0  INEI - CPV2017 RESULTADOS  \n",
       "1  INEI - CPV2017 RESULTADOS  \n",
       "2  INEI - CPV2017 RESULTADOS  \n",
       "3  INEI - CPV2017 RESULTADOS  \n",
       "4  INEI - CPV2017 RESULTADOS  "
      ]
     },
     "execution_count": 24,
     "metadata": {},
     "output_type": "execute_result"
    }
   ],
   "source": [
    "df_districts.head()"
   ]
  },
  {
   "cell_type": "code",
   "execution_count": 25,
   "metadata": {},
   "outputs": [
    {
     "name": "stdout",
     "output_type": "stream",
     "text": [
      "<class 'pandas.core.frame.DataFrame'>\n",
      "RangeIndex: 1874 entries, 0 to 1873\n",
      "Data columns (total 5 columns):\n",
      " #   Column       Non-Null Count  Dtype \n",
      "---  ------       --------------  ----- \n",
      " 0   ubigeo       1874 non-null   int64 \n",
      " 1   departmento  1874 non-null   object\n",
      " 2   provincia    1874 non-null   object\n",
      " 3   distrito     1874 non-null   object\n",
      " 4   source       1874 non-null   object\n",
      "dtypes: int64(1), object(4)\n",
      "memory usage: 73.3+ KB\n"
     ]
    }
   ],
   "source": [
    "df_districts.info()"
   ]
  },
  {
   "cell_type": "code",
   "execution_count": 26,
   "metadata": {},
   "outputs": [
    {
     "data": {
      "text/plain": [
       "np.int64(0)"
      ]
     },
     "execution_count": 26,
     "metadata": {},
     "output_type": "execute_result"
    }
   ],
   "source": [
    "df_districts.duplicated(subset=['departmento', 'provincia', 'distrito']).sum()"
   ]
  },
  {
   "cell_type": "code",
   "execution_count": 27,
   "metadata": {},
   "outputs": [
    {
     "data": {
      "text/plain": [
       "np.int64(0)"
      ]
     },
     "execution_count": 27,
     "metadata": {},
     "output_type": "execute_result"
    }
   ],
   "source": [
    "df_districts.duplicated(subset='ubigeo').sum()"
   ]
  },
  {
   "cell_type": "code",
   "execution_count": 28,
   "metadata": {},
   "outputs": [
    {
     "data": {
      "text/plain": [
       "array(['INEI - CPV2017 RESULTADOS'], dtype=object)"
      ]
     },
     "execution_count": 28,
     "metadata": {},
     "output_type": "execute_result"
    }
   ],
   "source": [
    "df_districts['source'].unique()"
   ]
  },
  {
   "cell_type": "markdown",
   "metadata": {},
   "source": [
    "El conjunto de datos de distritos contiene los ubigeos de todos los distritos del Perú, no tiene valores duplicados y los datos provienen de una sola fuente: Censo Nacional 2017."
   ]
  },
  {
   "cell_type": "code",
   "execution_count": null,
   "metadata": {},
   "outputs": [],
   "source": []
  },
  {
   "cell_type": "markdown",
   "metadata": {},
   "source": [
    "### Population"
   ]
  },
  {
   "cell_type": "code",
   "execution_count": 29,
   "metadata": {},
   "outputs": [],
   "source": [
    "df_population = pd.read_csv(data_path.joinpath('population_2017-2022.csv'))"
   ]
  },
  {
   "cell_type": "code",
   "execution_count": 30,
   "metadata": {},
   "outputs": [
    {
     "data": {
      "text/html": [
       "<div>\n",
       "<style scoped>\n",
       "    .dataframe tbody tr th:only-of-type {\n",
       "        vertical-align: middle;\n",
       "    }\n",
       "\n",
       "    .dataframe tbody tr th {\n",
       "        vertical-align: top;\n",
       "    }\n",
       "\n",
       "    .dataframe thead th {\n",
       "        text-align: right;\n",
       "    }\n",
       "</style>\n",
       "<table border=\"1\" class=\"dataframe\">\n",
       "  <thead>\n",
       "    <tr style=\"text-align: right;\">\n",
       "      <th></th>\n",
       "      <th>ubigeo</th>\n",
       "      <th>year</th>\n",
       "      <th>population</th>\n",
       "    </tr>\n",
       "  </thead>\n",
       "  <tbody>\n",
       "    <tr>\n",
       "      <th>0</th>\n",
       "      <td>10101</td>\n",
       "      <td>2017</td>\n",
       "      <td>32589</td>\n",
       "    </tr>\n",
       "    <tr>\n",
       "      <th>1</th>\n",
       "      <td>10102</td>\n",
       "      <td>2017</td>\n",
       "      <td>262</td>\n",
       "    </tr>\n",
       "    <tr>\n",
       "      <th>2</th>\n",
       "      <td>10103</td>\n",
       "      <td>2017</td>\n",
       "      <td>1136</td>\n",
       "    </tr>\n",
       "    <tr>\n",
       "      <th>3</th>\n",
       "      <td>10104</td>\n",
       "      <td>2017</td>\n",
       "      <td>642</td>\n",
       "    </tr>\n",
       "    <tr>\n",
       "      <th>4</th>\n",
       "      <td>10105</td>\n",
       "      <td>2017</td>\n",
       "      <td>585</td>\n",
       "    </tr>\n",
       "  </tbody>\n",
       "</table>\n",
       "</div>"
      ],
      "text/plain": [
       "   ubigeo  year  population\n",
       "0   10101  2017       32589\n",
       "1   10102  2017         262\n",
       "2   10103  2017        1136\n",
       "3   10104  2017         642\n",
       "4   10105  2017         585"
      ]
     },
     "execution_count": 30,
     "metadata": {},
     "output_type": "execute_result"
    }
   ],
   "source": [
    "df_population.head()"
   ]
  },
  {
   "cell_type": "code",
   "execution_count": 31,
   "metadata": {},
   "outputs": [
    {
     "name": "stdout",
     "output_type": "stream",
     "text": [
      "<class 'pandas.core.frame.DataFrame'>\n",
      "RangeIndex: 11244 entries, 0 to 11243\n",
      "Data columns (total 3 columns):\n",
      " #   Column      Non-Null Count  Dtype\n",
      "---  ------      --------------  -----\n",
      " 0   ubigeo      11244 non-null  int64\n",
      " 1   year        11244 non-null  int64\n",
      " 2   population  11244 non-null  int64\n",
      "dtypes: int64(3)\n",
      "memory usage: 263.7 KB\n"
     ]
    }
   ],
   "source": [
    "df_population.info()"
   ]
  },
  {
   "cell_type": "code",
   "execution_count": 32,
   "metadata": {},
   "outputs": [
    {
     "data": {
      "text/plain": [
       "np.int64(0)"
      ]
     },
     "execution_count": 32,
     "metadata": {},
     "output_type": "execute_result"
    }
   ],
   "source": [
    "df_population.duplicated(subset=['ubigeo', 'year']).sum()"
   ]
  },
  {
   "cell_type": "markdown",
   "metadata": {},
   "source": [
    "Este conjunto de datos contiene la población anual por distrito y no contiene duplicados."
   ]
  },
  {
   "cell_type": "code",
   "execution_count": null,
   "metadata": {},
   "outputs": [],
   "source": []
  },
  {
   "cell_type": "markdown",
   "metadata": {},
   "source": [
    "### Temperature"
   ]
  },
  {
   "cell_type": "code",
   "execution_count": 33,
   "metadata": {},
   "outputs": [],
   "source": [
    "df_temperature = pd.read_csv(data_path.joinpath('mintemp_20170101-20221231.csv'))"
   ]
  },
  {
   "cell_type": "code",
   "execution_count": 34,
   "metadata": {},
   "outputs": [
    {
     "data": {
      "text/html": [
       "<div>\n",
       "<style scoped>\n",
       "    .dataframe tbody tr th:only-of-type {\n",
       "        vertical-align: middle;\n",
       "    }\n",
       "\n",
       "    .dataframe tbody tr th {\n",
       "        vertical-align: top;\n",
       "    }\n",
       "\n",
       "    .dataframe thead th {\n",
       "        text-align: right;\n",
       "    }\n",
       "</style>\n",
       "<table border=\"1\" class=\"dataframe\">\n",
       "  <thead>\n",
       "    <tr style=\"text-align: right;\">\n",
       "      <th></th>\n",
       "      <th>ubigeo</th>\n",
       "      <th>mintemp_20170101</th>\n",
       "      <th>mintemp_20170102</th>\n",
       "      <th>mintemp_20170103</th>\n",
       "      <th>mintemp_20170104</th>\n",
       "      <th>mintemp_20170105</th>\n",
       "      <th>mintemp_20170106</th>\n",
       "      <th>mintemp_20170107</th>\n",
       "      <th>mintemp_20170108</th>\n",
       "      <th>mintemp_20170109</th>\n",
       "      <th>...</th>\n",
       "      <th>mintemp_20221222</th>\n",
       "      <th>mintemp_20221223</th>\n",
       "      <th>mintemp_20221224</th>\n",
       "      <th>mintemp_20221225</th>\n",
       "      <th>mintemp_20221226</th>\n",
       "      <th>mintemp_20221227</th>\n",
       "      <th>mintemp_20221228</th>\n",
       "      <th>mintemp_20221229</th>\n",
       "      <th>mintemp_20221230</th>\n",
       "      <th>mintemp_20221231</th>\n",
       "    </tr>\n",
       "  </thead>\n",
       "  <tbody>\n",
       "    <tr>\n",
       "      <th>0</th>\n",
       "      <td>10103</td>\n",
       "      <td>12.498427</td>\n",
       "      <td>12.108865</td>\n",
       "      <td>12.565690</td>\n",
       "      <td>12.962123</td>\n",
       "      <td>12.595896</td>\n",
       "      <td>12.398725</td>\n",
       "      <td>12.383098</td>\n",
       "      <td>11.756330</td>\n",
       "      <td>12.209360</td>\n",
       "      <td>...</td>\n",
       "      <td>12.411258</td>\n",
       "      <td>12.258318</td>\n",
       "      <td>11.976654</td>\n",
       "      <td>12.379790</td>\n",
       "      <td>12.294665</td>\n",
       "      <td>11.132496</td>\n",
       "      <td>11.902057</td>\n",
       "      <td>12.365850</td>\n",
       "      <td>10.923075</td>\n",
       "      <td>12.044496</td>\n",
       "    </tr>\n",
       "    <tr>\n",
       "      <th>1</th>\n",
       "      <td>10109</td>\n",
       "      <td>10.329275</td>\n",
       "      <td>9.754982</td>\n",
       "      <td>9.841652</td>\n",
       "      <td>10.791199</td>\n",
       "      <td>10.288585</td>\n",
       "      <td>10.175150</td>\n",
       "      <td>9.670921</td>\n",
       "      <td>8.920175</td>\n",
       "      <td>9.632852</td>\n",
       "      <td>...</td>\n",
       "      <td>10.044639</td>\n",
       "      <td>9.420370</td>\n",
       "      <td>9.471938</td>\n",
       "      <td>10.210789</td>\n",
       "      <td>10.137074</td>\n",
       "      <td>8.345556</td>\n",
       "      <td>8.765216</td>\n",
       "      <td>9.788771</td>\n",
       "      <td>8.400263</td>\n",
       "      <td>9.985351</td>\n",
       "    </tr>\n",
       "    <tr>\n",
       "      <th>2</th>\n",
       "      <td>10118</td>\n",
       "      <td>11.647351</td>\n",
       "      <td>11.809120</td>\n",
       "      <td>11.633576</td>\n",
       "      <td>12.224550</td>\n",
       "      <td>12.042054</td>\n",
       "      <td>12.091172</td>\n",
       "      <td>11.480333</td>\n",
       "      <td>11.091276</td>\n",
       "      <td>11.547343</td>\n",
       "      <td>...</td>\n",
       "      <td>11.584653</td>\n",
       "      <td>10.455562</td>\n",
       "      <td>10.510100</td>\n",
       "      <td>11.428710</td>\n",
       "      <td>11.406121</td>\n",
       "      <td>10.034055</td>\n",
       "      <td>10.964971</td>\n",
       "      <td>11.010257</td>\n",
       "      <td>10.064669</td>\n",
       "      <td>11.142282</td>\n",
       "    </tr>\n",
       "    <tr>\n",
       "      <th>3</th>\n",
       "      <td>10101</td>\n",
       "      <td>12.146751</td>\n",
       "      <td>12.281131</td>\n",
       "      <td>11.913081</td>\n",
       "      <td>12.980650</td>\n",
       "      <td>12.445594</td>\n",
       "      <td>12.890292</td>\n",
       "      <td>12.150569</td>\n",
       "      <td>11.453386</td>\n",
       "      <td>12.106205</td>\n",
       "      <td>...</td>\n",
       "      <td>12.416107</td>\n",
       "      <td>10.945145</td>\n",
       "      <td>11.081451</td>\n",
       "      <td>11.893910</td>\n",
       "      <td>12.116299</td>\n",
       "      <td>10.915970</td>\n",
       "      <td>11.886139</td>\n",
       "      <td>11.607745</td>\n",
       "      <td>10.234204</td>\n",
       "      <td>11.648584</td>\n",
       "    </tr>\n",
       "    <tr>\n",
       "      <th>4</th>\n",
       "      <td>10112</td>\n",
       "      <td>10.566536</td>\n",
       "      <td>10.178665</td>\n",
       "      <td>10.012492</td>\n",
       "      <td>11.182473</td>\n",
       "      <td>10.469183</td>\n",
       "      <td>10.560177</td>\n",
       "      <td>9.986165</td>\n",
       "      <td>9.234688</td>\n",
       "      <td>10.001329</td>\n",
       "      <td>...</td>\n",
       "      <td>10.440131</td>\n",
       "      <td>9.541830</td>\n",
       "      <td>9.684929</td>\n",
       "      <td>10.437208</td>\n",
       "      <td>10.350846</td>\n",
       "      <td>8.870280</td>\n",
       "      <td>9.393880</td>\n",
       "      <td>9.968810</td>\n",
       "      <td>8.525117</td>\n",
       "      <td>10.163390</td>\n",
       "    </tr>\n",
       "  </tbody>\n",
       "</table>\n",
       "<p>5 rows × 2192 columns</p>\n",
       "</div>"
      ],
      "text/plain": [
       "   ubigeo  mintemp_20170101  mintemp_20170102  mintemp_20170103  \\\n",
       "0   10103         12.498427         12.108865         12.565690   \n",
       "1   10109         10.329275          9.754982          9.841652   \n",
       "2   10118         11.647351         11.809120         11.633576   \n",
       "3   10101         12.146751         12.281131         11.913081   \n",
       "4   10112         10.566536         10.178665         10.012492   \n",
       "\n",
       "   mintemp_20170104  mintemp_20170105  mintemp_20170106  mintemp_20170107  \\\n",
       "0         12.962123         12.595896         12.398725         12.383098   \n",
       "1         10.791199         10.288585         10.175150          9.670921   \n",
       "2         12.224550         12.042054         12.091172         11.480333   \n",
       "3         12.980650         12.445594         12.890292         12.150569   \n",
       "4         11.182473         10.469183         10.560177          9.986165   \n",
       "\n",
       "   mintemp_20170108  mintemp_20170109  ...  mintemp_20221222  \\\n",
       "0         11.756330         12.209360  ...         12.411258   \n",
       "1          8.920175          9.632852  ...         10.044639   \n",
       "2         11.091276         11.547343  ...         11.584653   \n",
       "3         11.453386         12.106205  ...         12.416107   \n",
       "4          9.234688         10.001329  ...         10.440131   \n",
       "\n",
       "   mintemp_20221223  mintemp_20221224  mintemp_20221225  mintemp_20221226  \\\n",
       "0         12.258318         11.976654         12.379790         12.294665   \n",
       "1          9.420370          9.471938         10.210789         10.137074   \n",
       "2         10.455562         10.510100         11.428710         11.406121   \n",
       "3         10.945145         11.081451         11.893910         12.116299   \n",
       "4          9.541830          9.684929         10.437208         10.350846   \n",
       "\n",
       "   mintemp_20221227  mintemp_20221228  mintemp_20221229  mintemp_20221230  \\\n",
       "0         11.132496         11.902057         12.365850         10.923075   \n",
       "1          8.345556          8.765216          9.788771          8.400263   \n",
       "2         10.034055         10.964971         11.010257         10.064669   \n",
       "3         10.915970         11.886139         11.607745         10.234204   \n",
       "4          8.870280          9.393880          9.968810          8.525117   \n",
       "\n",
       "   mintemp_20221231  \n",
       "0         12.044496  \n",
       "1          9.985351  \n",
       "2         11.142282  \n",
       "3         11.648584  \n",
       "4         10.163390  \n",
       "\n",
       "[5 rows x 2192 columns]"
      ]
     },
     "execution_count": 34,
     "metadata": {},
     "output_type": "execute_result"
    }
   ],
   "source": [
    "df_temperature.head()"
   ]
  },
  {
   "cell_type": "code",
   "execution_count": 35,
   "metadata": {},
   "outputs": [
    {
     "name": "stdout",
     "output_type": "stream",
     "text": [
      "<class 'pandas.core.frame.DataFrame'>\n",
      "RangeIndex: 1874 entries, 0 to 1873\n",
      "Columns: 2192 entries, ubigeo to mintemp_20221231\n",
      "dtypes: float64(2191), int64(1)\n",
      "memory usage: 31.3 MB\n"
     ]
    }
   ],
   "source": [
    "df_temperature.info()"
   ]
  },
  {
   "cell_type": "code",
   "execution_count": 36,
   "metadata": {},
   "outputs": [
    {
     "data": {
      "text/plain": [
       "[160101,\n",
       " 160102,\n",
       " 160103,\n",
       " 160104,\n",
       " 160105,\n",
       " 160106,\n",
       " 160107,\n",
       " 160108,\n",
       " 160110,\n",
       " 160112,\n",
       " 160113,\n",
       " 160201,\n",
       " 160202,\n",
       " 160205,\n",
       " 160206,\n",
       " 160210,\n",
       " 160211,\n",
       " 160301,\n",
       " 160302,\n",
       " 160303,\n",
       " 160304,\n",
       " 160305,\n",
       " 160401,\n",
       " 160402,\n",
       " 160403,\n",
       " 160404,\n",
       " 160501,\n",
       " 160502,\n",
       " 160503,\n",
       " 160504,\n",
       " 160505,\n",
       " 160506,\n",
       " 160507,\n",
       " 160508,\n",
       " 160509,\n",
       " 160510,\n",
       " 160511,\n",
       " 160601,\n",
       " 160602,\n",
       " 160603,\n",
       " 160604,\n",
       " 160605,\n",
       " 160606,\n",
       " 160701,\n",
       " 160702,\n",
       " 160703,\n",
       " 160704,\n",
       " 160705,\n",
       " 160706,\n",
       " 160801,\n",
       " 160802,\n",
       " 160803,\n",
       " 160804]"
      ]
     },
     "execution_count": 36,
     "metadata": {},
     "output_type": "execute_result"
    }
   ],
   "source": [
    "ubigeos_loreto = df_districts[df_districts['departmento']=='LORETO']['ubigeo'].sort_values().to_list()\n",
    "ubigeos_loreto"
   ]
  },
  {
   "cell_type": "code",
   "execution_count": 37,
   "metadata": {},
   "outputs": [
    {
     "data": {
      "text/plain": [
       "np.int64(0)"
      ]
     },
     "execution_count": 37,
     "metadata": {},
     "output_type": "execute_result"
    }
   ],
   "source": [
    "df_temperature[df_temperature['ubigeo'].isin(ubigeos_loreto)].isna().sum().sum()"
   ]
  },
  {
   "cell_type": "markdown",
   "metadata": {},
   "source": [
    "Los datos de temperatura para el departamento de Loreto están completos, no contienen vacíos."
   ]
  },
  {
   "cell_type": "code",
   "execution_count": null,
   "metadata": {},
   "outputs": [],
   "source": []
  },
  {
   "cell_type": "code",
   "execution_count": 38,
   "metadata": {},
   "outputs": [
    {
     "name": "stdout",
     "output_type": "stream",
     "text": [
      "1: 2023-12-31 - 2024-01-06\n",
      "2: 2024-01-07 - 2024-01-13\n",
      "3: 2024-01-14 - 2024-01-20\n",
      "4: 2024-01-21 - 2024-01-27\n",
      "5: 2024-01-28 - 2024-02-03\n",
      "6: 2024-02-04 - 2024-02-10\n",
      "7: 2024-02-11 - 2024-02-17\n",
      "8: 2024-02-18 - 2024-02-24\n",
      "9: 2024-02-25 - 2024-03-02\n",
      "10: 2024-03-03 - 2024-03-09\n",
      "11: 2024-03-10 - 2024-03-16\n",
      "12: 2024-03-17 - 2024-03-23\n",
      "13: 2024-03-24 - 2024-03-30\n",
      "14: 2024-03-31 - 2024-04-06\n",
      "15: 2024-04-07 - 2024-04-13\n",
      "16: 2024-04-14 - 2024-04-20\n",
      "17: 2024-04-21 - 2024-04-27\n",
      "18: 2024-04-28 - 2024-05-04\n",
      "19: 2024-05-05 - 2024-05-11\n",
      "20: 2024-05-12 - 2024-05-18\n",
      "21: 2024-05-19 - 2024-05-25\n",
      "22: 2024-05-26 - 2024-06-01\n",
      "23: 2024-06-02 - 2024-06-08\n",
      "24: 2024-06-09 - 2024-06-15\n",
      "25: 2024-06-16 - 2024-06-22\n",
      "26: 2024-06-23 - 2024-06-29\n",
      "27: 2024-06-30 - 2024-07-06\n",
      "28: 2024-07-07 - 2024-07-13\n",
      "29: 2024-07-14 - 2024-07-20\n",
      "30: 2024-07-21 - 2024-07-27\n",
      "31: 2024-07-28 - 2024-08-03\n",
      "32: 2024-08-04 - 2024-08-10\n",
      "33: 2024-08-11 - 2024-08-17\n",
      "34: 2024-08-18 - 2024-08-24\n",
      "35: 2024-08-25 - 2024-08-31\n",
      "36: 2024-09-01 - 2024-09-07\n",
      "37: 2024-09-08 - 2024-09-14\n",
      "38: 2024-09-15 - 2024-09-21\n",
      "39: 2024-09-22 - 2024-09-28\n",
      "40: 2024-09-29 - 2024-10-05\n",
      "41: 2024-10-06 - 2024-10-12\n",
      "42: 2024-10-13 - 2024-10-19\n",
      "43: 2024-10-20 - 2024-10-26\n",
      "44: 2024-10-27 - 2024-11-02\n",
      "45: 2024-11-03 - 2024-11-09\n",
      "46: 2024-11-10 - 2024-11-16\n",
      "47: 2024-11-17 - 2024-11-23\n",
      "48: 2024-11-24 - 2024-11-30\n",
      "49: 2024-12-01 - 2024-12-07\n",
      "50: 2024-12-08 - 2024-12-14\n",
      "51: 2024-12-15 - 2024-12-21\n",
      "52: 2024-12-22 - 2024-12-28\n"
     ]
    }
   ],
   "source": [
    "# Semanas epidemiológicas\n",
    "\n",
    "for ix, semana in enumerate(Year(2024).iterweeks(), 1):\n",
    "    print(f'{ix}: {semana.startdate()} - {semana.enddate()}')"
   ]
  },
  {
   "cell_type": "markdown",
   "metadata": {},
   "source": [
    "Se valida la obtención de las semanas epidemiológicas según lo indicado en el [calendario epidemiológico MINSA 2024](../references/calendario-epidemiologico-cdc-minsa-2024.pdf)"
   ]
  },
  {
   "cell_type": "code",
   "execution_count": null,
   "metadata": {},
   "outputs": [],
   "source": []
  },
  {
   "cell_type": "markdown",
   "metadata": {},
   "source": [
    "## Transformation"
   ]
  },
  {
   "cell_type": "markdown",
   "metadata": {},
   "source": [
    "### Epidemiological Surveillance of Dengue"
   ]
  },
  {
   "cell_type": "markdown",
   "metadata": {},
   "source": [
    "Se observó que la agregación mínima en común entre los conjuntos de datos es `distrito`,\n",
    "entonces se puede prescindir de las columnas `localidad`, `localcod` y también de `diresa` por ser monovalente."
   ]
  },
  {
   "cell_type": "code",
   "execution_count": 39,
   "metadata": {},
   "outputs": [],
   "source": [
    "df_dengue = df_dengue[['departamento', 'provincia', 'distrito', 'ubigeo', 'diagnostic',\n",
    "                       'enfermedad', 'ano', 'semana', 'edad', 'tipo_edad', 'sexo']].copy()"
   ]
  },
  {
   "cell_type": "code",
   "execution_count": 40,
   "metadata": {},
   "outputs": [
    {
     "name": "stdout",
     "output_type": "stream",
     "text": [
      "<class 'pandas.core.frame.DataFrame'>\n",
      "Index: 27310 entries, 257636 to 501690\n",
      "Data columns (total 11 columns):\n",
      " #   Column        Non-Null Count  Dtype \n",
      "---  ------        --------------  ----- \n",
      " 0   departamento  27310 non-null  object\n",
      " 1   provincia     27310 non-null  object\n",
      " 2   distrito      27310 non-null  object\n",
      " 3   ubigeo        27310 non-null  int64 \n",
      " 4   diagnostic    27310 non-null  object\n",
      " 5   enfermedad    27310 non-null  object\n",
      " 6   ano           27310 non-null  int64 \n",
      " 7   semana        27310 non-null  int64 \n",
      " 8   edad          27310 non-null  int64 \n",
      " 9   tipo_edad     27310 non-null  object\n",
      " 10  sexo          27310 non-null  object\n",
      "dtypes: int64(4), object(7)\n",
      "memory usage: 2.5+ MB\n"
     ]
    }
   ],
   "source": [
    "df_dengue.info()"
   ]
  },
  {
   "cell_type": "code",
   "execution_count": 41,
   "metadata": {},
   "outputs": [],
   "source": [
    "df_dengue.rename(columns={'departamento': 'department',\n",
    "                          'provincia': 'province',\n",
    "                          'distrito': 'district',\n",
    "                          'enfermedad': 'disease',\n",
    "                          'ano': 'year',\n",
    "                          'semana': 'epi_week',\n",
    "                          'edad': 'age',\n",
    "                          'tipo_edad': 'age_type',\n",
    "                          'sexo': 'gender'},\n",
    "                 inplace=True)"
   ]
  },
  {
   "cell_type": "code",
   "execution_count": 42,
   "metadata": {},
   "outputs": [],
   "source": [
    "df_dengue.sort_values(['year', 'epi_week'], inplace=True)"
   ]
  },
  {
   "cell_type": "code",
   "execution_count": 43,
   "metadata": {},
   "outputs": [
    {
     "data": {
      "text/html": [
       "<div>\n",
       "<style scoped>\n",
       "    .dataframe tbody tr th:only-of-type {\n",
       "        vertical-align: middle;\n",
       "    }\n",
       "\n",
       "    .dataframe tbody tr th {\n",
       "        vertical-align: top;\n",
       "    }\n",
       "\n",
       "    .dataframe thead th {\n",
       "        text-align: right;\n",
       "    }\n",
       "</style>\n",
       "<table border=\"1\" class=\"dataframe\">\n",
       "  <thead>\n",
       "    <tr style=\"text-align: right;\">\n",
       "      <th></th>\n",
       "      <th>department</th>\n",
       "      <th>province</th>\n",
       "      <th>district</th>\n",
       "      <th>ubigeo</th>\n",
       "      <th>diagnostic</th>\n",
       "      <th>disease</th>\n",
       "      <th>year</th>\n",
       "      <th>epi_week</th>\n",
       "      <th>age</th>\n",
       "      <th>age_type</th>\n",
       "      <th>gender</th>\n",
       "    </tr>\n",
       "  </thead>\n",
       "  <tbody>\n",
       "    <tr>\n",
       "      <th>282692</th>\n",
       "      <td>LORETO</td>\n",
       "      <td>MAYNAS</td>\n",
       "      <td>IQUITOS</td>\n",
       "      <td>160101</td>\n",
       "      <td>A97.0</td>\n",
       "      <td>DENGUE SIN SEÑALES DE ALARMA</td>\n",
       "      <td>2017</td>\n",
       "      <td>1</td>\n",
       "      <td>16</td>\n",
       "      <td>A</td>\n",
       "      <td>F</td>\n",
       "    </tr>\n",
       "    <tr>\n",
       "      <th>282693</th>\n",
       "      <td>LORETO</td>\n",
       "      <td>MAYNAS</td>\n",
       "      <td>IQUITOS</td>\n",
       "      <td>160101</td>\n",
       "      <td>A97.0</td>\n",
       "      <td>DENGUE SIN SEÑALES DE ALARMA</td>\n",
       "      <td>2017</td>\n",
       "      <td>1</td>\n",
       "      <td>39</td>\n",
       "      <td>A</td>\n",
       "      <td>F</td>\n",
       "    </tr>\n",
       "    <tr>\n",
       "      <th>282694</th>\n",
       "      <td>LORETO</td>\n",
       "      <td>MAYNAS</td>\n",
       "      <td>PUNCHANA</td>\n",
       "      <td>160108</td>\n",
       "      <td>A97.0</td>\n",
       "      <td>DENGUE SIN SEÑALES DE ALARMA</td>\n",
       "      <td>2017</td>\n",
       "      <td>1</td>\n",
       "      <td>5</td>\n",
       "      <td>A</td>\n",
       "      <td>M</td>\n",
       "    </tr>\n",
       "  </tbody>\n",
       "</table>\n",
       "</div>"
      ],
      "text/plain": [
       "       department province  district  ubigeo diagnostic  \\\n",
       "282692     LORETO   MAYNAS   IQUITOS  160101      A97.0   \n",
       "282693     LORETO   MAYNAS   IQUITOS  160101      A97.0   \n",
       "282694     LORETO   MAYNAS  PUNCHANA  160108      A97.0   \n",
       "\n",
       "                             disease  year  epi_week  age age_type gender  \n",
       "282692  DENGUE SIN SEÑALES DE ALARMA  2017         1   16        A      F  \n",
       "282693  DENGUE SIN SEÑALES DE ALARMA  2017         1   39        A      F  \n",
       "282694  DENGUE SIN SEÑALES DE ALARMA  2017         1    5        A      M  "
      ]
     },
     "execution_count": 43,
     "metadata": {},
     "output_type": "execute_result"
    }
   ],
   "source": [
    "df_dengue.head(3)"
   ]
  },
  {
   "cell_type": "markdown",
   "metadata": {},
   "source": [
    "Se escalan los datos de edad a `años` para poder agruparlos de manera semanal por ubigeo."
   ]
  },
  {
   "cell_type": "code",
   "execution_count": 44,
   "metadata": {},
   "outputs": [],
   "source": [
    "df_dengue['age'] = df_dengue['age'].astype('float32')"
   ]
  },
  {
   "cell_type": "code",
   "execution_count": 45,
   "metadata": {},
   "outputs": [],
   "source": [
    "df_dengue.loc[df_dengue['age_type']=='M', 'age'] = df_dengue.loc[df_dengue['age_type']=='M', 'age']/12"
   ]
  },
  {
   "cell_type": "code",
   "execution_count": 46,
   "metadata": {},
   "outputs": [],
   "source": [
    "df_dengue.loc[df_dengue['age_type']=='D', 'age'] = df_dengue.loc[df_dengue['age_type']=='D', 'age']/365"
   ]
  },
  {
   "cell_type": "code",
   "execution_count": 47,
   "metadata": {},
   "outputs": [
    {
     "name": "stdout",
     "output_type": "stream",
     "text": [
      "<class 'pandas.core.frame.DataFrame'>\n",
      "Index: 27310 entries, 282692 to 501667\n",
      "Data columns (total 11 columns):\n",
      " #   Column      Non-Null Count  Dtype  \n",
      "---  ------      --------------  -----  \n",
      " 0   department  27310 non-null  object \n",
      " 1   province    27310 non-null  object \n",
      " 2   district    27310 non-null  object \n",
      " 3   ubigeo      27310 non-null  int64  \n",
      " 4   diagnostic  27310 non-null  object \n",
      " 5   disease     27310 non-null  object \n",
      " 6   year        27310 non-null  int64  \n",
      " 7   epi_week    27310 non-null  int64  \n",
      " 8   age         27310 non-null  float32\n",
      " 9   age_type    27310 non-null  object \n",
      " 10  gender      27310 non-null  object \n",
      "dtypes: float32(1), int64(3), object(7)\n",
      "memory usage: 2.4+ MB\n"
     ]
    }
   ],
   "source": [
    "df_dengue.info()"
   ]
  },
  {
   "cell_type": "code",
   "execution_count": null,
   "metadata": {},
   "outputs": [],
   "source": []
  },
  {
   "cell_type": "code",
   "execution_count": 48,
   "metadata": {},
   "outputs": [],
   "source": [
    "groupby_list = ['ubigeo', 'year', 'epi_week']\n",
    "df_dengue_agg = df_dengue.groupby(groupby_list).agg({'disease': 'count',\n",
    "                                                     'age': ['mean', 'median'],\n",
    "                                                     'gender': pd.Series.mode\n",
    "                                                     }).reset_index()"
   ]
  },
  {
   "cell_type": "code",
   "execution_count": 49,
   "metadata": {},
   "outputs": [
    {
     "data": {
      "text/html": [
       "<div>\n",
       "<style scoped>\n",
       "    .dataframe tbody tr th:only-of-type {\n",
       "        vertical-align: middle;\n",
       "    }\n",
       "\n",
       "    .dataframe tbody tr th {\n",
       "        vertical-align: top;\n",
       "    }\n",
       "\n",
       "    .dataframe thead tr th {\n",
       "        text-align: left;\n",
       "    }\n",
       "</style>\n",
       "<table border=\"1\" class=\"dataframe\">\n",
       "  <thead>\n",
       "    <tr>\n",
       "      <th></th>\n",
       "      <th>ubigeo</th>\n",
       "      <th>year</th>\n",
       "      <th>epi_week</th>\n",
       "      <th>disease</th>\n",
       "      <th colspan=\"2\" halign=\"left\">age</th>\n",
       "      <th>gender</th>\n",
       "    </tr>\n",
       "    <tr>\n",
       "      <th></th>\n",
       "      <th></th>\n",
       "      <th></th>\n",
       "      <th></th>\n",
       "      <th>count</th>\n",
       "      <th>mean</th>\n",
       "      <th>median</th>\n",
       "      <th>mode</th>\n",
       "    </tr>\n",
       "  </thead>\n",
       "  <tbody>\n",
       "    <tr>\n",
       "      <th>0</th>\n",
       "      <td>160101</td>\n",
       "      <td>2017</td>\n",
       "      <td>1</td>\n",
       "      <td>8</td>\n",
       "      <td>39.000000</td>\n",
       "      <td>38.5</td>\n",
       "      <td>F</td>\n",
       "    </tr>\n",
       "    <tr>\n",
       "      <th>1</th>\n",
       "      <td>160101</td>\n",
       "      <td>2017</td>\n",
       "      <td>2</td>\n",
       "      <td>9</td>\n",
       "      <td>28.407406</td>\n",
       "      <td>25.0</td>\n",
       "      <td>M</td>\n",
       "    </tr>\n",
       "    <tr>\n",
       "      <th>2</th>\n",
       "      <td>160101</td>\n",
       "      <td>2017</td>\n",
       "      <td>3</td>\n",
       "      <td>1</td>\n",
       "      <td>43.000000</td>\n",
       "      <td>43.0</td>\n",
       "      <td>F</td>\n",
       "    </tr>\n",
       "    <tr>\n",
       "      <th>3</th>\n",
       "      <td>160101</td>\n",
       "      <td>2017</td>\n",
       "      <td>4</td>\n",
       "      <td>3</td>\n",
       "      <td>30.000000</td>\n",
       "      <td>29.0</td>\n",
       "      <td>M</td>\n",
       "    </tr>\n",
       "    <tr>\n",
       "      <th>4</th>\n",
       "      <td>160101</td>\n",
       "      <td>2017</td>\n",
       "      <td>5</td>\n",
       "      <td>2</td>\n",
       "      <td>23.000000</td>\n",
       "      <td>23.0</td>\n",
       "      <td>F</td>\n",
       "    </tr>\n",
       "    <tr>\n",
       "      <th>...</th>\n",
       "      <td>...</td>\n",
       "      <td>...</td>\n",
       "      <td>...</td>\n",
       "      <td>...</td>\n",
       "      <td>...</td>\n",
       "      <td>...</td>\n",
       "      <td>...</td>\n",
       "    </tr>\n",
       "    <tr>\n",
       "      <th>3188</th>\n",
       "      <td>160803</td>\n",
       "      <td>2022</td>\n",
       "      <td>18</td>\n",
       "      <td>2</td>\n",
       "      <td>22.000000</td>\n",
       "      <td>22.0</td>\n",
       "      <td>[F, M]</td>\n",
       "    </tr>\n",
       "    <tr>\n",
       "      <th>3189</th>\n",
       "      <td>160803</td>\n",
       "      <td>2022</td>\n",
       "      <td>19</td>\n",
       "      <td>1</td>\n",
       "      <td>32.000000</td>\n",
       "      <td>32.0</td>\n",
       "      <td>F</td>\n",
       "    </tr>\n",
       "    <tr>\n",
       "      <th>3190</th>\n",
       "      <td>160803</td>\n",
       "      <td>2022</td>\n",
       "      <td>27</td>\n",
       "      <td>2</td>\n",
       "      <td>42.000000</td>\n",
       "      <td>42.0</td>\n",
       "      <td>F</td>\n",
       "    </tr>\n",
       "    <tr>\n",
       "      <th>3191</th>\n",
       "      <td>160803</td>\n",
       "      <td>2022</td>\n",
       "      <td>51</td>\n",
       "      <td>1</td>\n",
       "      <td>13.000000</td>\n",
       "      <td>13.0</td>\n",
       "      <td>M</td>\n",
       "    </tr>\n",
       "    <tr>\n",
       "      <th>3192</th>\n",
       "      <td>160803</td>\n",
       "      <td>2022</td>\n",
       "      <td>52</td>\n",
       "      <td>2</td>\n",
       "      <td>22.500000</td>\n",
       "      <td>22.5</td>\n",
       "      <td>F</td>\n",
       "    </tr>\n",
       "  </tbody>\n",
       "</table>\n",
       "<p>3193 rows × 7 columns</p>\n",
       "</div>"
      ],
      "text/plain": [
       "      ubigeo  year epi_week disease        age         gender\n",
       "                              count       mean median    mode\n",
       "0     160101  2017        1       8  39.000000   38.5       F\n",
       "1     160101  2017        2       9  28.407406   25.0       M\n",
       "2     160101  2017        3       1  43.000000   43.0       F\n",
       "3     160101  2017        4       3  30.000000   29.0       M\n",
       "4     160101  2017        5       2  23.000000   23.0       F\n",
       "...      ...   ...      ...     ...        ...    ...     ...\n",
       "3188  160803  2022       18       2  22.000000   22.0  [F, M]\n",
       "3189  160803  2022       19       1  32.000000   32.0       F\n",
       "3190  160803  2022       27       2  42.000000   42.0       F\n",
       "3191  160803  2022       51       1  13.000000   13.0       M\n",
       "3192  160803  2022       52       2  22.500000   22.5       F\n",
       "\n",
       "[3193 rows x 7 columns]"
      ]
     },
     "execution_count": 49,
     "metadata": {},
     "output_type": "execute_result"
    }
   ],
   "source": [
    "df_dengue_agg"
   ]
  },
  {
   "cell_type": "code",
   "execution_count": 50,
   "metadata": {},
   "outputs": [],
   "source": [
    "df_dengue_agg.columns = ['ubigeo', 'year', 'epi_week', 'n_cases', 'age_mean', 'age_median', 'gender_mode']"
   ]
  },
  {
   "cell_type": "code",
   "execution_count": 51,
   "metadata": {},
   "outputs": [
    {
     "data": {
      "text/html": [
       "<div>\n",
       "<style scoped>\n",
       "    .dataframe tbody tr th:only-of-type {\n",
       "        vertical-align: middle;\n",
       "    }\n",
       "\n",
       "    .dataframe tbody tr th {\n",
       "        vertical-align: top;\n",
       "    }\n",
       "\n",
       "    .dataframe thead th {\n",
       "        text-align: right;\n",
       "    }\n",
       "</style>\n",
       "<table border=\"1\" class=\"dataframe\">\n",
       "  <thead>\n",
       "    <tr style=\"text-align: right;\">\n",
       "      <th></th>\n",
       "      <th>ubigeo</th>\n",
       "      <th>year</th>\n",
       "      <th>epi_week</th>\n",
       "      <th>n_cases</th>\n",
       "      <th>age_mean</th>\n",
       "      <th>age_median</th>\n",
       "      <th>gender_mode</th>\n",
       "    </tr>\n",
       "  </thead>\n",
       "  <tbody>\n",
       "    <tr>\n",
       "      <th>0</th>\n",
       "      <td>160101</td>\n",
       "      <td>2017</td>\n",
       "      <td>1</td>\n",
       "      <td>8</td>\n",
       "      <td>39.000000</td>\n",
       "      <td>38.5</td>\n",
       "      <td>F</td>\n",
       "    </tr>\n",
       "    <tr>\n",
       "      <th>1</th>\n",
       "      <td>160101</td>\n",
       "      <td>2017</td>\n",
       "      <td>2</td>\n",
       "      <td>9</td>\n",
       "      <td>28.407406</td>\n",
       "      <td>25.0</td>\n",
       "      <td>M</td>\n",
       "    </tr>\n",
       "    <tr>\n",
       "      <th>2</th>\n",
       "      <td>160101</td>\n",
       "      <td>2017</td>\n",
       "      <td>3</td>\n",
       "      <td>1</td>\n",
       "      <td>43.000000</td>\n",
       "      <td>43.0</td>\n",
       "      <td>F</td>\n",
       "    </tr>\n",
       "    <tr>\n",
       "      <th>3</th>\n",
       "      <td>160101</td>\n",
       "      <td>2017</td>\n",
       "      <td>4</td>\n",
       "      <td>3</td>\n",
       "      <td>30.000000</td>\n",
       "      <td>29.0</td>\n",
       "      <td>M</td>\n",
       "    </tr>\n",
       "    <tr>\n",
       "      <th>4</th>\n",
       "      <td>160101</td>\n",
       "      <td>2017</td>\n",
       "      <td>5</td>\n",
       "      <td>2</td>\n",
       "      <td>23.000000</td>\n",
       "      <td>23.0</td>\n",
       "      <td>F</td>\n",
       "    </tr>\n",
       "    <tr>\n",
       "      <th>...</th>\n",
       "      <td>...</td>\n",
       "      <td>...</td>\n",
       "      <td>...</td>\n",
       "      <td>...</td>\n",
       "      <td>...</td>\n",
       "      <td>...</td>\n",
       "      <td>...</td>\n",
       "    </tr>\n",
       "    <tr>\n",
       "      <th>3188</th>\n",
       "      <td>160803</td>\n",
       "      <td>2022</td>\n",
       "      <td>18</td>\n",
       "      <td>2</td>\n",
       "      <td>22.000000</td>\n",
       "      <td>22.0</td>\n",
       "      <td>[F, M]</td>\n",
       "    </tr>\n",
       "    <tr>\n",
       "      <th>3189</th>\n",
       "      <td>160803</td>\n",
       "      <td>2022</td>\n",
       "      <td>19</td>\n",
       "      <td>1</td>\n",
       "      <td>32.000000</td>\n",
       "      <td>32.0</td>\n",
       "      <td>F</td>\n",
       "    </tr>\n",
       "    <tr>\n",
       "      <th>3190</th>\n",
       "      <td>160803</td>\n",
       "      <td>2022</td>\n",
       "      <td>27</td>\n",
       "      <td>2</td>\n",
       "      <td>42.000000</td>\n",
       "      <td>42.0</td>\n",
       "      <td>F</td>\n",
       "    </tr>\n",
       "    <tr>\n",
       "      <th>3191</th>\n",
       "      <td>160803</td>\n",
       "      <td>2022</td>\n",
       "      <td>51</td>\n",
       "      <td>1</td>\n",
       "      <td>13.000000</td>\n",
       "      <td>13.0</td>\n",
       "      <td>M</td>\n",
       "    </tr>\n",
       "    <tr>\n",
       "      <th>3192</th>\n",
       "      <td>160803</td>\n",
       "      <td>2022</td>\n",
       "      <td>52</td>\n",
       "      <td>2</td>\n",
       "      <td>22.500000</td>\n",
       "      <td>22.5</td>\n",
       "      <td>F</td>\n",
       "    </tr>\n",
       "  </tbody>\n",
       "</table>\n",
       "<p>3193 rows × 7 columns</p>\n",
       "</div>"
      ],
      "text/plain": [
       "      ubigeo  year  epi_week  n_cases   age_mean  age_median gender_mode\n",
       "0     160101  2017         1        8  39.000000        38.5           F\n",
       "1     160101  2017         2        9  28.407406        25.0           M\n",
       "2     160101  2017         3        1  43.000000        43.0           F\n",
       "3     160101  2017         4        3  30.000000        29.0           M\n",
       "4     160101  2017         5        2  23.000000        23.0           F\n",
       "...      ...   ...       ...      ...        ...         ...         ...\n",
       "3188  160803  2022        18        2  22.000000        22.0      [F, M]\n",
       "3189  160803  2022        19        1  32.000000        32.0           F\n",
       "3190  160803  2022        27        2  42.000000        42.0           F\n",
       "3191  160803  2022        51        1  13.000000        13.0           M\n",
       "3192  160803  2022        52        2  22.500000        22.5           F\n",
       "\n",
       "[3193 rows x 7 columns]"
      ]
     },
     "execution_count": 51,
     "metadata": {},
     "output_type": "execute_result"
    }
   ],
   "source": [
    "df_dengue_agg"
   ]
  },
  {
   "cell_type": "markdown",
   "metadata": {},
   "source": [
    "Al existir moda múltiple en varias semanas, se procede a asignar el valor de `B` de _Both are mode_."
   ]
  },
  {
   "cell_type": "code",
   "execution_count": 52,
   "metadata": {},
   "outputs": [],
   "source": [
    "df_dengue_agg.loc[~df_dengue_agg['gender_mode'].isin(['F', 'M']), 'gender_mode'] = 'B'"
   ]
  },
  {
   "cell_type": "code",
   "execution_count": 53,
   "metadata": {},
   "outputs": [
    {
     "data": {
      "text/html": [
       "<div>\n",
       "<style scoped>\n",
       "    .dataframe tbody tr th:only-of-type {\n",
       "        vertical-align: middle;\n",
       "    }\n",
       "\n",
       "    .dataframe tbody tr th {\n",
       "        vertical-align: top;\n",
       "    }\n",
       "\n",
       "    .dataframe thead th {\n",
       "        text-align: right;\n",
       "    }\n",
       "</style>\n",
       "<table border=\"1\" class=\"dataframe\">\n",
       "  <thead>\n",
       "    <tr style=\"text-align: right;\">\n",
       "      <th></th>\n",
       "      <th>ubigeo</th>\n",
       "      <th>year</th>\n",
       "      <th>epi_week</th>\n",
       "      <th>n_cases</th>\n",
       "      <th>age_mean</th>\n",
       "      <th>age_median</th>\n",
       "      <th>gender_mode</th>\n",
       "    </tr>\n",
       "  </thead>\n",
       "  <tbody>\n",
       "    <tr>\n",
       "      <th>0</th>\n",
       "      <td>160101</td>\n",
       "      <td>2017</td>\n",
       "      <td>1</td>\n",
       "      <td>8</td>\n",
       "      <td>39.000000</td>\n",
       "      <td>38.5</td>\n",
       "      <td>F</td>\n",
       "    </tr>\n",
       "    <tr>\n",
       "      <th>1</th>\n",
       "      <td>160101</td>\n",
       "      <td>2017</td>\n",
       "      <td>2</td>\n",
       "      <td>9</td>\n",
       "      <td>28.407406</td>\n",
       "      <td>25.0</td>\n",
       "      <td>M</td>\n",
       "    </tr>\n",
       "    <tr>\n",
       "      <th>2</th>\n",
       "      <td>160101</td>\n",
       "      <td>2017</td>\n",
       "      <td>3</td>\n",
       "      <td>1</td>\n",
       "      <td>43.000000</td>\n",
       "      <td>43.0</td>\n",
       "      <td>F</td>\n",
       "    </tr>\n",
       "    <tr>\n",
       "      <th>3</th>\n",
       "      <td>160101</td>\n",
       "      <td>2017</td>\n",
       "      <td>4</td>\n",
       "      <td>3</td>\n",
       "      <td>30.000000</td>\n",
       "      <td>29.0</td>\n",
       "      <td>M</td>\n",
       "    </tr>\n",
       "    <tr>\n",
       "      <th>4</th>\n",
       "      <td>160101</td>\n",
       "      <td>2017</td>\n",
       "      <td>5</td>\n",
       "      <td>2</td>\n",
       "      <td>23.000000</td>\n",
       "      <td>23.0</td>\n",
       "      <td>F</td>\n",
       "    </tr>\n",
       "    <tr>\n",
       "      <th>...</th>\n",
       "      <td>...</td>\n",
       "      <td>...</td>\n",
       "      <td>...</td>\n",
       "      <td>...</td>\n",
       "      <td>...</td>\n",
       "      <td>...</td>\n",
       "      <td>...</td>\n",
       "    </tr>\n",
       "    <tr>\n",
       "      <th>3188</th>\n",
       "      <td>160803</td>\n",
       "      <td>2022</td>\n",
       "      <td>18</td>\n",
       "      <td>2</td>\n",
       "      <td>22.000000</td>\n",
       "      <td>22.0</td>\n",
       "      <td>B</td>\n",
       "    </tr>\n",
       "    <tr>\n",
       "      <th>3189</th>\n",
       "      <td>160803</td>\n",
       "      <td>2022</td>\n",
       "      <td>19</td>\n",
       "      <td>1</td>\n",
       "      <td>32.000000</td>\n",
       "      <td>32.0</td>\n",
       "      <td>F</td>\n",
       "    </tr>\n",
       "    <tr>\n",
       "      <th>3190</th>\n",
       "      <td>160803</td>\n",
       "      <td>2022</td>\n",
       "      <td>27</td>\n",
       "      <td>2</td>\n",
       "      <td>42.000000</td>\n",
       "      <td>42.0</td>\n",
       "      <td>F</td>\n",
       "    </tr>\n",
       "    <tr>\n",
       "      <th>3191</th>\n",
       "      <td>160803</td>\n",
       "      <td>2022</td>\n",
       "      <td>51</td>\n",
       "      <td>1</td>\n",
       "      <td>13.000000</td>\n",
       "      <td>13.0</td>\n",
       "      <td>M</td>\n",
       "    </tr>\n",
       "    <tr>\n",
       "      <th>3192</th>\n",
       "      <td>160803</td>\n",
       "      <td>2022</td>\n",
       "      <td>52</td>\n",
       "      <td>2</td>\n",
       "      <td>22.500000</td>\n",
       "      <td>22.5</td>\n",
       "      <td>F</td>\n",
       "    </tr>\n",
       "  </tbody>\n",
       "</table>\n",
       "<p>3193 rows × 7 columns</p>\n",
       "</div>"
      ],
      "text/plain": [
       "      ubigeo  year  epi_week  n_cases   age_mean  age_median gender_mode\n",
       "0     160101  2017         1        8  39.000000        38.5           F\n",
       "1     160101  2017         2        9  28.407406        25.0           M\n",
       "2     160101  2017         3        1  43.000000        43.0           F\n",
       "3     160101  2017         4        3  30.000000        29.0           M\n",
       "4     160101  2017         5        2  23.000000        23.0           F\n",
       "...      ...   ...       ...      ...        ...         ...         ...\n",
       "3188  160803  2022        18        2  22.000000        22.0           B\n",
       "3189  160803  2022        19        1  32.000000        32.0           F\n",
       "3190  160803  2022        27        2  42.000000        42.0           F\n",
       "3191  160803  2022        51        1  13.000000        13.0           M\n",
       "3192  160803  2022        52        2  22.500000        22.5           F\n",
       "\n",
       "[3193 rows x 7 columns]"
      ]
     },
     "execution_count": 53,
     "metadata": {},
     "output_type": "execute_result"
    }
   ],
   "source": [
    "df_dengue_agg"
   ]
  },
  {
   "cell_type": "code",
   "execution_count": 54,
   "metadata": {},
   "outputs": [
    {
     "data": {
      "text/plain": [
       "gender_mode\n",
       "F    1482\n",
       "M    1289\n",
       "B     422\n",
       "Name: count, dtype: int64"
      ]
     },
     "execution_count": 54,
     "metadata": {},
     "output_type": "execute_result"
    }
   ],
   "source": [
    "df_dengue_agg['gender_mode'].value_counts()"
   ]
  },
  {
   "cell_type": "code",
   "execution_count": 55,
   "metadata": {},
   "outputs": [
    {
     "data": {
      "text/plain": [
       "gender_mode\n",
       "F    0.464140\n",
       "M    0.403696\n",
       "B    0.132164\n",
       "Name: proportion, dtype: float64"
      ]
     },
     "execution_count": 55,
     "metadata": {},
     "output_type": "execute_result"
    }
   ],
   "source": [
    "df_dengue_agg['gender_mode'].value_counts(normalize=True)"
   ]
  },
  {
   "cell_type": "code",
   "execution_count": null,
   "metadata": {},
   "outputs": [],
   "source": []
  },
  {
   "cell_type": "markdown",
   "metadata": {},
   "source": [
    "### Districts"
   ]
  },
  {
   "cell_type": "code",
   "execution_count": 56,
   "metadata": {},
   "outputs": [],
   "source": [
    "df_districts_loreto = df_districts[df_districts['departmento']=='LORETO'].copy()"
   ]
  },
  {
   "cell_type": "code",
   "execution_count": 57,
   "metadata": {},
   "outputs": [
    {
     "data": {
      "text/html": [
       "<div>\n",
       "<style scoped>\n",
       "    .dataframe tbody tr th:only-of-type {\n",
       "        vertical-align: middle;\n",
       "    }\n",
       "\n",
       "    .dataframe tbody tr th {\n",
       "        vertical-align: top;\n",
       "    }\n",
       "\n",
       "    .dataframe thead th {\n",
       "        text-align: right;\n",
       "    }\n",
       "</style>\n",
       "<table border=\"1\" class=\"dataframe\">\n",
       "  <thead>\n",
       "    <tr style=\"text-align: right;\">\n",
       "      <th></th>\n",
       "      <th>ubigeo</th>\n",
       "      <th>departmento</th>\n",
       "      <th>provincia</th>\n",
       "      <th>distrito</th>\n",
       "      <th>source</th>\n",
       "    </tr>\n",
       "  </thead>\n",
       "  <tbody>\n",
       "    <tr>\n",
       "      <th>1451</th>\n",
       "      <td>160110</td>\n",
       "      <td>LORETO</td>\n",
       "      <td>MAYNAS</td>\n",
       "      <td>TORRES CAUSANA</td>\n",
       "      <td>INEI - CPV2017 RESULTADOS</td>\n",
       "    </tr>\n",
       "    <tr>\n",
       "      <th>1452</th>\n",
       "      <td>160113</td>\n",
       "      <td>LORETO</td>\n",
       "      <td>MAYNAS</td>\n",
       "      <td>SAN JUAN BAUTISTA</td>\n",
       "      <td>INEI - CPV2017 RESULTADOS</td>\n",
       "    </tr>\n",
       "    <tr>\n",
       "      <th>1453</th>\n",
       "      <td>160101</td>\n",
       "      <td>LORETO</td>\n",
       "      <td>MAYNAS</td>\n",
       "      <td>IQUITOS</td>\n",
       "      <td>INEI - CPV2017 RESULTADOS</td>\n",
       "    </tr>\n",
       "    <tr>\n",
       "      <th>1454</th>\n",
       "      <td>160102</td>\n",
       "      <td>LORETO</td>\n",
       "      <td>MAYNAS</td>\n",
       "      <td>ALTO NANAY</td>\n",
       "      <td>INEI - CPV2017 RESULTADOS</td>\n",
       "    </tr>\n",
       "    <tr>\n",
       "      <th>1455</th>\n",
       "      <td>160106</td>\n",
       "      <td>LORETO</td>\n",
       "      <td>MAYNAS</td>\n",
       "      <td>MAZAN</td>\n",
       "      <td>INEI - CPV2017 RESULTADOS</td>\n",
       "    </tr>\n",
       "  </tbody>\n",
       "</table>\n",
       "</div>"
      ],
      "text/plain": [
       "      ubigeo departmento provincia           distrito  \\\n",
       "1451  160110      LORETO    MAYNAS     TORRES CAUSANA   \n",
       "1452  160113      LORETO    MAYNAS  SAN JUAN BAUTISTA   \n",
       "1453  160101      LORETO    MAYNAS            IQUITOS   \n",
       "1454  160102      LORETO    MAYNAS         ALTO NANAY   \n",
       "1455  160106      LORETO    MAYNAS              MAZAN   \n",
       "\n",
       "                         source  \n",
       "1451  INEI - CPV2017 RESULTADOS  \n",
       "1452  INEI - CPV2017 RESULTADOS  \n",
       "1453  INEI - CPV2017 RESULTADOS  \n",
       "1454  INEI - CPV2017 RESULTADOS  \n",
       "1455  INEI - CPV2017 RESULTADOS  "
      ]
     },
     "execution_count": 57,
     "metadata": {},
     "output_type": "execute_result"
    }
   ],
   "source": [
    "df_districts_loreto.head()"
   ]
  },
  {
   "cell_type": "code",
   "execution_count": 58,
   "metadata": {},
   "outputs": [],
   "source": [
    "df_districts_loreto.drop(columns='source', inplace=True)"
   ]
  },
  {
   "cell_type": "code",
   "execution_count": 59,
   "metadata": {},
   "outputs": [],
   "source": [
    "df_districts_loreto.rename(columns={'departmento': 'department',\n",
    "                                    'provincia': 'province',\n",
    "                                    'distrito': 'district'},\n",
    "                           inplace=True)"
   ]
  },
  {
   "cell_type": "code",
   "execution_count": 60,
   "metadata": {},
   "outputs": [
    {
     "data": {
      "text/html": [
       "<div>\n",
       "<style scoped>\n",
       "    .dataframe tbody tr th:only-of-type {\n",
       "        vertical-align: middle;\n",
       "    }\n",
       "\n",
       "    .dataframe tbody tr th {\n",
       "        vertical-align: top;\n",
       "    }\n",
       "\n",
       "    .dataframe thead th {\n",
       "        text-align: right;\n",
       "    }\n",
       "</style>\n",
       "<table border=\"1\" class=\"dataframe\">\n",
       "  <thead>\n",
       "    <tr style=\"text-align: right;\">\n",
       "      <th></th>\n",
       "      <th>ubigeo</th>\n",
       "      <th>department</th>\n",
       "      <th>province</th>\n",
       "      <th>district</th>\n",
       "    </tr>\n",
       "  </thead>\n",
       "  <tbody>\n",
       "    <tr>\n",
       "      <th>1451</th>\n",
       "      <td>160110</td>\n",
       "      <td>LORETO</td>\n",
       "      <td>MAYNAS</td>\n",
       "      <td>TORRES CAUSANA</td>\n",
       "    </tr>\n",
       "    <tr>\n",
       "      <th>1452</th>\n",
       "      <td>160113</td>\n",
       "      <td>LORETO</td>\n",
       "      <td>MAYNAS</td>\n",
       "      <td>SAN JUAN BAUTISTA</td>\n",
       "    </tr>\n",
       "    <tr>\n",
       "      <th>1453</th>\n",
       "      <td>160101</td>\n",
       "      <td>LORETO</td>\n",
       "      <td>MAYNAS</td>\n",
       "      <td>IQUITOS</td>\n",
       "    </tr>\n",
       "    <tr>\n",
       "      <th>1454</th>\n",
       "      <td>160102</td>\n",
       "      <td>LORETO</td>\n",
       "      <td>MAYNAS</td>\n",
       "      <td>ALTO NANAY</td>\n",
       "    </tr>\n",
       "    <tr>\n",
       "      <th>1455</th>\n",
       "      <td>160106</td>\n",
       "      <td>LORETO</td>\n",
       "      <td>MAYNAS</td>\n",
       "      <td>MAZAN</td>\n",
       "    </tr>\n",
       "  </tbody>\n",
       "</table>\n",
       "</div>"
      ],
      "text/plain": [
       "      ubigeo department province           district\n",
       "1451  160110     LORETO   MAYNAS     TORRES CAUSANA\n",
       "1452  160113     LORETO   MAYNAS  SAN JUAN BAUTISTA\n",
       "1453  160101     LORETO   MAYNAS            IQUITOS\n",
       "1454  160102     LORETO   MAYNAS         ALTO NANAY\n",
       "1455  160106     LORETO   MAYNAS              MAZAN"
      ]
     },
     "execution_count": 60,
     "metadata": {},
     "output_type": "execute_result"
    }
   ],
   "source": [
    "df_districts_loreto.head()"
   ]
  },
  {
   "cell_type": "code",
   "execution_count": 61,
   "metadata": {},
   "outputs": [
    {
     "name": "stdout",
     "output_type": "stream",
     "text": [
      "<class 'pandas.core.frame.DataFrame'>\n",
      "Index: 53 entries, 1451 to 1503\n",
      "Data columns (total 4 columns):\n",
      " #   Column      Non-Null Count  Dtype \n",
      "---  ------      --------------  ----- \n",
      " 0   ubigeo      53 non-null     int64 \n",
      " 1   department  53 non-null     object\n",
      " 2   province    53 non-null     object\n",
      " 3   district    53 non-null     object\n",
      "dtypes: int64(1), object(3)\n",
      "memory usage: 2.1+ KB\n"
     ]
    }
   ],
   "source": [
    "df_districts_loreto.info()"
   ]
  },
  {
   "cell_type": "code",
   "execution_count": null,
   "metadata": {},
   "outputs": [],
   "source": []
  },
  {
   "cell_type": "markdown",
   "metadata": {},
   "source": [
    "### Population"
   ]
  },
  {
   "cell_type": "code",
   "execution_count": 62,
   "metadata": {},
   "outputs": [
    {
     "data": {
      "text/html": [
       "<div>\n",
       "<style scoped>\n",
       "    .dataframe tbody tr th:only-of-type {\n",
       "        vertical-align: middle;\n",
       "    }\n",
       "\n",
       "    .dataframe tbody tr th {\n",
       "        vertical-align: top;\n",
       "    }\n",
       "\n",
       "    .dataframe thead th {\n",
       "        text-align: right;\n",
       "    }\n",
       "</style>\n",
       "<table border=\"1\" class=\"dataframe\">\n",
       "  <thead>\n",
       "    <tr style=\"text-align: right;\">\n",
       "      <th></th>\n",
       "      <th>ubigeo</th>\n",
       "      <th>year</th>\n",
       "      <th>population</th>\n",
       "    </tr>\n",
       "  </thead>\n",
       "  <tbody>\n",
       "    <tr>\n",
       "      <th>1451</th>\n",
       "      <td>160101</td>\n",
       "      <td>2017</td>\n",
       "      <td>146853</td>\n",
       "    </tr>\n",
       "    <tr>\n",
       "      <th>1452</th>\n",
       "      <td>160102</td>\n",
       "      <td>2017</td>\n",
       "      <td>2855</td>\n",
       "    </tr>\n",
       "    <tr>\n",
       "      <th>1453</th>\n",
       "      <td>160103</td>\n",
       "      <td>2017</td>\n",
       "      <td>13875</td>\n",
       "    </tr>\n",
       "    <tr>\n",
       "      <th>1454</th>\n",
       "      <td>160104</td>\n",
       "      <td>2017</td>\n",
       "      <td>10134</td>\n",
       "    </tr>\n",
       "    <tr>\n",
       "      <th>1455</th>\n",
       "      <td>160105</td>\n",
       "      <td>2017</td>\n",
       "      <td>8032</td>\n",
       "    </tr>\n",
       "  </tbody>\n",
       "</table>\n",
       "</div>"
      ],
      "text/plain": [
       "      ubigeo  year  population\n",
       "1451  160101  2017      146853\n",
       "1452  160102  2017        2855\n",
       "1453  160103  2017       13875\n",
       "1454  160104  2017       10134\n",
       "1455  160105  2017        8032"
      ]
     },
     "execution_count": 62,
     "metadata": {},
     "output_type": "execute_result"
    }
   ],
   "source": [
    "df_population_loreto = df_population[df_population['ubigeo'].isin(ubigeos_loreto)].copy()\n",
    "\n",
    "df_population_loreto.head()"
   ]
  },
  {
   "cell_type": "code",
   "execution_count": null,
   "metadata": {},
   "outputs": [],
   "source": []
  },
  {
   "cell_type": "markdown",
   "metadata": {},
   "source": [
    "### Temperature"
   ]
  },
  {
   "cell_type": "code",
   "execution_count": 63,
   "metadata": {},
   "outputs": [],
   "source": [
    "df_temperature_loreto = df_temperature[df_temperature['ubigeo'].isin(ubigeos_loreto)].copy()"
   ]
  },
  {
   "cell_type": "code",
   "execution_count": 64,
   "metadata": {},
   "outputs": [
    {
     "data": {
      "text/html": [
       "<div>\n",
       "<style scoped>\n",
       "    .dataframe tbody tr th:only-of-type {\n",
       "        vertical-align: middle;\n",
       "    }\n",
       "\n",
       "    .dataframe tbody tr th {\n",
       "        vertical-align: top;\n",
       "    }\n",
       "\n",
       "    .dataframe thead th {\n",
       "        text-align: right;\n",
       "    }\n",
       "</style>\n",
       "<table border=\"1\" class=\"dataframe\">\n",
       "  <thead>\n",
       "    <tr style=\"text-align: right;\">\n",
       "      <th></th>\n",
       "      <th>ubigeo</th>\n",
       "      <th>mintemp_20170101</th>\n",
       "      <th>mintemp_20170102</th>\n",
       "      <th>mintemp_20170103</th>\n",
       "      <th>mintemp_20170104</th>\n",
       "      <th>mintemp_20170105</th>\n",
       "      <th>mintemp_20170106</th>\n",
       "      <th>mintemp_20170107</th>\n",
       "      <th>mintemp_20170108</th>\n",
       "      <th>mintemp_20170109</th>\n",
       "      <th>...</th>\n",
       "      <th>mintemp_20221222</th>\n",
       "      <th>mintemp_20221223</th>\n",
       "      <th>mintemp_20221224</th>\n",
       "      <th>mintemp_20221225</th>\n",
       "      <th>mintemp_20221226</th>\n",
       "      <th>mintemp_20221227</th>\n",
       "      <th>mintemp_20221228</th>\n",
       "      <th>mintemp_20221229</th>\n",
       "      <th>mintemp_20221230</th>\n",
       "      <th>mintemp_20221231</th>\n",
       "    </tr>\n",
       "  </thead>\n",
       "  <tbody>\n",
       "    <tr>\n",
       "      <th>1451</th>\n",
       "      <td>160110</td>\n",
       "      <td>22.398971</td>\n",
       "      <td>22.193321</td>\n",
       "      <td>22.281939</td>\n",
       "      <td>22.760908</td>\n",
       "      <td>22.659607</td>\n",
       "      <td>22.428437</td>\n",
       "      <td>22.14904</td>\n",
       "      <td>22.242586</td>\n",
       "      <td>22.453068</td>\n",
       "      <td>...</td>\n",
       "      <td>23.212544</td>\n",
       "      <td>23.126541</td>\n",
       "      <td>23.063195</td>\n",
       "      <td>22.085245</td>\n",
       "      <td>21.047705</td>\n",
       "      <td>21.573942</td>\n",
       "      <td>22.445662</td>\n",
       "      <td>23.331728</td>\n",
       "      <td>24.026705</td>\n",
       "      <td>23.430415</td>\n",
       "    </tr>\n",
       "    <tr>\n",
       "      <th>1452</th>\n",
       "      <td>160113</td>\n",
       "      <td>22.929784</td>\n",
       "      <td>23.282367</td>\n",
       "      <td>23.157929</td>\n",
       "      <td>23.054817</td>\n",
       "      <td>22.809816</td>\n",
       "      <td>22.651899</td>\n",
       "      <td>22.38451</td>\n",
       "      <td>22.579940</td>\n",
       "      <td>23.023932</td>\n",
       "      <td>...</td>\n",
       "      <td>22.610993</td>\n",
       "      <td>22.212691</td>\n",
       "      <td>23.194913</td>\n",
       "      <td>23.440047</td>\n",
       "      <td>22.854306</td>\n",
       "      <td>22.759035</td>\n",
       "      <td>23.180664</td>\n",
       "      <td>24.721194</td>\n",
       "      <td>24.248690</td>\n",
       "      <td>22.946884</td>\n",
       "    </tr>\n",
       "  </tbody>\n",
       "</table>\n",
       "<p>2 rows × 2192 columns</p>\n",
       "</div>"
      ],
      "text/plain": [
       "      ubigeo  mintemp_20170101  mintemp_20170102  mintemp_20170103  \\\n",
       "1451  160110         22.398971         22.193321         22.281939   \n",
       "1452  160113         22.929784         23.282367         23.157929   \n",
       "\n",
       "      mintemp_20170104  mintemp_20170105  mintemp_20170106  mintemp_20170107  \\\n",
       "1451         22.760908         22.659607         22.428437          22.14904   \n",
       "1452         23.054817         22.809816         22.651899          22.38451   \n",
       "\n",
       "      mintemp_20170108  mintemp_20170109  ...  mintemp_20221222  \\\n",
       "1451         22.242586         22.453068  ...         23.212544   \n",
       "1452         22.579940         23.023932  ...         22.610993   \n",
       "\n",
       "      mintemp_20221223  mintemp_20221224  mintemp_20221225  mintemp_20221226  \\\n",
       "1451         23.126541         23.063195         22.085245         21.047705   \n",
       "1452         22.212691         23.194913         23.440047         22.854306   \n",
       "\n",
       "      mintemp_20221227  mintemp_20221228  mintemp_20221229  mintemp_20221230  \\\n",
       "1451         21.573942         22.445662         23.331728         24.026705   \n",
       "1452         22.759035         23.180664         24.721194         24.248690   \n",
       "\n",
       "      mintemp_20221231  \n",
       "1451         23.430415  \n",
       "1452         22.946884  \n",
       "\n",
       "[2 rows x 2192 columns]"
      ]
     },
     "execution_count": 64,
     "metadata": {},
     "output_type": "execute_result"
    }
   ],
   "source": [
    "df_temperature_loreto.head(2)"
   ]
  },
  {
   "cell_type": "code",
   "execution_count": 65,
   "metadata": {},
   "outputs": [
    {
     "data": {
      "text/plain": [
       "(53, 2192)"
      ]
     },
     "execution_count": 65,
     "metadata": {},
     "output_type": "execute_result"
    }
   ],
   "source": [
    "df_temperature_loreto.shape"
   ]
  },
  {
   "cell_type": "code",
   "execution_count": null,
   "metadata": {},
   "outputs": [],
   "source": []
  },
  {
   "cell_type": "code",
   "execution_count": 66,
   "metadata": {},
   "outputs": [],
   "source": [
    "col_temp = df_temperature_loreto.columns.to_list()"
   ]
  },
  {
   "cell_type": "code",
   "execution_count": 67,
   "metadata": {},
   "outputs": [],
   "source": [
    "df_temperature_loreto_agg = pd.DataFrame()"
   ]
  },
  {
   "cell_type": "code",
   "execution_count": 68,
   "metadata": {},
   "outputs": [],
   "source": [
    "for year in df_dengue['year'].sort_values().unique():\n",
    "    for ix, week in enumerate(Year(year).iterweeks(), 1):\n",
    "        start_week = week.startdate()\n",
    "        start_week_str = start_week.strftime('%Y%m%d')\n",
    "        column_name = f'mintemp_{start_week_str}'\n",
    "        col_ix = col_temp.index(column_name)\n",
    "        df_temp_agg = df_temperature_loreto.iloc[:, col_ix: col_ix+7].agg(['min', 'mean', 'median', 'max'], axis=1)\n",
    "        df_temp_agg.loc[:, 'ubigeo'] = df_temperature_loreto.loc[:, 'ubigeo']\n",
    "        df_temp_agg.loc[:, 'year'] = year\n",
    "        df_temp_agg.loc[:, 'epi_week'] = ix\n",
    "        df_temp_agg.loc[:, 'week_start_date'] = start_week\n",
    "        df_temperature_loreto_agg = pd.concat([df_temperature_loreto_agg, df_temp_agg], ignore_index=True)"
   ]
  },
  {
   "cell_type": "code",
   "execution_count": 69,
   "metadata": {},
   "outputs": [
    {
     "data": {
      "text/plain": [
       "(16589, 8)"
      ]
     },
     "execution_count": 69,
     "metadata": {},
     "output_type": "execute_result"
    }
   ],
   "source": [
    "df_temperature_loreto_agg.shape"
   ]
  },
  {
   "cell_type": "code",
   "execution_count": 70,
   "metadata": {},
   "outputs": [
    {
     "name": "stdout",
     "output_type": "stream",
     "text": [
      "<class 'pandas.core.frame.DataFrame'>\n",
      "RangeIndex: 16589 entries, 0 to 16588\n",
      "Data columns (total 8 columns):\n",
      " #   Column           Non-Null Count  Dtype  \n",
      "---  ------           --------------  -----  \n",
      " 0   min              16589 non-null  float64\n",
      " 1   mean             16589 non-null  float64\n",
      " 2   median           16589 non-null  float64\n",
      " 3   max              16589 non-null  float64\n",
      " 4   ubigeo           16589 non-null  int64  \n",
      " 5   year             16589 non-null  int64  \n",
      " 6   epi_week         16589 non-null  int64  \n",
      " 7   week_start_date  16589 non-null  object \n",
      "dtypes: float64(4), int64(3), object(1)\n",
      "memory usage: 1.0+ MB\n"
     ]
    }
   ],
   "source": [
    "df_temperature_loreto_agg.info()"
   ]
  },
  {
   "cell_type": "code",
   "execution_count": 71,
   "metadata": {},
   "outputs": [],
   "source": [
    "df_temperature_loreto_agg.rename(columns={'min': 'week_min_temp',\n",
    "                                          'mean': 'week_mean_temp',\n",
    "                                          'median': 'week_median_temp',\n",
    "                                          'max': 'week_max_temp'},\n",
    "                                 inplace=True)"
   ]
  },
  {
   "cell_type": "code",
   "execution_count": 72,
   "metadata": {},
   "outputs": [
    {
     "data": {
      "text/html": [
       "<div>\n",
       "<style scoped>\n",
       "    .dataframe tbody tr th:only-of-type {\n",
       "        vertical-align: middle;\n",
       "    }\n",
       "\n",
       "    .dataframe tbody tr th {\n",
       "        vertical-align: top;\n",
       "    }\n",
       "\n",
       "    .dataframe thead th {\n",
       "        text-align: right;\n",
       "    }\n",
       "</style>\n",
       "<table border=\"1\" class=\"dataframe\">\n",
       "  <thead>\n",
       "    <tr style=\"text-align: right;\">\n",
       "      <th></th>\n",
       "      <th>week_min_temp</th>\n",
       "      <th>week_mean_temp</th>\n",
       "      <th>week_median_temp</th>\n",
       "      <th>week_max_temp</th>\n",
       "      <th>ubigeo</th>\n",
       "      <th>year</th>\n",
       "      <th>epi_week</th>\n",
       "      <th>week_start_date</th>\n",
       "    </tr>\n",
       "  </thead>\n",
       "  <tbody>\n",
       "    <tr>\n",
       "      <th>0</th>\n",
       "      <td>22.149040</td>\n",
       "      <td>22.410318</td>\n",
       "      <td>22.398971</td>\n",
       "      <td>22.760908</td>\n",
       "      <td>160110</td>\n",
       "      <td>2017</td>\n",
       "      <td>1</td>\n",
       "      <td>2017-01-01</td>\n",
       "    </tr>\n",
       "    <tr>\n",
       "      <th>1</th>\n",
       "      <td>22.384510</td>\n",
       "      <td>22.895875</td>\n",
       "      <td>22.929784</td>\n",
       "      <td>23.282367</td>\n",
       "      <td>160113</td>\n",
       "      <td>2017</td>\n",
       "      <td>1</td>\n",
       "      <td>2017-01-01</td>\n",
       "    </tr>\n",
       "    <tr>\n",
       "      <th>2</th>\n",
       "      <td>22.316423</td>\n",
       "      <td>23.010052</td>\n",
       "      <td>23.092643</td>\n",
       "      <td>23.357510</td>\n",
       "      <td>160101</td>\n",
       "      <td>2017</td>\n",
       "      <td>1</td>\n",
       "      <td>2017-01-01</td>\n",
       "    </tr>\n",
       "    <tr>\n",
       "      <th>3</th>\n",
       "      <td>22.098388</td>\n",
       "      <td>22.583789</td>\n",
       "      <td>22.607459</td>\n",
       "      <td>22.856836</td>\n",
       "      <td>160102</td>\n",
       "      <td>2017</td>\n",
       "      <td>1</td>\n",
       "      <td>2017-01-01</td>\n",
       "    </tr>\n",
       "    <tr>\n",
       "      <th>4</th>\n",
       "      <td>22.407559</td>\n",
       "      <td>22.741537</td>\n",
       "      <td>22.770337</td>\n",
       "      <td>22.947425</td>\n",
       "      <td>160106</td>\n",
       "      <td>2017</td>\n",
       "      <td>1</td>\n",
       "      <td>2017-01-01</td>\n",
       "    </tr>\n",
       "    <tr>\n",
       "      <th>...</th>\n",
       "      <td>...</td>\n",
       "      <td>...</td>\n",
       "      <td>...</td>\n",
       "      <td>...</td>\n",
       "      <td>...</td>\n",
       "      <td>...</td>\n",
       "      <td>...</td>\n",
       "      <td>...</td>\n",
       "    </tr>\n",
       "    <tr>\n",
       "      <th>16584</th>\n",
       "      <td>21.541519</td>\n",
       "      <td>22.456472</td>\n",
       "      <td>22.296763</td>\n",
       "      <td>23.452413</td>\n",
       "      <td>160704</td>\n",
       "      <td>2022</td>\n",
       "      <td>52</td>\n",
       "      <td>2022-12-25</td>\n",
       "    </tr>\n",
       "    <tr>\n",
       "      <th>16585</th>\n",
       "      <td>21.339140</td>\n",
       "      <td>22.686924</td>\n",
       "      <td>22.582327</td>\n",
       "      <td>24.115566</td>\n",
       "      <td>160803</td>\n",
       "      <td>2022</td>\n",
       "      <td>52</td>\n",
       "      <td>2022-12-25</td>\n",
       "    </tr>\n",
       "    <tr>\n",
       "      <th>16586</th>\n",
       "      <td>22.158935</td>\n",
       "      <td>22.927746</td>\n",
       "      <td>23.030822</td>\n",
       "      <td>23.914770</td>\n",
       "      <td>160801</td>\n",
       "      <td>2022</td>\n",
       "      <td>52</td>\n",
       "      <td>2022-12-25</td>\n",
       "    </tr>\n",
       "    <tr>\n",
       "      <th>16587</th>\n",
       "      <td>22.496234</td>\n",
       "      <td>23.063085</td>\n",
       "      <td>23.094689</td>\n",
       "      <td>23.543433</td>\n",
       "      <td>160804</td>\n",
       "      <td>2022</td>\n",
       "      <td>52</td>\n",
       "      <td>2022-12-25</td>\n",
       "    </tr>\n",
       "    <tr>\n",
       "      <th>16588</th>\n",
       "      <td>21.197747</td>\n",
       "      <td>22.670844</td>\n",
       "      <td>22.810320</td>\n",
       "      <td>24.058952</td>\n",
       "      <td>160802</td>\n",
       "      <td>2022</td>\n",
       "      <td>52</td>\n",
       "      <td>2022-12-25</td>\n",
       "    </tr>\n",
       "  </tbody>\n",
       "</table>\n",
       "<p>16589 rows × 8 columns</p>\n",
       "</div>"
      ],
      "text/plain": [
       "       week_min_temp  week_mean_temp  week_median_temp  week_max_temp  ubigeo  \\\n",
       "0          22.149040       22.410318         22.398971      22.760908  160110   \n",
       "1          22.384510       22.895875         22.929784      23.282367  160113   \n",
       "2          22.316423       23.010052         23.092643      23.357510  160101   \n",
       "3          22.098388       22.583789         22.607459      22.856836  160102   \n",
       "4          22.407559       22.741537         22.770337      22.947425  160106   \n",
       "...              ...             ...               ...            ...     ...   \n",
       "16584      21.541519       22.456472         22.296763      23.452413  160704   \n",
       "16585      21.339140       22.686924         22.582327      24.115566  160803   \n",
       "16586      22.158935       22.927746         23.030822      23.914770  160801   \n",
       "16587      22.496234       23.063085         23.094689      23.543433  160804   \n",
       "16588      21.197747       22.670844         22.810320      24.058952  160802   \n",
       "\n",
       "       year  epi_week week_start_date  \n",
       "0      2017         1      2017-01-01  \n",
       "1      2017         1      2017-01-01  \n",
       "2      2017         1      2017-01-01  \n",
       "3      2017         1      2017-01-01  \n",
       "4      2017         1      2017-01-01  \n",
       "...     ...       ...             ...  \n",
       "16584  2022        52      2022-12-25  \n",
       "16585  2022        52      2022-12-25  \n",
       "16586  2022        52      2022-12-25  \n",
       "16587  2022        52      2022-12-25  \n",
       "16588  2022        52      2022-12-25  \n",
       "\n",
       "[16589 rows x 8 columns]"
      ]
     },
     "execution_count": 72,
     "metadata": {},
     "output_type": "execute_result"
    }
   ],
   "source": [
    "df_temperature_loreto_agg"
   ]
  },
  {
   "cell_type": "code",
   "execution_count": null,
   "metadata": {},
   "outputs": [],
   "source": []
  },
  {
   "cell_type": "markdown",
   "metadata": {},
   "source": [
    "### Build dataset"
   ]
  },
  {
   "cell_type": "code",
   "execution_count": 73,
   "metadata": {},
   "outputs": [
    {
     "data": {
      "text/html": [
       "<div>\n",
       "<style scoped>\n",
       "    .dataframe tbody tr th:only-of-type {\n",
       "        vertical-align: middle;\n",
       "    }\n",
       "\n",
       "    .dataframe tbody tr th {\n",
       "        vertical-align: top;\n",
       "    }\n",
       "\n",
       "    .dataframe thead th {\n",
       "        text-align: right;\n",
       "    }\n",
       "</style>\n",
       "<table border=\"1\" class=\"dataframe\">\n",
       "  <thead>\n",
       "    <tr style=\"text-align: right;\">\n",
       "      <th></th>\n",
       "      <th>ubigeo</th>\n",
       "      <th>year</th>\n",
       "      <th>epi_week</th>\n",
       "      <th>n_cases</th>\n",
       "      <th>age_mean</th>\n",
       "      <th>age_median</th>\n",
       "      <th>gender_mode</th>\n",
       "    </tr>\n",
       "  </thead>\n",
       "  <tbody>\n",
       "    <tr>\n",
       "      <th>0</th>\n",
       "      <td>160101</td>\n",
       "      <td>2017</td>\n",
       "      <td>1</td>\n",
       "      <td>8</td>\n",
       "      <td>39.000000</td>\n",
       "      <td>38.5</td>\n",
       "      <td>F</td>\n",
       "    </tr>\n",
       "    <tr>\n",
       "      <th>1</th>\n",
       "      <td>160101</td>\n",
       "      <td>2017</td>\n",
       "      <td>2</td>\n",
       "      <td>9</td>\n",
       "      <td>28.407406</td>\n",
       "      <td>25.0</td>\n",
       "      <td>M</td>\n",
       "    </tr>\n",
       "  </tbody>\n",
       "</table>\n",
       "</div>"
      ],
      "text/plain": [
       "   ubigeo  year  epi_week  n_cases   age_mean  age_median gender_mode\n",
       "0  160101  2017         1        8  39.000000        38.5           F\n",
       "1  160101  2017         2        9  28.407406        25.0           M"
      ]
     },
     "execution_count": 73,
     "metadata": {},
     "output_type": "execute_result"
    }
   ],
   "source": [
    "df_dengue_agg.head(2)"
   ]
  },
  {
   "cell_type": "code",
   "execution_count": 74,
   "metadata": {},
   "outputs": [
    {
     "data": {
      "text/html": [
       "<div>\n",
       "<style scoped>\n",
       "    .dataframe tbody tr th:only-of-type {\n",
       "        vertical-align: middle;\n",
       "    }\n",
       "\n",
       "    .dataframe tbody tr th {\n",
       "        vertical-align: top;\n",
       "    }\n",
       "\n",
       "    .dataframe thead th {\n",
       "        text-align: right;\n",
       "    }\n",
       "</style>\n",
       "<table border=\"1\" class=\"dataframe\">\n",
       "  <thead>\n",
       "    <tr style=\"text-align: right;\">\n",
       "      <th></th>\n",
       "      <th>ubigeo</th>\n",
       "      <th>department</th>\n",
       "      <th>province</th>\n",
       "      <th>district</th>\n",
       "    </tr>\n",
       "  </thead>\n",
       "  <tbody>\n",
       "    <tr>\n",
       "      <th>1451</th>\n",
       "      <td>160110</td>\n",
       "      <td>LORETO</td>\n",
       "      <td>MAYNAS</td>\n",
       "      <td>TORRES CAUSANA</td>\n",
       "    </tr>\n",
       "    <tr>\n",
       "      <th>1452</th>\n",
       "      <td>160113</td>\n",
       "      <td>LORETO</td>\n",
       "      <td>MAYNAS</td>\n",
       "      <td>SAN JUAN BAUTISTA</td>\n",
       "    </tr>\n",
       "  </tbody>\n",
       "</table>\n",
       "</div>"
      ],
      "text/plain": [
       "      ubigeo department province           district\n",
       "1451  160110     LORETO   MAYNAS     TORRES CAUSANA\n",
       "1452  160113     LORETO   MAYNAS  SAN JUAN BAUTISTA"
      ]
     },
     "execution_count": 74,
     "metadata": {},
     "output_type": "execute_result"
    }
   ],
   "source": [
    "df_districts_loreto.head(2)"
   ]
  },
  {
   "cell_type": "code",
   "execution_count": 75,
   "metadata": {},
   "outputs": [
    {
     "data": {
      "text/html": [
       "<div>\n",
       "<style scoped>\n",
       "    .dataframe tbody tr th:only-of-type {\n",
       "        vertical-align: middle;\n",
       "    }\n",
       "\n",
       "    .dataframe tbody tr th {\n",
       "        vertical-align: top;\n",
       "    }\n",
       "\n",
       "    .dataframe thead th {\n",
       "        text-align: right;\n",
       "    }\n",
       "</style>\n",
       "<table border=\"1\" class=\"dataframe\">\n",
       "  <thead>\n",
       "    <tr style=\"text-align: right;\">\n",
       "      <th></th>\n",
       "      <th>ubigeo</th>\n",
       "      <th>year</th>\n",
       "      <th>population</th>\n",
       "    </tr>\n",
       "  </thead>\n",
       "  <tbody>\n",
       "    <tr>\n",
       "      <th>1451</th>\n",
       "      <td>160101</td>\n",
       "      <td>2017</td>\n",
       "      <td>146853</td>\n",
       "    </tr>\n",
       "    <tr>\n",
       "      <th>1452</th>\n",
       "      <td>160102</td>\n",
       "      <td>2017</td>\n",
       "      <td>2855</td>\n",
       "    </tr>\n",
       "  </tbody>\n",
       "</table>\n",
       "</div>"
      ],
      "text/plain": [
       "      ubigeo  year  population\n",
       "1451  160101  2017      146853\n",
       "1452  160102  2017        2855"
      ]
     },
     "execution_count": 75,
     "metadata": {},
     "output_type": "execute_result"
    }
   ],
   "source": [
    "df_population_loreto.head(2)"
   ]
  },
  {
   "cell_type": "code",
   "execution_count": 76,
   "metadata": {},
   "outputs": [
    {
     "data": {
      "text/html": [
       "<div>\n",
       "<style scoped>\n",
       "    .dataframe tbody tr th:only-of-type {\n",
       "        vertical-align: middle;\n",
       "    }\n",
       "\n",
       "    .dataframe tbody tr th {\n",
       "        vertical-align: top;\n",
       "    }\n",
       "\n",
       "    .dataframe thead th {\n",
       "        text-align: right;\n",
       "    }\n",
       "</style>\n",
       "<table border=\"1\" class=\"dataframe\">\n",
       "  <thead>\n",
       "    <tr style=\"text-align: right;\">\n",
       "      <th></th>\n",
       "      <th>week_min_temp</th>\n",
       "      <th>week_mean_temp</th>\n",
       "      <th>week_median_temp</th>\n",
       "      <th>week_max_temp</th>\n",
       "      <th>ubigeo</th>\n",
       "      <th>year</th>\n",
       "      <th>epi_week</th>\n",
       "      <th>week_start_date</th>\n",
       "    </tr>\n",
       "  </thead>\n",
       "  <tbody>\n",
       "    <tr>\n",
       "      <th>0</th>\n",
       "      <td>22.14904</td>\n",
       "      <td>22.410318</td>\n",
       "      <td>22.398971</td>\n",
       "      <td>22.760908</td>\n",
       "      <td>160110</td>\n",
       "      <td>2017</td>\n",
       "      <td>1</td>\n",
       "      <td>2017-01-01</td>\n",
       "    </tr>\n",
       "    <tr>\n",
       "      <th>1</th>\n",
       "      <td>22.38451</td>\n",
       "      <td>22.895875</td>\n",
       "      <td>22.929784</td>\n",
       "      <td>23.282367</td>\n",
       "      <td>160113</td>\n",
       "      <td>2017</td>\n",
       "      <td>1</td>\n",
       "      <td>2017-01-01</td>\n",
       "    </tr>\n",
       "  </tbody>\n",
       "</table>\n",
       "</div>"
      ],
      "text/plain": [
       "   week_min_temp  week_mean_temp  week_median_temp  week_max_temp  ubigeo  \\\n",
       "0       22.14904       22.410318         22.398971      22.760908  160110   \n",
       "1       22.38451       22.895875         22.929784      23.282367  160113   \n",
       "\n",
       "   year  epi_week week_start_date  \n",
       "0  2017         1      2017-01-01  \n",
       "1  2017         1      2017-01-01  "
      ]
     },
     "execution_count": 76,
     "metadata": {},
     "output_type": "execute_result"
    }
   ],
   "source": [
    "df_temperature_loreto_agg.head(2)"
   ]
  },
  {
   "cell_type": "code",
   "execution_count": 77,
   "metadata": {},
   "outputs": [],
   "source": [
    "interim_path = Path.cwd().parent.joinpath('data', 'interim')"
   ]
  },
  {
   "cell_type": "code",
   "execution_count": 78,
   "metadata": {},
   "outputs": [],
   "source": [
    "df_dengue_agg.to_csv(interim_path.joinpath('df_dengue_agg.csv'), index=False)"
   ]
  },
  {
   "cell_type": "code",
   "execution_count": 79,
   "metadata": {},
   "outputs": [],
   "source": [
    "df_districts_loreto.to_csv(interim_path.joinpath('df_districts_loreto.csv'), index=False)"
   ]
  },
  {
   "cell_type": "code",
   "execution_count": 80,
   "metadata": {},
   "outputs": [],
   "source": [
    "df_population_loreto.to_csv(interim_path.joinpath('df_population_loreto.csv'), index=False)"
   ]
  },
  {
   "cell_type": "code",
   "execution_count": 81,
   "metadata": {},
   "outputs": [],
   "source": [
    "df_temperature_loreto_agg.to_csv(interim_path.joinpath('df_temperature_loreto_agg.csv'), index=False)"
   ]
  },
  {
   "cell_type": "code",
   "execution_count": null,
   "metadata": {},
   "outputs": [],
   "source": []
  },
  {
   "cell_type": "code",
   "execution_count": 82,
   "metadata": {},
   "outputs": [],
   "source": [
    "df_dengue_loreto_week = pd.merge(df_dengue_agg, df_temperature_loreto_agg,\n",
    "                                 on=['ubigeo', 'year', 'epi_week'], how='outer')"
   ]
  },
  {
   "cell_type": "code",
   "execution_count": 83,
   "metadata": {},
   "outputs": [
    {
     "data": {
      "text/plain": [
       "(16589, 12)"
      ]
     },
     "execution_count": 83,
     "metadata": {},
     "output_type": "execute_result"
    }
   ],
   "source": [
    "df_dengue_loreto_week.shape"
   ]
  },
  {
   "cell_type": "code",
   "execution_count": 84,
   "metadata": {},
   "outputs": [
    {
     "name": "stdout",
     "output_type": "stream",
     "text": [
      "<class 'pandas.core.frame.DataFrame'>\n",
      "RangeIndex: 16589 entries, 0 to 16588\n",
      "Data columns (total 12 columns):\n",
      " #   Column            Non-Null Count  Dtype  \n",
      "---  ------            --------------  -----  \n",
      " 0   ubigeo            16589 non-null  int64  \n",
      " 1   year              16589 non-null  int64  \n",
      " 2   epi_week          16589 non-null  int64  \n",
      " 3   n_cases           3193 non-null   float64\n",
      " 4   age_mean          3193 non-null   float32\n",
      " 5   age_median        3193 non-null   float32\n",
      " 6   gender_mode       3193 non-null   object \n",
      " 7   week_min_temp     16589 non-null  float64\n",
      " 8   week_mean_temp    16589 non-null  float64\n",
      " 9   week_median_temp  16589 non-null  float64\n",
      " 10  week_max_temp     16589 non-null  float64\n",
      " 11  week_start_date   16589 non-null  object \n",
      "dtypes: float32(2), float64(5), int64(3), object(2)\n",
      "memory usage: 1.4+ MB\n"
     ]
    }
   ],
   "source": [
    "df_dengue_loreto_week.info()"
   ]
  },
  {
   "cell_type": "code",
   "execution_count": 85,
   "metadata": {},
   "outputs": [],
   "source": [
    "df_dengue_loreto_week = pd.merge(df_dengue_loreto_week, df_districts_loreto, on='ubigeo', how='left')"
   ]
  },
  {
   "cell_type": "code",
   "execution_count": 86,
   "metadata": {},
   "outputs": [],
   "source": [
    "df_dengue_loreto_week = pd.merge(df_dengue_loreto_week, df_population_loreto, on=['ubigeo', 'year'], how='left')"
   ]
  },
  {
   "cell_type": "code",
   "execution_count": 87,
   "metadata": {},
   "outputs": [
    {
     "data": {
      "text/plain": [
       "(16589, 16)"
      ]
     },
     "execution_count": 87,
     "metadata": {},
     "output_type": "execute_result"
    }
   ],
   "source": [
    "df_dengue_loreto_week.shape"
   ]
  },
  {
   "cell_type": "code",
   "execution_count": 88,
   "metadata": {},
   "outputs": [
    {
     "data": {
      "text/html": [
       "<div>\n",
       "<style scoped>\n",
       "    .dataframe tbody tr th:only-of-type {\n",
       "        vertical-align: middle;\n",
       "    }\n",
       "\n",
       "    .dataframe tbody tr th {\n",
       "        vertical-align: top;\n",
       "    }\n",
       "\n",
       "    .dataframe thead th {\n",
       "        text-align: right;\n",
       "    }\n",
       "</style>\n",
       "<table border=\"1\" class=\"dataframe\">\n",
       "  <thead>\n",
       "    <tr style=\"text-align: right;\">\n",
       "      <th></th>\n",
       "      <th>ubigeo</th>\n",
       "      <th>year</th>\n",
       "      <th>epi_week</th>\n",
       "      <th>n_cases</th>\n",
       "      <th>age_mean</th>\n",
       "      <th>age_median</th>\n",
       "      <th>gender_mode</th>\n",
       "      <th>week_min_temp</th>\n",
       "      <th>week_mean_temp</th>\n",
       "      <th>week_median_temp</th>\n",
       "      <th>week_max_temp</th>\n",
       "      <th>week_start_date</th>\n",
       "      <th>department</th>\n",
       "      <th>province</th>\n",
       "      <th>district</th>\n",
       "      <th>population</th>\n",
       "    </tr>\n",
       "  </thead>\n",
       "  <tbody>\n",
       "    <tr>\n",
       "      <th>0</th>\n",
       "      <td>0</td>\n",
       "      <td>0</td>\n",
       "      <td>0</td>\n",
       "      <td>13396</td>\n",
       "      <td>13396</td>\n",
       "      <td>13396</td>\n",
       "      <td>13396</td>\n",
       "      <td>0</td>\n",
       "      <td>0</td>\n",
       "      <td>0</td>\n",
       "      <td>0</td>\n",
       "      <td>0</td>\n",
       "      <td>0</td>\n",
       "      <td>0</td>\n",
       "      <td>0</td>\n",
       "      <td>0</td>\n",
       "    </tr>\n",
       "  </tbody>\n",
       "</table>\n",
       "</div>"
      ],
      "text/plain": [
       "   ubigeo  year  epi_week  n_cases  age_mean  age_median  gender_mode  \\\n",
       "0       0     0         0    13396     13396       13396        13396   \n",
       "\n",
       "   week_min_temp  week_mean_temp  week_median_temp  week_max_temp  \\\n",
       "0              0               0                 0              0   \n",
       "\n",
       "   week_start_date  department  province  district  population  \n",
       "0                0           0         0         0           0  "
      ]
     },
     "execution_count": 88,
     "metadata": {},
     "output_type": "execute_result"
    }
   ],
   "source": [
    "pd.DataFrame(df_dengue_loreto_week.isna().sum()).T"
   ]
  },
  {
   "cell_type": "code",
   "execution_count": 92,
   "metadata": {},
   "outputs": [],
   "source": [
    "df_dengue_loreto_week.sort_values(['year', 'epi_week', 'ubigeo'], inplace=True, ignore_index=True)"
   ]
  },
  {
   "cell_type": "code",
   "execution_count": 93,
   "metadata": {},
   "outputs": [
    {
     "data": {
      "text/html": [
       "<div>\n",
       "<style scoped>\n",
       "    .dataframe tbody tr th:only-of-type {\n",
       "        vertical-align: middle;\n",
       "    }\n",
       "\n",
       "    .dataframe tbody tr th {\n",
       "        vertical-align: top;\n",
       "    }\n",
       "\n",
       "    .dataframe thead th {\n",
       "        text-align: right;\n",
       "    }\n",
       "</style>\n",
       "<table border=\"1\" class=\"dataframe\">\n",
       "  <thead>\n",
       "    <tr style=\"text-align: right;\">\n",
       "      <th></th>\n",
       "      <th>ubigeo</th>\n",
       "      <th>year</th>\n",
       "      <th>epi_week</th>\n",
       "      <th>n_cases</th>\n",
       "      <th>age_mean</th>\n",
       "      <th>age_median</th>\n",
       "      <th>gender_mode</th>\n",
       "      <th>week_min_temp</th>\n",
       "      <th>week_mean_temp</th>\n",
       "      <th>week_median_temp</th>\n",
       "      <th>week_max_temp</th>\n",
       "      <th>week_start_date</th>\n",
       "      <th>department</th>\n",
       "      <th>province</th>\n",
       "      <th>district</th>\n",
       "      <th>population</th>\n",
       "    </tr>\n",
       "  </thead>\n",
       "  <tbody>\n",
       "    <tr>\n",
       "      <th>0</th>\n",
       "      <td>160101</td>\n",
       "      <td>2017</td>\n",
       "      <td>1</td>\n",
       "      <td>8.0</td>\n",
       "      <td>39.0</td>\n",
       "      <td>38.5</td>\n",
       "      <td>F</td>\n",
       "      <td>22.316423</td>\n",
       "      <td>23.010052</td>\n",
       "      <td>23.092643</td>\n",
       "      <td>23.357510</td>\n",
       "      <td>2017-01-01</td>\n",
       "      <td>LORETO</td>\n",
       "      <td>MAYNAS</td>\n",
       "      <td>IQUITOS</td>\n",
       "      <td>146853</td>\n",
       "    </tr>\n",
       "    <tr>\n",
       "      <th>1</th>\n",
       "      <td>160102</td>\n",
       "      <td>2017</td>\n",
       "      <td>1</td>\n",
       "      <td>NaN</td>\n",
       "      <td>NaN</td>\n",
       "      <td>NaN</td>\n",
       "      <td>NaN</td>\n",
       "      <td>22.098388</td>\n",
       "      <td>22.583789</td>\n",
       "      <td>22.607459</td>\n",
       "      <td>22.856836</td>\n",
       "      <td>2017-01-01</td>\n",
       "      <td>LORETO</td>\n",
       "      <td>MAYNAS</td>\n",
       "      <td>ALTO NANAY</td>\n",
       "      <td>2855</td>\n",
       "    </tr>\n",
       "    <tr>\n",
       "      <th>2</th>\n",
       "      <td>160103</td>\n",
       "      <td>2017</td>\n",
       "      <td>1</td>\n",
       "      <td>NaN</td>\n",
       "      <td>NaN</td>\n",
       "      <td>NaN</td>\n",
       "      <td>NaN</td>\n",
       "      <td>22.260247</td>\n",
       "      <td>22.804230</td>\n",
       "      <td>22.850060</td>\n",
       "      <td>23.272940</td>\n",
       "      <td>2017-01-01</td>\n",
       "      <td>LORETO</td>\n",
       "      <td>MAYNAS</td>\n",
       "      <td>FERNANDO LORES</td>\n",
       "      <td>13875</td>\n",
       "    </tr>\n",
       "    <tr>\n",
       "      <th>3</th>\n",
       "      <td>160104</td>\n",
       "      <td>2017</td>\n",
       "      <td>1</td>\n",
       "      <td>1.0</td>\n",
       "      <td>17.0</td>\n",
       "      <td>17.0</td>\n",
       "      <td>F</td>\n",
       "      <td>22.666827</td>\n",
       "      <td>22.903669</td>\n",
       "      <td>22.904686</td>\n",
       "      <td>23.187358</td>\n",
       "      <td>2017-01-01</td>\n",
       "      <td>LORETO</td>\n",
       "      <td>MAYNAS</td>\n",
       "      <td>INDIANA</td>\n",
       "      <td>10134</td>\n",
       "    </tr>\n",
       "    <tr>\n",
       "      <th>4</th>\n",
       "      <td>160105</td>\n",
       "      <td>2017</td>\n",
       "      <td>1</td>\n",
       "      <td>NaN</td>\n",
       "      <td>NaN</td>\n",
       "      <td>NaN</td>\n",
       "      <td>NaN</td>\n",
       "      <td>22.599678</td>\n",
       "      <td>22.746855</td>\n",
       "      <td>22.705314</td>\n",
       "      <td>22.938627</td>\n",
       "      <td>2017-01-01</td>\n",
       "      <td>LORETO</td>\n",
       "      <td>MAYNAS</td>\n",
       "      <td>LAS AMAZONAS</td>\n",
       "      <td>8032</td>\n",
       "    </tr>\n",
       "    <tr>\n",
       "      <th>...</th>\n",
       "      <td>...</td>\n",
       "      <td>...</td>\n",
       "      <td>...</td>\n",
       "      <td>...</td>\n",
       "      <td>...</td>\n",
       "      <td>...</td>\n",
       "      <td>...</td>\n",
       "      <td>...</td>\n",
       "      <td>...</td>\n",
       "      <td>...</td>\n",
       "      <td>...</td>\n",
       "      <td>...</td>\n",
       "      <td>...</td>\n",
       "      <td>...</td>\n",
       "      <td>...</td>\n",
       "      <td>...</td>\n",
       "    </tr>\n",
       "    <tr>\n",
       "      <th>16584</th>\n",
       "      <td>160706</td>\n",
       "      <td>2022</td>\n",
       "      <td>52</td>\n",
       "      <td>NaN</td>\n",
       "      <td>NaN</td>\n",
       "      <td>NaN</td>\n",
       "      <td>NaN</td>\n",
       "      <td>20.971816</td>\n",
       "      <td>22.178248</td>\n",
       "      <td>22.170410</td>\n",
       "      <td>23.354588</td>\n",
       "      <td>2022-12-25</td>\n",
       "      <td>LORETO</td>\n",
       "      <td>DATEM DEL MARAÑON</td>\n",
       "      <td>ANDOAS</td>\n",
       "      <td>16425</td>\n",
       "    </tr>\n",
       "    <tr>\n",
       "      <th>16585</th>\n",
       "      <td>160801</td>\n",
       "      <td>2022</td>\n",
       "      <td>52</td>\n",
       "      <td>7.0</td>\n",
       "      <td>21.0</td>\n",
       "      <td>18.0</td>\n",
       "      <td>M</td>\n",
       "      <td>22.158935</td>\n",
       "      <td>22.927746</td>\n",
       "      <td>23.030822</td>\n",
       "      <td>23.914770</td>\n",
       "      <td>2022-12-25</td>\n",
       "      <td>LORETO</td>\n",
       "      <td>PUTUMAYO</td>\n",
       "      <td>PUTUMAYO</td>\n",
       "      <td>4452</td>\n",
       "    </tr>\n",
       "    <tr>\n",
       "      <th>16586</th>\n",
       "      <td>160802</td>\n",
       "      <td>2022</td>\n",
       "      <td>52</td>\n",
       "      <td>NaN</td>\n",
       "      <td>NaN</td>\n",
       "      <td>NaN</td>\n",
       "      <td>NaN</td>\n",
       "      <td>21.197747</td>\n",
       "      <td>22.670844</td>\n",
       "      <td>22.810320</td>\n",
       "      <td>24.058952</td>\n",
       "      <td>2022-12-25</td>\n",
       "      <td>LORETO</td>\n",
       "      <td>PUTUMAYO</td>\n",
       "      <td>ROSA PANDURO</td>\n",
       "      <td>608</td>\n",
       "    </tr>\n",
       "    <tr>\n",
       "      <th>16587</th>\n",
       "      <td>160803</td>\n",
       "      <td>2022</td>\n",
       "      <td>52</td>\n",
       "      <td>2.0</td>\n",
       "      <td>22.5</td>\n",
       "      <td>22.5</td>\n",
       "      <td>F</td>\n",
       "      <td>21.339140</td>\n",
       "      <td>22.686924</td>\n",
       "      <td>22.582327</td>\n",
       "      <td>24.115566</td>\n",
       "      <td>2022-12-25</td>\n",
       "      <td>LORETO</td>\n",
       "      <td>PUTUMAYO</td>\n",
       "      <td>TENIENTE MANUEL CLAVERO</td>\n",
       "      <td>2408</td>\n",
       "    </tr>\n",
       "    <tr>\n",
       "      <th>16588</th>\n",
       "      <td>160804</td>\n",
       "      <td>2022</td>\n",
       "      <td>52</td>\n",
       "      <td>NaN</td>\n",
       "      <td>NaN</td>\n",
       "      <td>NaN</td>\n",
       "      <td>NaN</td>\n",
       "      <td>22.496234</td>\n",
       "      <td>23.063085</td>\n",
       "      <td>23.094689</td>\n",
       "      <td>23.543433</td>\n",
       "      <td>2022-12-25</td>\n",
       "      <td>LORETO</td>\n",
       "      <td>PUTUMAYO</td>\n",
       "      <td>YAGUAS</td>\n",
       "      <td>1610</td>\n",
       "    </tr>\n",
       "  </tbody>\n",
       "</table>\n",
       "<p>16589 rows × 16 columns</p>\n",
       "</div>"
      ],
      "text/plain": [
       "       ubigeo  year  epi_week  n_cases  age_mean  age_median gender_mode  \\\n",
       "0      160101  2017         1      8.0      39.0        38.5           F   \n",
       "1      160102  2017         1      NaN       NaN         NaN         NaN   \n",
       "2      160103  2017         1      NaN       NaN         NaN         NaN   \n",
       "3      160104  2017         1      1.0      17.0        17.0           F   \n",
       "4      160105  2017         1      NaN       NaN         NaN         NaN   \n",
       "...       ...   ...       ...      ...       ...         ...         ...   \n",
       "16584  160706  2022        52      NaN       NaN         NaN         NaN   \n",
       "16585  160801  2022        52      7.0      21.0        18.0           M   \n",
       "16586  160802  2022        52      NaN       NaN         NaN         NaN   \n",
       "16587  160803  2022        52      2.0      22.5        22.5           F   \n",
       "16588  160804  2022        52      NaN       NaN         NaN         NaN   \n",
       "\n",
       "       week_min_temp  week_mean_temp  week_median_temp  week_max_temp  \\\n",
       "0          22.316423       23.010052         23.092643      23.357510   \n",
       "1          22.098388       22.583789         22.607459      22.856836   \n",
       "2          22.260247       22.804230         22.850060      23.272940   \n",
       "3          22.666827       22.903669         22.904686      23.187358   \n",
       "4          22.599678       22.746855         22.705314      22.938627   \n",
       "...              ...             ...               ...            ...   \n",
       "16584      20.971816       22.178248         22.170410      23.354588   \n",
       "16585      22.158935       22.927746         23.030822      23.914770   \n",
       "16586      21.197747       22.670844         22.810320      24.058952   \n",
       "16587      21.339140       22.686924         22.582327      24.115566   \n",
       "16588      22.496234       23.063085         23.094689      23.543433   \n",
       "\n",
       "      week_start_date department           province                 district  \\\n",
       "0          2017-01-01     LORETO             MAYNAS                  IQUITOS   \n",
       "1          2017-01-01     LORETO             MAYNAS               ALTO NANAY   \n",
       "2          2017-01-01     LORETO             MAYNAS           FERNANDO LORES   \n",
       "3          2017-01-01     LORETO             MAYNAS                  INDIANA   \n",
       "4          2017-01-01     LORETO             MAYNAS             LAS AMAZONAS   \n",
       "...               ...        ...                ...                      ...   \n",
       "16584      2022-12-25     LORETO  DATEM DEL MARAÑON                   ANDOAS   \n",
       "16585      2022-12-25     LORETO           PUTUMAYO                 PUTUMAYO   \n",
       "16586      2022-12-25     LORETO           PUTUMAYO             ROSA PANDURO   \n",
       "16587      2022-12-25     LORETO           PUTUMAYO  TENIENTE MANUEL CLAVERO   \n",
       "16588      2022-12-25     LORETO           PUTUMAYO                   YAGUAS   \n",
       "\n",
       "       population  \n",
       "0          146853  \n",
       "1            2855  \n",
       "2           13875  \n",
       "3           10134  \n",
       "4            8032  \n",
       "...           ...  \n",
       "16584       16425  \n",
       "16585        4452  \n",
       "16586         608  \n",
       "16587        2408  \n",
       "16588        1610  \n",
       "\n",
       "[16589 rows x 16 columns]"
      ]
     },
     "execution_count": 93,
     "metadata": {},
     "output_type": "execute_result"
    }
   ],
   "source": [
    "df_dengue_loreto_week"
   ]
  },
  {
   "cell_type": "markdown",
   "metadata": {},
   "source": [
    "* El dataframe está ordenado según año, semana epidemiológica y ubigeo en orden ascendente.\n",
    "* El dataframe contiene la información de los 4 conjuntos de datos trabajados en este cuaderno.\n",
    "* La presencia de valores nulos significa que hay semanas en las que no se han registrado casos de dengue en toda la región de Loreto."
   ]
  },
  {
   "cell_type": "code",
   "execution_count": null,
   "metadata": {},
   "outputs": [],
   "source": []
  },
  {
   "cell_type": "markdown",
   "metadata": {},
   "source": [
    "## Load"
   ]
  },
  {
   "cell_type": "code",
   "execution_count": 94,
   "metadata": {},
   "outputs": [],
   "source": [
    "save_path = Path.cwd().parent.joinpath('data', 'processed')"
   ]
  },
  {
   "cell_type": "code",
   "execution_count": 95,
   "metadata": {},
   "outputs": [],
   "source": [
    "df_dengue_loreto_week.to_csv(save_path.joinpath('dengue_loreto_SE.csv'), index=False)"
   ]
  },
  {
   "cell_type": "code",
   "execution_count": null,
   "metadata": {},
   "outputs": [],
   "source": []
  }
 ],
 "metadata": {
  "kernelspec": {
   "display_name": ".innovalab",
   "language": "python",
   "name": "python3"
  },
  "language_info": {
   "codemirror_mode": {
    "name": "ipython",
    "version": 3
   },
   "file_extension": ".py",
   "mimetype": "text/x-python",
   "name": "python",
   "nbconvert_exporter": "python",
   "pygments_lexer": "ipython3",
   "version": "3.10.11"
  }
 },
 "nbformat": 4,
 "nbformat_minor": 2
}
